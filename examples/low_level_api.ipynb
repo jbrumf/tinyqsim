{
 "cells": [
  {
   "cell_type": "code",
   "execution_count": 1,
   "id": "585b4daa-95c1-4ee3-831f-8837940cefca",
   "metadata": {},
   "outputs": [],
   "source": [
    "# This cell is needed if running from source directory without installing TinyQsim\\n\"\n",
    "import sys, os\n",
    "sys.path.append(os.path.abspath('..'))"
   ]
  },
  {
   "cell_type": "markdown",
   "id": "39fbda1f-6165-4e4c-a824-1f0d8225add4",
   "metadata": {},
   "source": [
    "## Use of Low-Level API"
   ]
  },
  {
   "cell_type": "markdown",
   "id": "b92e870d-a0b1-4508-bd57-dcce090c5fae",
   "metadata": {},
   "source": [
    "The normal way to use TinyQsim is through the QCircuit interface. This manages all the components of the the simulator and presents them to the user with a simple API.\n",
    "\n",
    "It is also possible to use the low-level API of the underlying modules directly, although this is not recommended as the QCircuit interface is simpler to use and likely to be more stable when changes are made to the implementation. However, for anyone who might find it useful, this notebook shows how the low-level interface can be used."
   ]
  },
  {
   "cell_type": "markdown",
   "id": "90f997ff-e29b-4e53-991c-f9ea49dfcf79",
   "metadata": {},
   "source": [
    "### Imports"
   ]
  },
  {
   "cell_type": "markdown",
   "id": "caf07f6f-e268-4075-b648-e43e24a6d72f",
   "metadata": {},
   "source": [
    "The first step is to import the necessary modules:"
   ]
  },
  {
   "cell_type": "code",
   "execution_count": 2,
   "id": "3b9ae09d-d9c7-4e29-a1fa-a5fb0f740167",
   "metadata": {},
   "outputs": [],
   "source": [
    "from tinyqsim import quantum\n",
    "from tinyqsim.quantum import *\n",
    "from tinyqsim.plotting import plot_histogram\n",
    "from tinyqsim.gates import *\n",
    "from tinyqsim.schematic import Schematic\n",
    "from tinyqsim.model import Model\n",
    "from tinyqsim.simulator import Simulator"
   ]
  },
  {
   "cell_type": "markdown",
   "id": "dbe2c110-a338-441e-9669-a17652f206be",
   "metadata": {},
   "source": [
    "### Creating a Circuit"
   ]
  },
  {
   "cell_type": "markdown",
   "id": "0e327909-5ddd-4f51-8706-16846bcdefb1",
   "metadata": {},
   "source": [
    "The next step is to create a circuit model and add some gates to it:"
   ]
  },
  {
   "cell_type": "code",
   "execution_count": 3,
   "id": "a06adb74-0f17-4738-b06a-201b8fa8efda",
   "metadata": {},
   "outputs": [],
   "source": [
    "nqubits = 2\n",
    "\n",
    "model = Model(nqubits)\n",
    "model.add_gate('H', [0])\n",
    "model.add_gate('X', [1])\n",
    "model.add_gate('CX', [0, 1])"
   ]
  },
  {
   "cell_type": "markdown",
   "id": "30c7caff-6f93-40ba-89ec-3fc2f8d47456",
   "metadata": {},
   "source": [
    "We can then create a circuit Schematic and ask it to draw the model:"
   ]
  },
  {
   "cell_type": "code",
   "execution_count": 4,
   "id": "4332ce69-c5af-4d05-9caa-fa69ffb183eb",
   "metadata": {},
   "outputs": [
    {
     "data": {
      "image/png": "[encoded data removed]",
      "text/plain": [
       "<Figure size 165.354x129.921 with 1 Axes>"
      ]
     },
     "metadata": {},
     "output_type": "display_data"
    }
   ],
   "source": [
    "cct = Schematic(nqubits)\n",
    "cct.draw(model)"
   ]
  },
  {
   "cell_type": "markdown",
   "id": "375736c8-d96d-476f-a199-1212080a965c",
   "metadata": {},
   "source": [
    "### Running the Circuit"
   ]
  },
  {
   "cell_type": "markdown",
   "id": "9f56fb7b-755e-427d-8385-39216b04fcb2",
   "metadata": {},
   "source": [
    "Next, a state simulator can be created and asked to execute the model:"
   ]
  },
  {
   "cell_type": "code",
   "execution_count": 5,
   "id": "85bcf49b-1c45-4203-ad16-540e5d884e79",
   "metadata": {},
   "outputs": [],
   "source": [
    "sim = Simulator(nqubits)\n",
    "sim.execute(model)"
   ]
  },
  {
   "cell_type": "markdown",
   "id": "fad4180e-10be-4a9e-a110-07d9dd37995a",
   "metadata": {},
   "source": [
    "The state can be printed as follows:"
   ]
  },
  {
   "cell_type": "code",
   "execution_count": 6,
   "id": "d5ccb223-1faa-43db-9409-adab2e57822f",
   "metadata": {},
   "outputs": [
    {
     "name": "stdout",
     "output_type": "stream",
     "text": [
      "[0.         0.70710678 0.70710678 0.        ]\n"
     ]
    }
   ],
   "source": [
    "print(sim.state)"
   ]
  },
  {
   "cell_type": "markdown",
   "id": "952f40ac-c3d9-486d-838b-b65c6e6e29f2",
   "metadata": {},
   "source": [
    "A histogram of the probabilities can be plotted like this:"
   ]
  },
  {
   "cell_type": "code",
   "execution_count": 7,
   "id": "6e2a7b6c-caeb-4c15-80c4-d2ad4ba74f8a",
   "metadata": {},
   "outputs": [
    {
     "data": {
      "image/png": "[encoded data removed]",
      "text/plain": [
       "<Figure size 500x250 with 1 Axes>"
      ]
     },
     "metadata": {},
     "output_type": "display_data"
    }
   ],
   "source": [
    "probs = probability_dict(sim.state, [0, 1])\n",
    "plot_histogram(probs, ylabel='Probability')"
   ]
  },
  {
   "cell_type": "markdown",
   "id": "14aa6fc4-7df0-4270-b28b-cd24b7d7ae52",
   "metadata": {},
   "source": [
    "A histogram of measurement counts can be plotted in a similar way:"
   ]
  },
  {
   "cell_type": "code",
   "execution_count": 8,
   "id": "4c144f3f-5b02-48f0-8b48-20af0a1cf133",
   "metadata": {},
   "outputs": [
    {
     "data": {
      "image/png": "[encoded data removed]",
      "text/plain": [
       "<Figure size 500x250 with 1 Axes>"
      ]
     },
     "metadata": {},
     "output_type": "display_data"
    }
   ],
   "source": [
    "probs = counts_dict(sim.state, [0, 1])\n",
    "plot_histogram(probs, ylabel='Counts')"
   ]
  },
  {
   "cell_type": "markdown",
   "id": "554e0a54-7003-43e8-be2b-9c972eb67f6c",
   "metadata": {},
   "source": [
    "### Adding more Gates"
   ]
  },
  {
   "cell_type": "markdown",
   "id": "93854eba-873e-4b76-bbce-482d45f56bc0",
   "metadata": {},
   "source": [
    "If more gates are added to the model after it has been run, it is necessary to execute it again. This is illustrated by the following example which adds measurement gates to the circuit and re-runs it:"
   ]
  },
  {
   "cell_type": "code",
   "execution_count": 9,
   "id": "384eb01f-6b81-47cc-9e07-bd21cf76b110",
   "metadata": {},
   "outputs": [
    {
     "data": {
      "image/png": "[encoded data removed]",
      "text/plain": [
       "<Figure size 236.22x129.921 with 1 Axes>"
      ]
     },
     "metadata": {},
     "output_type": "display_data"
    },
    {
     "name": "stdout",
     "output_type": "stream",
     "text": [
      "Measured qubits[0, 1] -> [0 1]\n"
     ]
    }
   ],
   "source": [
    "model.add_gate('measure', [0,1])\n",
    "cct.draw(model)\n",
    "sim.execute(model)"
   ]
  },
  {
   "cell_type": "markdown",
   "id": "daf2b750-5ffc-40fd-9b04-06342182ad2b",
   "metadata": {},
   "source": [
    "The result of any measurement is printed when the circuit is executed, as shown here."
   ]
  },
  {
   "cell_type": "markdown",
   "id": "47abd228-ae51-418e-ad25-efc75ec8bead",
   "metadata": {},
   "source": [
    "### Final Remarks"
   ]
  },
  {
   "cell_type": "markdown",
   "id": "9f21ca21-38d1-4d5f-82f5-1cd96ca20d7b",
   "metadata": {},
   "source": [
    "TinyQsim's QCircuit class works in incremental mode, so that gates are executed one-at-a-time as they are added to the circuit. This makes it unnecessary to explicitly execute the circuit after creating it. However, when using the low-level API, it is easier to create the circuit and then execute it or adding more gates.\n",
    "\n",
    "Finally, as mentioned earlier, please be aware that the low-level API may change when improvements are made to the implementation."
   ]
  },
  {
   "cell_type": "code",
   "execution_count": null,
   "id": "ada01f8d-2ca3-426f-8f1c-6cc0da2905e9",
   "metadata": {},
   "outputs": [],
   "source": []
  }
 ],
 "metadata": {
  "kernelspec": {
   "display_name": "Python 3 (ipykernel)",
   "language": "python",
   "name": "python3"
  },
  "language_info": {
   "codemirror_mode": {
    "name": "ipython",
    "version": 3
   },
   "file_extension": ".py",
   "mimetype": "text/x-python",
   "name": "python",
   "nbconvert_exporter": "python",
   "pygments_lexer": "ipython3",
   "version": "3.12.3"
  }
 },
 "nbformat": 4,
 "nbformat_minor": 5
}
