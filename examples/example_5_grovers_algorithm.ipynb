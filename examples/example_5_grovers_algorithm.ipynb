{
 "cells": [
  {
   "cell_type": "markdown",
   "id": "7c8a3f2f-498e-4727-bf0c-b487b8ddfe42",
   "metadata": {},
   "source": [
    "## Example 5: Grover's Algorithm"
   ]
  },
  {
   "cell_type": "markdown",
   "id": "67221fb1-113c-4600-ad8b-1f305eee9930",
   "metadata": {},
   "source": [
    "### Purpose"
   ]
  },
  {
   "cell_type": "markdown",
   "id": "34e67ebe-c57e-4dfc-8be7-9c16272f817d",
   "metadata": {},
   "source": [
    "This example demonstrates how Grover's Search Algorithm may be used to solve search problems that involve finding the input to a black-box function that produces a particular output. "
   ]
  },
  {
   "cell_type": "markdown",
   "id": "edc91b72-cc90-4a64-8a51-bfa7fd02dba7",
   "metadata": {},
   "source": [
    "### Introduction"
   ]
  },
  {
   "cell_type": "markdown",
   "id": "a424dd52-f288-4753-a787-d7627becc8d0",
   "metadata": {},
   "source": [
    "There is an important class of problems in computing where you can quickly check a candidate solution, but it is very hard to find the solution other than by trying all the different possibilities or just guessing. For example, you can quickly look up someone's phone number in a  phone book if you know their name, but it is very difficult to find their name if you only know their phone number. Problems of this kind fall in a complexity class known as \"NP\". In general, for a list of $N$ items it would take order $\\mathcal{O}(N)$ steps to go through the possibilities. Grover's algorithm can in principle solve problems of this kind in $\\mathcal{O}(\\sqrt{N})$ steps on a quantum computer.\n",
    "\n",
    "We can abstract problems of this kind as a one-way black-box function known as an \"oracle\". We can ask the oracle whether something is a solution and it will give the reply 'yes' or 'no'.\n",
    "\n",
    "This notebook starts by looking at how Grover's algorithm works. It then explores a simple example in detail and implements it using TinyQsim. The example involves finding a hidden secret number in the minimum number of guesses. The oracle hides the secret number and can only reply 'yes' or 'no' to the guesses. In a more realistic application, an oracle might check whether something satisfies a constraint, rather than just hiding a pre-existing answer.\n",
    "\n",
    "Using a simulator, it is only possible to demonstrate the algorithm using a trivial example. For it to be of practical use, a real quantum computer with hundreds or thousands of logical qubits would be necessary."
   ]
  },
  {
   "cell_type": "markdown",
   "id": "227d9249-3679-4d22-bf4b-fcd53e238d84",
   "metadata": {},
   "source": [
    "### Setup\n",
    "\n",
    "The example will make use of the following Python imports."
   ]
  },
  {
   "cell_type": "code",
   "execution_count": 1,
   "id": "8c78da01-2418-4fbc-8b94-2170833dd8b5",
   "metadata": {},
   "outputs": [],
   "source": [
    "from tinyqsim.qcircuit import QCircuit\n",
    "from tinyqsim.gates import Z, cu\n",
    "from tinyqsim.quantum import basis_names, n_qubits\n",
    "import numpy as np"
   ]
  },
  {
   "cell_type": "markdown",
   "id": "4256dab8-cf81-40ce-ae36-cc32c3826a96",
   "metadata": {},
   "source": [
    "The following function will be useful to print the maximum probability. If two or more states have this value, only one is printed."
   ]
  },
  {
   "cell_type": "code",
   "execution_count": 2,
   "id": "943b4fae-f8fe-43a2-95df-2ed1d4363435",
   "metadata": {},
   "outputs": [],
   "source": [
    "def print_max_probability(qc):\n",
    "    \"\"\"Print the state that has the maximum probability.\"\"\"\n",
    "    k, v = (max(qc.probability_dict().items(), key=lambda x: x[1]))\n",
    "    print(f'Max probability = {v:.4f} for state {k}')"
   ]
  },
  {
   "cell_type": "markdown",
   "id": "0dee786b-ff3e-4085-9dba-03c8cee7bb3e",
   "metadata": {},
   "source": [
    "### How the Algorithm Works"
   ]
  },
  {
   "cell_type": "markdown",
   "id": "8e6f3022-19eb-4194-8d4f-a5cdf786e684",
   "metadata": {},
   "source": [
    "Grover's algorithm starts by placing the quantum state into an equal superposition $\\ket{s}$ of the $N=2^K$ basis states. The solution we are searching for corresponds to the basis state $\\ket{\\omega}$. We will assume for simplicity that the problem has a single solution. However, the method can be generalized to cases where there are multiple solutions.\n",
    "\n",
    "The superposition of the remaining $N-1$ basis states forms the vector $\\ket{\\omega_\\perp}$, which is orthogonal to $\\ket{\\omega}$. The two vectors $\\ket{\\omega_\\perp}$ and $\\ket{\\omega}$ span an (unknown) two-dimensional plane in the N-dimensional complex vector space, as shown here:\n",
    "\n",
    "<img src=\"assets/grover1.png\" style=\"height:250px\">\n",
    "\n",
    "The initial superposition state is:\n",
    "\n",
    "$$\n",
    "\\ket{s} = {\\small\\frac{1}{\\sqrt{N}}}\\sum_{i=0}^N{\\ket{x_i}} = \\ket{+\\dots +}\n",
    "$$\n",
    "\n",
    "This can be written as the sum of two orthogonal vectors:\n",
    "\n",
    "$$\n",
    "\\ket{s} = \\sqrt{\\frac{1}{N}}\\ \\ket{\\omega} + \\sqrt{\\frac{N-1}{N}}\\ \\ket{\\omega_\\perp}\n",
    "$$\n",
    "\n",
    "Consequently, the angle $\\theta$ between $\\ket{s}$ and $\\ket{\\omega_\\perp}$ given by:\n",
    "\n",
    "$$\n",
    "\\theta=\\arcsin\\left(\\frac{1}{\\sqrt{N}}\\right)\n",
    "$$\n",
    "\n",
    "For $N\\gg 1$ this can be approximated as:\n",
    "\n",
    "$$\n",
    "\\theta\\approx\\frac{1}{\\sqrt{N}}\n",
    "$$\n",
    "\n",
    "Grover's algorithm starts by initializing the state to the superposition $\\ket{s}$ and then performs a sequence of iterations that rotate the state vector until it is close to the solution state $\\ket{\\omega}$. This results in a high probability of getting the correct solution when the state is measured.\n",
    "\n",
    "The first two iterations are illustrated by the following diagram:"
   ]
  },
  {
   "cell_type": "markdown",
   "id": "2186e2c5-9a00-41e6-b01d-53bc8c63fc5e",
   "metadata": {},
   "source": [
    "<img src=\"assets/grover2.png\" style=\"height:250px\">"
   ]
  },
  {
   "cell_type": "markdown",
   "id": "2890e643-9ff5-4f31-a43f-82a1b40fefc4",
   "metadata": {},
   "source": [
    "Each iteration consists of the application of unitary operators $U_\\omega$ and $U_s$, where $U_\\omega$ is the oracle and $U_s$ is called the Diffusion operator.\n",
    "\n",
    "- The state is initialized to the equal superposition $\\ket{s}=\\ket{+\\dots +}$\n",
    "- The operator $U_\\omega$ then flips the state about $\\ket{\\omega_\\perp}$ resulting in $U_\\omega\\ket{s}$\n",
    "- The operator $U_s$ then flips the state about $\\ket{s}$ resulting in $U_sU_\\omega\\ket{s}$\n",
    "\n",
    "All the vectors are in the plane spanned by $\\ket{\\omega}$ and $\\ket{s}$. The effect of two flips in a plane, about axes separated by $\\theta$, is rotation by $2\\theta$ (see diagram).\n",
    "\n",
    "Successive iterations of $U_sU_\\omega$ are applied until the state is as close as possible to the solution state $\\ket{\\omega}$, which occurs when the total angle is close to $\\frac{\\pi}{2}$. A measurement of the state then has a high probability of yielding the solution state $\\ket{\\omega}$.\n",
    "\n",
    "So the overall algorithm is as follows:\n",
    "\n",
    "- Calculate the number of iterations $\\nu$ that are needed.\n",
    "- Initialize the state to the equal superposition $\\ket{s}$\n",
    "- Repeat $\\nu$ times:\n",
    "  - Apply the oracle $U_\\omega$\n",
    "  - Apply the diffusion operator $U_s$\n",
    "- Measure the state, yielding the result $\\omega$ with high probability."
   ]
  },
  {
   "cell_type": "markdown",
   "id": "de5b61bc-89c1-4e50-8e21-f267dc417510",
   "metadata": {},
   "source": [
    "### Knowing when to Stop\n",
    "\n",
    "The total angle $\\phi$ starts at $\\theta$ and increases by $2\\theta$ with each iteration. After $\\nu$ iterations, the total angle $\\phi$ is:\n",
    "\n",
    "$$\n",
    "\\phi=(2\\nu+1)\\ \\theta\\approx\\frac{1}{\\sqrt{N}}(2\\nu+1)\n",
    "$$\n",
    "\n",
    "We want this to be as close to $\\frac{\\pi}{2}$ as possible. Consequently, the required number of iterations, which must be an integer, is:\n",
    "\n",
    "$$\n",
    "\\nu = \\left\\lfloor\\frac{\\pi}{4}\\sqrt{N}\\right\\rfloor\n",
    "$$"
   ]
  },
  {
   "cell_type": "markdown",
   "id": "39366413-c140-4345-a460-fabf9aa70565",
   "metadata": {},
   "source": [
    "This explains why the algorithmic complexity, in terms of the number of iterations, is $\\mathcal{O}(\\sqrt{N})$.\n",
    "\n",
    "The following function can be used to calculate $\\nu$:"
   ]
  },
  {
   "cell_type": "code",
   "execution_count": 3,
   "id": "2b92ebbe-1af4-49af-9838-aa645aa6405d",
   "metadata": {},
   "outputs": [],
   "source": [
    "def required_iterations(k: int):\n",
    "    \"\"\"Return the optimum number of Grover iterations.\n",
    "    :param k: number of bits\n",
    "    \"\"\"\n",
    "    return int(np.sqrt(2**k) * np.pi / 4)"
   ]
  },
  {
   "cell_type": "markdown",
   "id": "293fffac-49e2-4ba5-a6d7-9d162c949062",
   "metadata": {},
   "source": [
    "The probability $P(\\nu, K)$ of measuring the correct result after $\\nu$ iterations is:\n",
    "\n",
    "$$\n",
    "\\begin{align*}\n",
    "P(\\nu, K) &= \\sin^2(\\phi)\\\\\n",
    "&\\approx\\sin^2\\left[(2\\nu + 1)\\frac{1}{\\sqrt{2^K}}\\right]\n",
    "\\end{align*}\n",
    "$$\n",
    "\n",
    "When $N$ is large, which will normally be the case for problems where the algorithm is needed, the probability of getting the correct result is very close to one."
   ]
  },
  {
   "cell_type": "code",
   "execution_count": 4,
   "id": "ce62dc3a-70ed-45a0-ae49-aac259f1891a",
   "metadata": {},
   "outputs": [],
   "source": [
    "def prob(nu, K):\n",
    "    \"\"\"Return the probability of success after nu iterations.\"\"\"\n",
    "    return np.sin((2 * nu + 1) /np.sqrt(2**K)) ** 2"
   ]
  },
  {
   "cell_type": "markdown",
   "id": "61f2fc91-f2bb-4f89-9f4e-775b9a943b71",
   "metadata": {},
   "source": [
    "### Reflections"
   ]
  },
  {
   "cell_type": "markdown",
   "id": "6e327764-324b-4101-88f8-2e037b55dbf8",
   "metadata": {},
   "source": [
    "An operator $U_x$ which reflects about the hyperplane orthogonal to $\\ket{x}$ can be defined as:\n",
    "\n",
    "$$\n",
    "U_x = \\mathbb{I} - 2\\ket{x}\\bra{x}\n",
    "$$\n",
    "\n",
    "To see why this is the case, we can apply it to a vector $\\ket{\\psi}$:\n",
    "\n",
    "$$\n",
    "\\begin{align*}\n",
    "U\\ket{\\psi} &= (\\mathbb{I}-2\\ket{x}\\bra{x})\\ \\ket{\\psi}\\\\[0.4em]\n",
    "&= \\ket{\\psi}-2\\ket{x}\\braket{x|\\psi}\\\\[0.4em]\n",
    "&= \\begin{cases}\n",
    "      -\\ket{\\psi}, & \\text{if $\\psi=x$}\\\\\n",
    "      +\\ket{\\psi}, & \\text{if $\\psi \\ne x$}\n",
    "\\end{cases}\n",
    "\\end{align*}\n",
    "$$\n",
    "\n",
    "It flips the component of the vector $\\ket{\\psi}$ that is along $\\ket{x}$, while leaving the other components which are orthogonal to $\\ket{x}$ unchanged. This is equivalent to reflecting $\\ket{\\psi}$ about the hyperplane orthogonal to $\\ket{x}$."
   ]
  },
  {
   "cell_type": "markdown",
   "id": "4565146b-a687-464c-a1b8-d6b87c798fd7",
   "metadata": {},
   "source": [
    "### MCZ Gate\n",
    "\n",
    "In order to perform the flip operations, we will make use of a Multi-Controlled-Z (MCZ) gate. When an MCZ appears in an algebraic expression as an operator, it will be denoted by $M_{cz}$ so that it isn't confused with the composition of three separate operators.\n",
    "\n",
    "$M_{cz}$ is equivalent to the $U_x$ operator described above, for the specific case of $\\ket{x}=\\ket{1\\dots 1}$.\n",
    "\n",
    "$$\n",
    "M_{cz}=\\mathbb{I}-2\\ket{1\\dots 1}\\bra{1\\dots 1}\n",
    "$$\n",
    "\n",
    "In other words, it flips the sign of the $\\ket{1\\dots 1}$ state and leaves all the others unchanged.\n",
    "\n",
    "$$\n",
    "M_{cz}\\ket{x} = \\begin{cases}\n",
    "      -\\ket{x}, & \\text{if $\\ket{x}=\\ket{1\\dots 1}$}\\\\\n",
    "      +\\ket{x}, & \\text{if $\\ket{x}\\ne\\ket{1\\dots 1}$}\n",
    "\\end{cases}\n",
    "$$\n",
    "\n",
    "It is easy to make it work for vectors other than $\\ket{1\\dots 1}$, by applying a suitable transformation. Consequently, we can use it to implement both the oracle and the diffusion operator.\n",
    "\n",
    "The following is a simple implementation of a K-qubit MCZ gate in TinyQsim as a matrix. There are other ways to implement an MCZ that scale better for more qubits, but this will suffice as the purpose of this notebook is just to demonstrate the principle of Grover's algorithm. "
   ]
  },
  {
   "cell_type": "code",
   "execution_count": 5,
   "id": "f15bcf15-e091-418b-ab89-8bbf87b0acba",
   "metadata": {},
   "outputs": [],
   "source": [
    "def mcz(qc, k):\n",
    "    \"\"\"Multi-controlled Z gate applied to qubits 0 to k-1.\"\"\"\n",
    "    qc.u(cu(Z, k-1), 'MCZ', *range(k))"
   ]
  },
  {
   "cell_type": "markdown",
   "id": "deb6d7fe-7959-468e-80d2-5617764874d0",
   "metadata": {},
   "source": [
    "---\n",
    "\n",
    "### The Example Problem\n",
    "\n",
    "For our example, the oracle will hide a secret K-bit binary number. Our goal is to find the secret number by asking the oracle whether specific \"guesses\" are correct, without going through the $N=2^K$ possibilities one at a time. On a classical computer it would take $\\frac{N}{2}$ attempts on average and $N$ in the worst case. With a quantum computer we can solve it in order $\\mathcal{O}(\\sqrt{N})$ attempts with very high probability. The advantage of the quantum algorithm gets progressively better as the size of the search space increases.\n",
    "\n",
    "The $2^K$ possible values are represented as the basis states of a K-qubit quantum state. If we query the oracle with the correct solution state, it will indicate its \"yes\" answer by flipping the sign of the state, otherwise it will leave the sign unchanged."
   ]
  },
  {
   "cell_type": "markdown",
   "id": "0985815e-561e-47ad-a02b-eabbc3d53d02",
   "metadata": {},
   "source": [
    "### The Oracle"
   ]
  },
  {
   "cell_type": "markdown",
   "id": "0df82e2b-4081-4b85-8796-6ae1160cdb42",
   "metadata": {},
   "source": [
    "The oracle $U_\\omega$ reflects across the hyperplane orthogonal to $\\ket{\\omega}$:\n",
    "\n",
    "$$\n",
    "U_\\omega = \\mathbb{I} - 2\\ket{\\omega}\\bra{\\omega}\n",
    "$$\n",
    "\n",
    "It flips the component of the state vector along $\\ket{\\omega}$ while leaving the other components orthogonal to $\\ket{\\omega}$ unchanged.\n",
    "\n",
    "An MCZ gate on its own could serve as the oracle for an all-ones key $11\\dots 1$. For an arbitrary key, we just need to invert the qubits that have a $0$ bit in the key. The oracle encoding a specific key can be created using the following function:"
   ]
  },
  {
   "cell_type": "code",
   "execution_count": 6,
   "id": "dd1f56eb-39ba-42f7-bc04-1990e8729472",
   "metadata": {},
   "outputs": [],
   "source": [
    "def flip_sign(qc, key:[int]):\n",
    "    \"\"\"Flip sign of the basis state defined by a key.\n",
    "    :param qc: QCircuit instance\n",
    "    :param secret: Binary number as list of 0s and 1s\n",
    "    \"\"\"\n",
    "    k = len(key)\n",
    "    bits = [i for i, s in enumerate(key) if s==0]\n",
    "    qc.x(bits)\n",
    "    mcz(qc,k)\n",
    "    qc.x(bits)"
   ]
  },
  {
   "cell_type": "markdown",
   "id": "e71f1af6-ba78-4198-aa83-0c4ffece9a6e",
   "metadata": {},
   "source": [
    "To demonstrate this for a secret key of 0101:"
   ]
  },
  {
   "cell_type": "code",
   "execution_count": 7,
   "id": "a0b109fd-e328-40b8-abe0-e7095ccb165d",
   "metadata": {},
   "outputs": [],
   "source": [
    "def oracle(qc):\n",
    "    flip_sign(qc, [0,1,0,1])  # Secret number 0101 in binary  "
   ]
  },
  {
   "cell_type": "code",
   "execution_count": 8,
   "id": "ef71fd44-e44a-4d8e-8bf5-2a03d30525dd",
   "metadata": {},
   "outputs": [
    {
     "data": {
      "image/png": "[encoded data removed]",
      "text/plain": [
       "<Figure size 324.709x271.654 with 1 Axes>"
      ]
     },
     "metadata": {},
     "output_type": "display_data"
    }
   ],
   "source": [
    "K = 4\n",
    "qubits = range(K)\n",
    "qc = QCircuit(K)\n",
    "qc.h(qubits)  # Initial superposition\n",
    "qc.barrier()\n",
    "oracle(qc)\n",
    "qc.draw()"
   ]
  },
  {
   "cell_type": "code",
   "execution_count": 9,
   "id": "6a0754c1-d94e-45d8-9857-337f84a88521",
   "metadata": {},
   "outputs": [
    {
     "data": {
      "image/png": "[encoded data removed]",
      "text/plain": [
       "<Figure size 800x300 with 2 Axes>"
      ]
     },
     "metadata": {},
     "output_type": "display_data"
    }
   ],
   "source": [
    "qc.plot_real_imag(ylim=[-0.3,0.3])"
   ]
  },
  {
   "cell_type": "markdown",
   "id": "334ead84-1fbb-46dd-bf36-83c2f8663bbb",
   "metadata": {},
   "source": [
    "The input is a superposition of all basis states, but only the basis state $\\ket{0101}$ has  its sign flipped."
   ]
  },
  {
   "cell_type": "markdown",
   "id": "1e9da7b3-bce3-483c-a1a0-0c7d61890ca7",
   "metadata": {},
   "source": [
    "### The Diffusion Operator"
   ]
  },
  {
   "cell_type": "markdown",
   "id": "1ad5ac78-e02a-4f64-ace1-fdb8ac8d5473",
   "metadata": {},
   "source": [
    "The diffusion operator $U_s$ flips the state vector about the $\\ket{s}$ vector which is the equal superposition state $\\ket{+\\dots +}$.\n",
    "\n",
    "$$\n",
    "U_s = 2\\ket{s}\\bra{s} - \\mathbb{I}\n",
    "$$\n",
    "\n",
    "An MCZ gate flips the sign of the $\\ket{1\\dots 1}$ component:\n",
    "\n",
    "$$\n",
    "M_{cz}=\\mathbb{I}-2\\ket{1\\dots 1}\\bra{1\\dots 1}\n",
    "$$\n",
    "\n",
    "In order to make it flip the state about the $\\ket{s}$ vector, we can make the following transformation:\n",
    "\n",
    "$$\n",
    "U_s= - (H^{\\otimes K}X^{\\otimes K}\\ M_{cz}\\ X^{\\otimes K}H^{\\otimes K})\n",
    "$$\n",
    "\n",
    "The $X$ gates make $M_{cz}$ flip $\\ket{0\\dots 0}$ instead of $\\ket{1\\dots 1}$. Then the $H$ gates make it flip $\\ket{+\\dots +}$ instead of $\\ket{1\\dots 1}$.\n",
    "\n",
    "The negative sign results from the reversed order of terms. It can be ignored because it represents a global phase of $\\pi$, which has no measurable effect."
   ]
  },
  {
   "cell_type": "code",
   "execution_count": 10,
   "id": "74ddf34e-4ced-471e-aaa1-37426a67c148",
   "metadata": {},
   "outputs": [],
   "source": [
    "def diffusion(qc, k):\n",
    "    \"\"\"Grover diffusion operator.\"\"\"\n",
    "    qubits = range(k)\n",
    "    qc.h(qubits)\n",
    "    qc.x(qubits)\n",
    "    mcz(qc,k)\n",
    "    qc.x(qubits)\n",
    "    qc.h(qubits)"
   ]
  },
  {
   "cell_type": "markdown",
   "id": "05b0f6a8-dcff-4e0b-b03d-6ca3ff6285f8",
   "metadata": {},
   "source": [
    "### The First Iteration"
   ]
  },
  {
   "cell_type": "markdown",
   "id": "8876de06-dab3-406f-9900-2742156edda9",
   "metadata": {},
   "source": [
    "We will put the pieces of the algorithm together and run the first iteration:\n",
    "\n",
    "#### (a) Define the Oracle"
   ]
  },
  {
   "cell_type": "code",
   "execution_count": 11,
   "id": "a91bf764-49cb-49d1-8675-368eae761ab7",
   "metadata": {},
   "outputs": [],
   "source": [
    "def oracle(qc):\n",
    "    flip_sign(qc, [0,1,0,1])  # Secret number 0101 in binary  "
   ]
  },
  {
   "cell_type": "markdown",
   "id": "6c338be3-af92-485a-bb17-a79cd9ad3d5c",
   "metadata": {},
   "source": [
    "#### (b) Create the Superposition State"
   ]
  },
  {
   "cell_type": "code",
   "execution_count": 12,
   "id": "a27c1f01-7b3a-4eb2-a30a-58406fd30493",
   "metadata": {},
   "outputs": [
    {
     "data": {
      "image/png": "[encoded data removed]",
      "text/plain": [
       "<Figure size 800x150 with 1 Axes>"
      ]
     },
     "metadata": {},
     "output_type": "display_data"
    }
   ],
   "source": [
    "qc = QCircuit(K)\n",
    "qc.h(qubits)\n",
    "\n",
    "qc.plot_probabilities(ylim=[0,1])\n",
    "qc.barrier()"
   ]
  },
  {
   "cell_type": "markdown",
   "id": "9faab820-16a9-49c8-9a6b-bc91965cb9f1",
   "metadata": {},
   "source": [
    "#### (c) Apply the Oracle"
   ]
  },
  {
   "cell_type": "code",
   "execution_count": 13,
   "id": "81b3efb6-7697-4f59-884a-8277eb8a5979",
   "metadata": {},
   "outputs": [
    {
     "data": {
      "image/png": "[encoded data removed]",
      "text/plain": [
       "<Figure size 800x300 with 2 Axes>"
      ]
     },
     "metadata": {},
     "output_type": "display_data"
    }
   ],
   "source": [
    "oracle(qc)\n",
    "\n",
    "qc.plot_real_imag(ylim=[-0.3,0.3])\n",
    "qc.barrier()"
   ]
  },
  {
   "cell_type": "markdown",
   "id": "5312d408-d0c1-4a60-854d-5c6eafb3cb16",
   "metadata": {},
   "source": [
    "#### (d) Apply the Diffusion Function"
   ]
  },
  {
   "cell_type": "code",
   "execution_count": 14,
   "id": "6dd34e94-b3d2-46b4-b182-b8ae79c59733",
   "metadata": {},
   "outputs": [
    {
     "data": {
      "image/png": "[encoded data removed]",
      "text/plain": [
       "<Figure size 800x150 with 1 Axes>"
      ]
     },
     "metadata": {},
     "output_type": "display_data"
    },
    {
     "name": "stdout",
     "output_type": "stream",
     "text": [
      "Max probability = 0.4727 for state 0101\n"
     ]
    }
   ],
   "source": [
    "diffusion(qc, K)\n",
    "\n",
    "qc.plot_probabilities(ylim=[0,1])\n",
    "print_max_probability(qc)\n",
    "qc.barrier()"
   ]
  },
  {
   "cell_type": "markdown",
   "id": "00dea52b-723e-4046-a064-0049a38c4452",
   "metadata": {},
   "source": [
    "The first iteration has amplified the probability of the solution state significantly. If we made a measurement now, there would be 47% probability of getting the correct solution.\n",
    "\n",
    "It was shown earlier that the optimum number of iterations $\\nu$ is given by:\n",
    "\n",
    "$$\n",
    "\\nu = \\left\\lfloor\\frac{\\pi}{4}\\sqrt{N}\\right\\rfloor\n",
    "$$\n",
    "\n",
    "For this example, with $N=16$, the optimum number is $\\nu=3$, so we need to do two more iterations."
   ]
  },
  {
   "cell_type": "code",
   "execution_count": 15,
   "id": "97806091-4198-470e-be6d-e92c2e98c3ca",
   "metadata": {},
   "outputs": [
    {
     "name": "stdout",
     "output_type": "stream",
     "text": [
      "nu = 3\n"
     ]
    }
   ],
   "source": [
    "nu = required_iterations(K)\n",
    "print(f'nu = {nu}')"
   ]
  },
  {
   "cell_type": "markdown",
   "id": "ff0ec515-f73e-48bd-9aa0-e5c056b0f04b",
   "metadata": {},
   "source": [
    "### The Circuit So Far"
   ]
  },
  {
   "cell_type": "markdown",
   "id": "32ee73a3-7ec0-43d5-a5af-7ceb69744b6a",
   "metadata": {},
   "source": [
    "The following diagram shows the circuit so far. It is divided into three sections for clarity using the vertical dotted-line barriers:\n",
    "\n",
    "- Hadamard gates to create superposition\n",
    "- The oracle\n",
    "- The diffusion operator"
   ]
  },
  {
   "cell_type": "code",
   "execution_count": 16,
   "id": "e5909b35-2d61-464c-9931-69a04b0a919f",
   "metadata": {},
   "outputs": [
    {
     "data": {
      "image/png": "[encoded data removed]",
      "text/plain": [
       "<Figure size 737.9x271.654 with 1 Axes>"
      ]
     },
     "metadata": {},
     "output_type": "display_data"
    }
   ],
   "source": [
    "qc.draw()"
   ]
  },
  {
   "cell_type": "markdown",
   "id": "9eb3ba2f-88ba-4ed9-aab3-7d824fcb32bd",
   "metadata": {},
   "source": [
    "### Iteration 2"
   ]
  },
  {
   "cell_type": "markdown",
   "id": "18307805-1288-47d3-a0fe-6bad81513aa5",
   "metadata": {},
   "source": [
    "Each iteration consists of two steps: applying the oracle and applying the diffusion operator:"
   ]
  },
  {
   "cell_type": "code",
   "execution_count": 17,
   "id": "09119d32-8732-410c-8d31-da2605d47030",
   "metadata": {},
   "outputs": [],
   "source": [
    "oracle(qc)\n",
    "diffusion(qc, K)"
   ]
  },
  {
   "cell_type": "code",
   "execution_count": 18,
   "id": "b805df66-4fb3-4bad-b512-4f8f3752dfd2",
   "metadata": {},
   "outputs": [
    {
     "data": {
      "image/png": "[encoded data removed]",
      "text/plain": [
       "<Figure size 800x150 with 1 Axes>"
      ]
     },
     "metadata": {},
     "output_type": "display_data"
    },
    {
     "name": "stdout",
     "output_type": "stream",
     "text": [
      "Max probability = 0.9084 for state 0101\n"
     ]
    }
   ],
   "source": [
    "qc.plot_probabilities(ylim=[0,1])\n",
    "print_max_probability(qc)"
   ]
  },
  {
   "cell_type": "markdown",
   "id": "8bbdb76b-1e0f-4e25-a4af-fb644701bb17",
   "metadata": {},
   "source": [
    "The probability of a measurement giving the correct result has increased to about 91%.\n",
    "\n",
    "### Iteration 3"
   ]
  },
  {
   "cell_type": "code",
   "execution_count": 19,
   "id": "cf7dba42-ec67-4eb8-a07c-d230c5528890",
   "metadata": {},
   "outputs": [],
   "source": [
    "oracle(qc)\n",
    "diffusion(qc, K)"
   ]
  },
  {
   "cell_type": "code",
   "execution_count": 20,
   "id": "5d7182a8-7f9f-475c-94e3-ae2111ab5f47",
   "metadata": {},
   "outputs": [
    {
     "data": {
      "image/png": "[encoded data removed]",
      "text/plain": [
       "<Figure size 800x150 with 1 Axes>"
      ]
     },
     "metadata": {},
     "output_type": "display_data"
    },
    {
     "name": "stdout",
     "output_type": "stream",
     "text": [
      "Max probability = 0.9613 for state 0101\n"
     ]
    }
   ],
   "source": [
    "qc.plot_probabilities(ylim=[0,1])\n",
    "print_max_probability(qc)"
   ]
  },
  {
   "cell_type": "markdown",
   "id": "8bf2a515-cd45-48c9-bc4f-86de91473b55",
   "metadata": {},
   "source": [
    "We have completed the three iterations needed and the probability of getting the correct result is now 96%, so it is time to measure.\n",
    "\n",
    "### Measurement"
   ]
  },
  {
   "cell_type": "code",
   "execution_count": 21,
   "id": "c2dbb77b-3e92-4f09-b47c-4a785a6347d1",
   "metadata": {},
   "outputs": [
    {
     "name": "stdout",
     "output_type": "stream",
     "text": [
      "Result = [0 1 0 1]\n"
     ]
    }
   ],
   "source": [
    "print(f'Result = {qc.measure()}')"
   ]
  },
  {
   "cell_type": "markdown",
   "id": "4d0d0311-4958-4e57-bc70-7cbe66739d9d",
   "metadata": {},
   "source": [
    "This result should be the same as the secret number used by the oracle.\n",
    "\n",
    "The probability of getting an incorrect result is $1 - 0.96 = 0.04$. If this happens, we just need to run the process again. The oracle function is by its nature one that makes it easy to check the result. The probability of both measurements being wrong is $0.04^2 = 0.0016$.\n",
    "\n",
    "Of course, on a real quantum computer, we don't have access to the probabilities, but we can estimate them as follows:"
   ]
  },
  {
   "cell_type": "code",
   "execution_count": 22,
   "id": "6607724b-54f6-4f99-8255-fee9e89da284",
   "metadata": {},
   "outputs": [
    {
     "name": "stdout",
     "output_type": "stream",
     "text": [
      "Calculated probability = 0.968\n"
     ]
    }
   ],
   "source": [
    "print(f'Calculated probability = {prob(nu, K):.3f}')"
   ]
  },
  {
   "cell_type": "markdown",
   "id": "62010d51-359c-4e93-93f5-8f7d6989b408",
   "metadata": {},
   "source": [
    "---\n",
    "\n",
    "### Putting it all Together"
   ]
  },
  {
   "cell_type": "markdown",
   "id": "46b7a1c5-d6f7-4581-a265-16971b905f93",
   "metadata": {},
   "source": [
    "We can put the steps of the algorithm together as a function 'grover_solver' that finds the solution for a given oracle:"
   ]
  },
  {
   "cell_type": "code",
   "execution_count": 23,
   "id": "aeee41c1-2f87-4994-97fb-0b044b478e1a",
   "metadata": {},
   "outputs": [],
   "source": [
    "def grover_solver(k, oracle):\n",
    "    nu = required_iterations(k)\n",
    "    print(f'# iterations = {nu}\\n')\n",
    "\n",
    "    qc = QCircuit(k)\n",
    "    qc.h(range(k))\n",
    "    for i in range(nu):\n",
    "        oracle(qc)\n",
    "        diffusion(qc, k)\n",
    "    return qc.measure()"
   ]
  },
  {
   "cell_type": "markdown",
   "id": "5ab72f74-1056-4888-b024-a3b9bfd911bb",
   "metadata": {},
   "source": [
    "The following example shows the solver being used to find an 8-bit secret key."
   ]
  },
  {
   "cell_type": "code",
   "execution_count": 24,
   "id": "347b3f62-c82f-42a1-88c9-b741e3871b21",
   "metadata": {},
   "outputs": [
    {
     "name": "stdout",
     "output_type": "stream",
     "text": [
      "# iterations = 12\n",
      "\n",
      "Result = [0 1 1 0 1 0 0 0]\n",
      "Secret = [0 1 1 0 1 0 0 0]\n"
     ]
    }
   ],
   "source": [
    "SECRET = [0,1,1,0,1,0,0,0]\n",
    "k = len(SECRET)\n",
    "\n",
    "def oracle(qc):\n",
    "    return flip_sign(qc, SECRET)\n",
    "\n",
    "result = grover_solver(k, oracle) \n",
    "\n",
    "print(f'Result = {result}')\n",
    "print(f'Secret = {np.array(SECRET)}')"
   ]
  },
  {
   "cell_type": "markdown",
   "id": "c13fef7a-8116-4f40-be1f-9d6a0d1b5ae6",
   "metadata": {},
   "source": [
    "The result should agree with the secret."
   ]
  },
  {
   "cell_type": "markdown",
   "id": "c873433b-e65c-4ed8-a5bc-2d99d94ff8d9",
   "metadata": {},
   "source": [
    "This demonstration can only handle a few qubits because it is not running on a quantum computer. In addition, the simple implementation of the MCZ gate used is very inefficient as it involves creating a $2^K\\times 2^K$ matrix."
   ]
  },
  {
   "cell_type": "markdown",
   "id": "7e78088d-a453-4e6e-acef-0dab3a1cf1cd",
   "metadata": {},
   "source": [
    "### Conclusions"
   ]
  },
  {
   "cell_type": "markdown",
   "id": "8cff0c59-138e-4d25-8fc3-7c457245b29f",
   "metadata": {},
   "source": [
    "This example has demonstrated Grover's Algorithm applied to the simple example of finding a hidden key. In a more realistic application, an oracle might check whether something satisfies a constraint, rather than just hiding a pre-existing answer. It may also be used to solve problems that have more than one solution.\n",
    "\n",
    "This example used a large matrix to provide a simple implementation of the MCZ gate for simulation. This scales very badly with the number of qubits. There are other ways to implement the operation, such as using ancilla qubits with many smaller gates.\n",
    "\n",
    "To be of practical use, the algorithm would require a real quantum computer with hundreds of logical (error-free) qubits. On today's Noisy Intermediate-Scale Quantum (NISQ) devices, it doesn't yet give any advantage.\n",
    "\n",
    "The method provides a quadratic speedup compare with a classical computation, requiring $\\mathcal{O}(\\sqrt{N})$ steps instead of $\\mathcal{O}(N)$. Applied to reversing a hash function such as SHA-256, it would require on the order of $2^{128}$ steps instead of $2^{256}$. That is around $10^{40}$, which is still unfeasible even with a quantum computer.\n",
    "\n",
    "However, Grover's algorithm illustrates a more general approach to quantum algorithm design that involves starting with a superposition of all possibilities and then iteratively using amplitude amplification to increase the probability of the solution state."
   ]
  }
 ],
 "metadata": {
  "kernelspec": {
   "display_name": "Python 3 (ipykernel)",
   "language": "python",
   "name": "python3"
  },
  "language_info": {
   "codemirror_mode": {
    "name": "ipython",
    "version": 3
   },
   "file_extension": ".py",
   "mimetype": "text/x-python",
   "name": "python",
   "nbconvert_exporter": "python",
   "pygments_lexer": "ipython3",
   "version": "3.12.9"
  }
 },
 "nbformat": 4,
 "nbformat_minor": 5
}
