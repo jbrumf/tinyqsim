{
 "cells": [
  {
   "cell_type": "markdown",
   "id": "1b46cd6b-ce48-4e3c-adbd-e7d75f7e3cc3",
   "metadata": {},
   "source": [
    "$\\newcommand{\\bra}[1]{\\left\\langle{#1}\\right|}\n",
    "\\newcommand{\\ket}[1]{\\left|{#1}\\right\\rangle}$"
   ]
  },
  {
   "cell_type": "markdown",
   "id": "5ff0f67c-6bf1-44db-a002-b659e1c16516",
   "metadata": {},
   "source": [
    "## Tutorial 1: Getting Started with TinyQsim"
   ]
  },
  {
   "cell_type": "markdown",
   "id": "487954b8-1721-44e8-be78-e4cea02acd35",
   "metadata": {},
   "source": [
    "### Introduction"
   ]
  },
  {
   "cell_type": "markdown",
   "id": "ac2866cb-eaa9-4dc8-927b-d41fbb67911a",
   "metadata": {},
   "source": [
    "This Getting Started tutorial provides a quick introduction to TinyQsim through the use of a simple example.\n",
    "\n",
    "TinyQsim is a quantum circuit simulator based on the quantum gate model. A 20-qubit Quantum Fourier Transform (QFT) takes about one second (running on a Mac Mini M2 Pro). The software is capable of simulating quantum circuits up to a maximum of 26 qubits, although this may take a couple of minutes, depending on the quantum circuit and computer.\n",
    "\n",
    "TinyQsim is a Python library that is intended to be called from a Jupyter notebook. Notebooks provide a nice environment for experimenting with quantum algorithms and documenting them since they can contain executable code, together with its graphical output, as well as documentation including equations in LaTeX. This Getting Started guide is itself written in the form of a notebook.\n",
    "\n",
    "The tutorials are provided as both Jupyter '.ipynb' notebook files and as '.md' Markdown files. The latter makes it possible to read the documentation without running a Jupyter server."
   ]
  },
  {
   "cell_type": "markdown",
   "id": "d9508c34-b50b-4d41-afb1-3a28b6efd88c",
   "metadata": {},
   "source": [
    "### Installation"
   ]
  },
  {
   "cell_type": "markdown",
   "id": "b4b6d466-beca-4ad5-9c71-b7ca5922cf59",
   "metadata": {},
   "source": [
    "TinyQsim can be downloaded from [https://github.com/jbrumf/tinyqsim](https://github.com/jbrumf/tinyqsim).\n",
    "\n",
    "For installation instructions, see the README.md file in the source distribution."
   ]
  },
  {
   "cell_type": "markdown",
   "id": "ab99f2ea-2118-4f31-b31d-d3b8b8afcbe4",
   "metadata": {},
   "source": [
    "### Documentation"
   ]
  },
  {
   "cell_type": "markdown",
   "id": "42177e1c-a2c8-4955-b804-5344579e1b13",
   "metadata": {},
   "source": [
    "Once the software is downloaded, see the API documentation in the 'doc/api' directory. In particular, browse the API of the 'qcircuit' module to familiarise yourself with the QCircuit class which provides the main interface to the simulator. The API documentation provides further information on the available methods and their arguments, options, defaults and types. It will be helpful to refer to this while reading tutorials.\n",
    "\n",
    "- Tutorial 1 (this tutorial) is a Getting Started guide that provides a quick overview.\n",
    "- Tutorial 2 looks at the features of TinyQsim in more detail.\n",
    "- Tutorial 3 describes all the gates provided as well as custom gates.\n",
    "- Tutorial 4 describes the low-level API, which is not normally needed\n",
    "\n",
    "There are also a number of other notebooks providing more complex examples such as the Quantum Fourier Transform (QFT) and Quantum Phase Estimation (QPE)."
   ]
  },
  {
   "cell_type": "markdown",
   "id": "623d0b62-bf66-42a9-bfc5-1034f04569a6",
   "metadata": {},
   "source": [
    "### A Simple Example"
   ]
  },
  {
   "cell_type": "markdown",
   "id": "bcee9257-f3de-40fa-a278-95f3efe88d5a",
   "metadata": {},
   "source": [
    "The first step is to import the QCircuit class:"
   ]
  },
  {
   "cell_type": "code",
   "execution_count": 1,
   "id": "f016aa51-df9d-469f-b1fe-11a2febebd9e",
   "metadata": {},
   "outputs": [],
   "source": [
    "from tinyqsim.qcircuit import QCircuit"
   ]
  },
  {
   "cell_type": "markdown",
   "id": "67f12f7d-f6ab-4d56-8d68-8412babc9ad1",
   "metadata": {},
   "source": [
    "For the example, we will create a 2-qubit quantum circuit 'qc' that creates an entangled state:"
   ]
  },
  {
   "cell_type": "code",
   "execution_count": 2,
   "id": "7e620279-6a01-460d-bd34-081eeb36b6e1",
   "metadata": {},
   "outputs": [],
   "source": [
    "qc = QCircuit(2)"
   ]
  },
  {
   "cell_type": "markdown",
   "id": "8d8060ca-c79d-4cea-a663-761d53f93f8d",
   "metadata": {},
   "source": [
    "The state is initialized to $\\ket{00}$ by default, which we can confirm by printing it. The coefficient '1' is the associated complex amplitude."
   ]
  },
  {
   "cell_type": "code",
   "execution_count": 3,
   "id": "7034f03b-3532-4022-a6b4-1b137c96411b",
   "metadata": {},
   "outputs": [
    {
     "data": {
      "text/latex": [
       "$\\displaystyle 1\\ \\ket{00}$"
      ],
      "text/plain": [
       "<IPython.core.display.Math object>"
      ]
     },
     "metadata": {},
     "output_type": "display_data"
    }
   ],
   "source": [
    "qc.display_state()"
   ]
  },
  {
   "cell_type": "markdown",
   "id": "1fec2f83-3443-4d1f-b3ac-a54b74ef26de",
   "metadata": {},
   "source": [
    "Next, we will add some quantum gates:"
   ]
  },
  {
   "cell_type": "code",
   "execution_count": 4,
   "id": "feb02501-04a0-47d2-9309-1afaf96dbcfe",
   "metadata": {},
   "outputs": [],
   "source": [
    "qc.x(1)  # Add an X gate on qubit 1\n",
    "qc.h(0)  # Add an H gate on qubit 0\n",
    "qc.cx(0, 1)  # Add a CX gate on qubits 0 and 1"
   ]
  },
  {
   "cell_type": "markdown",
   "id": "de48219a-3d15-4250-b69f-894a6fd0a485",
   "metadata": {},
   "source": [
    "Then we can draw the circuit:"
   ]
  },
  {
   "cell_type": "code",
   "execution_count": 5,
   "id": "689c6ee5-0b9c-48f9-bd1b-af1c31102399",
   "metadata": {},
   "outputs": [
    {
     "data": {
      "image/png": "[encoded data removed]",
      "text/plain": [
       "<Figure size 148.047x129.921 with 1 Axes>"
      ]
     },
     "metadata": {},
     "output_type": "display_data"
    }
   ],
   "source": [
    "qc.draw()"
   ]
  },
  {
   "cell_type": "markdown",
   "id": "478232c0-2a27-48d2-b78e-cdc1b79c833d",
   "metadata": {},
   "source": [
    "By default, the gates are executed as they are added to the circuit, so there is no need to run the simulator explicitly and we can print the state at any time."
   ]
  },
  {
   "cell_type": "markdown",
   "id": "cd3bcfa3-1d6b-4374-96bb-27466fbf9e1b",
   "metadata": {},
   "source": [
    "The various symbols and gates in the circuit diagram are explained in tutorial 3. This example has a Hadamard (H) gate, a NOT (X) gate and controlled-NOT (CX) gate. It creates the following entangled state:\n",
    "\n",
    "$\\ket{\\psi}=\\frac{1}{\\sqrt{2}}\\ket{01} + \\frac{1}{\\sqrt{2}}\\ket{10}$\n",
    "\n",
    "We can confirm this by displaying the state:"
   ]
  },
  {
   "cell_type": "code",
   "execution_count": 6,
   "id": "f0732288-53ba-4f68-a078-4c256e61a4cb",
   "metadata": {},
   "outputs": [
    {
     "data": {
      "text/latex": [
       "$\\displaystyle 0.70711\\ \\ket{01} + 0.70711\\ \\ket{10}$"
      ],
      "text/plain": [
       "<IPython.core.display.Math object>"
      ]
     },
     "metadata": {},
     "output_type": "display_data"
    }
   ],
   "source": [
    "qc.display_state()"
   ]
  },
  {
   "cell_type": "markdown",
   "id": "42fe3bc3-ab92-457e-a98d-a63fce397df1",
   "metadata": {},
   "source": [
    "The 'display_state' method displays the state using LaTeX for use in a Jupyter notebook. A LaTeX prefix can be included if required.\n",
    "For example:"
   ]
  },
  {
   "cell_type": "code",
   "execution_count": 7,
   "id": "db4a85e1-5466-4030-a18f-cd8af5702046",
   "metadata": {},
   "outputs": [
    {
     "data": {
      "text/latex": [
       "$\\displaystyle \\ket{\\psi} = 0.70711\\ \\ket{01} + 0.70711\\ \\ket{10}$"
      ],
      "text/plain": [
       "<IPython.core.display.Math object>"
      ]
     },
     "metadata": {},
     "output_type": "display_data"
    }
   ],
   "source": [
    "qc.display_state(prefix=r'\\ket{\\psi} = ')"
   ]
  },
  {
   "cell_type": "markdown",
   "id": "5cc4931b-2674-441d-92d5-cfcb198bd691",
   "metadata": {},
   "source": [
    "The format may be customised in various ways as shown in the following examples:"
   ]
  },
  {
   "cell_type": "code",
   "execution_count": 8,
   "id": "6d8e152f-37b1-4fff-8d4f-10d0cabb34e2",
   "metadata": {},
   "outputs": [
    {
     "data": {
      "text/latex": [
       "$\\displaystyle 0.7071\\ \\ket{01} + 0.7071\\ \\ket{10}$"
      ],
      "text/plain": [
       "<IPython.core.display.Math object>"
      ]
     },
     "metadata": {},
     "output_type": "display_data"
    },
    {
     "data": {
      "text/latex": [
       "$\\displaystyle 0\\ \\ket{00} + 0.7071\\ \\ket{01} + 0.7071\\ \\ket{10} + 0\\ \\ket{11}$"
      ],
      "text/plain": [
       "<IPython.core.display.Math object>"
      ]
     },
     "metadata": {},
     "output_type": "display_data"
    },
    {
     "data": {
      "text/latex": [
       "$\\displaystyle 0.0000\\ \\ket{00} + 0.7071\\ \\ket{01} + 0.7071\\ \\ket{10} + 0.0000\\ \\ket{11}$"
      ],
      "text/plain": [
       "<IPython.core.display.Math object>"
      ]
     },
     "metadata": {},
     "output_type": "display_data"
    }
   ],
   "source": [
    "qc.display_state(decimals=4, include_zeros=False, trim=True)\n",
    "qc.display_state(decimals=4, include_zeros=True, trim=True)\n",
    "qc.display_state(decimals=4, include_zeros=True, trim=False)"
   ]
  },
  {
   "cell_type": "markdown",
   "id": "b83001f8-6e47-41f2-9a82-1379fdae3606",
   "metadata": {},
   "source": [
    "It is also possible to format the state as plain text using 'format_state' instead of 'display_state'. This is useful when using TinyQsim from a Python script instead of from a Jupyter notebook."
   ]
  },
  {
   "cell_type": "code",
   "execution_count": 9,
   "id": "df01a14c-d3c1-4cca-a1a4-a885e4920c60",
   "metadata": {},
   "outputs": [
    {
     "name": "stdout",
     "output_type": "stream",
     "text": [
      "0.70711|01⟩ + 0.70711|10⟩\n"
     ]
    }
   ],
   "source": [
    "print(qc.format_state())"
   ]
  },
  {
   "cell_type": "markdown",
   "id": "cd5a97b6-fe8e-421d-ac67-03e980fb01f1",
   "metadata": {},
   "source": [
    "Once the output is longer than a few lines, the 'sum-of-kets' notation becomes hard to read. It is then better to display the results as a table, using the 'table' option (This option is not currently supported by 'display_state')."
   ]
  },
  {
   "cell_type": "code",
   "execution_count": 10,
   "id": "eb29804f-97f8-4e07-b8ec-7a214b866fb4",
   "metadata": {},
   "outputs": [
    {
     "name": "stdout",
     "output_type": "stream",
     "text": [
      "|00⟩  0\n",
      "|01⟩  0.70711\n",
      "|10⟩  0.70711\n",
      "|11⟩  0\n"
     ]
    }
   ],
   "source": [
    "print(qc.format_state('table', include_zeros=True))"
   ]
  },
  {
   "cell_type": "markdown",
   "id": "937abd40-dce4-409d-9b09-d0e68148e47a",
   "metadata": {},
   "source": [
    "The raw state vector is available from the 'state_vector' property as a numpy array:"
   ]
  },
  {
   "cell_type": "code",
   "execution_count": 11,
   "id": "cba11186-f2f5-4a7d-a5db-faceb394822c",
   "metadata": {},
   "outputs": [
    {
     "data": {
      "text/plain": [
       "array([0.        , 0.70710678, 0.70710678, 0.        ])"
      ]
     },
     "execution_count": 11,
     "metadata": {},
     "output_type": "execute_result"
    }
   ],
   "source": [
    "qc.state_vector"
   ]
  },
  {
   "cell_type": "markdown",
   "id": "78cb4e4c-4c11-41be-aa55-09ee1ac535d9",
   "metadata": {},
   "source": [
    "### Probabilities"
   ]
  },
  {
   "cell_type": "markdown",
   "id": "1a6adeb0-3a0d-4dc1-8f44-5a85fc0fe2f4",
   "metadata": {},
   "source": [
    "The probabilities of different measurement outcomes are the squares of the absolute values of the amplitudes of the state components:"
   ]
  },
  {
   "cell_type": "code",
   "execution_count": 12,
   "id": "f2f62417-5be5-40e2-ba2a-f82741838d8a",
   "metadata": {},
   "outputs": [
    {
     "data": {
      "text/plain": [
       "array([0. , 0.5, 0.5, 0. ])"
      ]
     },
     "execution_count": 12,
     "metadata": {},
     "output_type": "execute_result"
    }
   ],
   "source": [
    "qc.probability_array()"
   ]
  },
  {
   "cell_type": "markdown",
   "id": "a2e1e466-043f-488a-bc32-8d5c0b622c77",
   "metadata": {},
   "source": [
    "It is convenient to display the probabilities along with the ket labels of the associated basis states using the 'format_probabilities' method. This method should be called in a 'print' statement to ensure proper formatting. "
   ]
  },
  {
   "cell_type": "code",
   "execution_count": 13,
   "id": "d4865392-e2cf-40d7-9e5c-ecd1f532c091",
   "metadata": {},
   "outputs": [
    {
     "name": "stdout",
     "output_type": "stream",
     "text": [
      "|01⟩  0.5\n",
      "|10⟩  0.5\n"
     ]
    }
   ],
   "source": [
    "print(qc.format_probabilities())"
   ]
  },
  {
   "cell_type": "code",
   "execution_count": 14,
   "id": "103d0894-a04b-4077-9131-9a6416ddf0a8",
   "metadata": {},
   "outputs": [
    {
     "name": "stdout",
     "output_type": "stream",
     "text": [
      "|00⟩  0\n",
      "|01⟩  0.5\n",
      "|10⟩  0.5\n",
      "|11⟩  0\n"
     ]
    }
   ],
   "source": [
    "print(qc.format_probabilities(decimals=3, include_zeros=True))"
   ]
  },
  {
   "cell_type": "markdown",
   "id": "a72e3e88-35f7-4a16-8e85-29d698b1ea23",
   "metadata": {},
   "source": [
    "The probability distribution can be plotted as follows:"
   ]
  },
  {
   "cell_type": "code",
   "execution_count": 15,
   "id": "e0714841-17ba-4c15-a994-1e6404b27877",
   "metadata": {},
   "outputs": [
    {
     "data": {
      "image/png": "[encoded data removed]",
      "text/plain": [
       "<Figure size 500x150 with 1 Axes>"
      ]
     },
     "metadata": {},
     "output_type": "display_data"
    }
   ],
   "source": [
    "qc.plot_probabilities()"
   ]
  },
  {
   "cell_type": "markdown",
   "id": "5a79424a-e5e7-4eb5-ba26-78a8af29ad5d",
   "metadata": {},
   "source": [
    "The 'format_probabilities' and 'plot_probabilities' methods are intended for use with circuits that do *not* contain any measurement operations, since these would collapse the state. The probabilities tell us the probabilities of different outcomes if we were to perform a measurement, but it does not perform a measurement so there is no collapse."
   ]
  },
  {
   "cell_type": "markdown",
   "id": "fb266e88-4330-415c-9184-b5afac1e3df3",
   "metadata": {},
   "source": [
    "### Measurements"
   ]
  },
  {
   "cell_type": "markdown",
   "id": "1cbb2773-478c-48ec-992d-4b974612e1a6",
   "metadata": {},
   "source": [
    "A real quantum computer does not allow us to see the quantum state. Measuring the state causes it to collapse to one of the basis states according to the probabilities shown above. If we want to estimate the probabilities on a quantum computer, we have to run the circuit many times and look at the frequency of different outcomes.\n",
    "\n",
    "With a simulator, we have the advantage that we have access to the state and can directly calculate the probabilities of different measurement outcomes without actually performing a measurement. This provides a useful performance improvement when we don't actually need measurements.\n",
    "\n",
    "We can simulate this probabilistic outcome using the 'counts' or 'plot_counts' methods. For example:"
   ]
  },
  {
   "cell_type": "code",
   "execution_count": 16,
   "id": "39337a3c-5d8b-4ef2-a39f-699f9ebcc4b3",
   "metadata": {},
   "outputs": [
    {
     "data": {
      "image/png": "[encoded data removed]",
      "text/plain": [
       "<Figure size 500x150 with 1 Axes>"
      ]
     },
     "metadata": {},
     "output_type": "display_data"
    }
   ],
   "source": [
    "qc.plot_counts(runs=1000)"
   ]
  },
  {
   "cell_type": "code",
   "execution_count": 17,
   "id": "aab1db4e-61fd-4937-bac0-b97fb192fde2",
   "metadata": {},
   "outputs": [
    {
     "data": {
      "text/plain": [
       "{'01': 527, '10': 473}"
      ]
     },
     "execution_count": 17,
     "metadata": {},
     "output_type": "execute_result"
    }
   ],
   "source": [
    "qc.counts(runs=1000)"
   ]
  },
  {
   "cell_type": "markdown",
   "id": "bdc80070-c11c-4700-8afe-63da3f43ad94",
   "metadata": {},
   "source": [
    "If we call 'counts' or 'plot_counts' again, it simulates another 1000 runs, so the counts are likely to be different:"
   ]
  },
  {
   "cell_type": "code",
   "execution_count": 18,
   "id": "8a830b73-3ad6-4c6a-99d1-5ccf31405935",
   "metadata": {},
   "outputs": [
    {
     "data": {
      "text/plain": [
       "{'01': 491, '10': 509}"
      ]
     },
     "execution_count": 18,
     "metadata": {},
     "output_type": "execute_result"
    }
   ],
   "source": [
    "qc.counts(runs=1000)"
   ]
  },
  {
   "cell_type": "markdown",
   "id": "55c92fb2-2980-4419-a7e9-5d07b5d1eba8",
   "metadata": {},
   "source": [
    "The default mode of 'counts' is to resample the probability distribution from a single run. This is suitable when the circuit contains no measurements. This is much more efficient than running the circuit many times and can be an important consideration for circuits containing more than a few qubits."
   ]
  },
  {
   "cell_type": "markdown",
   "id": "0d16ad11-50ec-4661-bad6-9cbcfef521a3",
   "metadata": {},
   "source": [
    "If we want to simulate measurements that collapse the state, we must add measurement operations to the quantum circuit as follows:"
   ]
  },
  {
   "cell_type": "code",
   "execution_count": 19,
   "id": "e4a0e9c1-fc35-4824-9f99-d75599af56ad",
   "metadata": {},
   "outputs": [
    {
     "data": {
      "image/png": "[encoded data removed]",
      "text/plain": [
       "<Figure size 206.823x129.921 with 1 Axes>"
      ]
     },
     "metadata": {},
     "output_type": "display_data"
    }
   ],
   "source": [
    "qc.measure()\n",
    "qc.draw()"
   ]
  },
  {
   "cell_type": "markdown",
   "id": "bb624878-77ee-456b-a1fd-62090f69b129",
   "metadata": {},
   "source": [
    "If we display the state after the measurements, it will have collapsed to either $\\ket{01}$ or $\\ket{10}$:"
   ]
  },
  {
   "cell_type": "code",
   "execution_count": 20,
   "id": "f78202a8-b23b-47ed-8779-ec3734a71b46",
   "metadata": {},
   "outputs": [
    {
     "data": {
      "text/latex": [
       "$\\displaystyle 1\\ \\ket{01}$"
      ],
      "text/plain": [
       "<IPython.core.display.Math object>"
      ]
     },
     "metadata": {},
     "output_type": "display_data"
    }
   ],
   "source": [
    "qc.display_state()"
   ]
  },
  {
   "cell_type": "markdown",
   "id": "36aa66dc-0797-47c4-8e23-8a48536389ce",
   "metadata": {},
   "source": [
    "The 'counts' or 'plot_counts' methods can be called using the 'repeat' or 'measure' mode so that they actually run the circuit many times to generate measurement counts, rather than just resampling the output state of a single run. The difference between 'repeat' and 'measure' is discussed in the next tutorial. For this simple example, either can be used."
   ]
  },
  {
   "cell_type": "code",
   "execution_count": 21,
   "id": "f2ac607c-a260-479a-bbf1-113c97ba3e39",
   "metadata": {},
   "outputs": [
    {
     "data": {
      "image/png": "[encoded data removed]",
      "text/plain": [
       "<Figure size 500x150 with 1 Axes>"
      ]
     },
     "metadata": {},
     "output_type": "display_data"
    }
   ],
   "source": [
    "qc.plot_counts(mode='measure', runs=1000)"
   ]
  },
  {
   "cell_type": "markdown",
   "id": "eb815cb8-cff2-45dc-91d9-39ebf1a8c6c1",
   "metadata": {},
   "source": [
    "### Unitary Matrix"
   ]
  },
  {
   "cell_type": "markdown",
   "id": "fb770da0-3f2b-42dd-9bd6-51305f54bc3d",
   "metadata": {},
   "source": [
    "Individual quantum gates implement unitary operators expressed as unitary matrices. Complete circuits built from gates can also be expressed as a unitary matrix, provided that the circuit contains no measurement operations.\n",
    "\n",
    "It is sometimes useful to get the unitary matrix corresponding to a circuit. The matrix can become very large if there are many qubits, so this is mostly of interest for simple circuits of a few qubits."
   ]
  },
  {
   "cell_type": "code",
   "execution_count": 22,
   "id": "5f62dab1-c54c-4fa5-b10a-a2e2c9568e55",
   "metadata": {},
   "outputs": [
    {
     "data": {
      "image/png": "[encoded data removed]",
      "text/plain": [
       "<Figure size 148.047x129.921 with 1 Axes>"
      ]
     },
     "metadata": {},
     "output_type": "display_data"
    }
   ],
   "source": [
    "qc = QCircuit(2)\n",
    "qc.x(1)\n",
    "qc.h(0)\n",
    "qc.cx(0, 1)\n",
    "qc.draw()"
   ]
  },
  {
   "cell_type": "code",
   "execution_count": 23,
   "id": "b3350a9a-a840-44cb-bd84-8a53a58fe5b4",
   "metadata": {},
   "outputs": [
    {
     "name": "stdout",
     "output_type": "stream",
     "text": [
      "[[ 0.          0.70710678  0.          0.70710678]\n",
      " [ 0.70710678  0.          0.70710678  0.        ]\n",
      " [ 0.70710678  0.         -0.70710678  0.        ]\n",
      " [ 0.          0.70710678  0.         -0.70710678]]\n"
     ]
    }
   ],
   "source": [
    "u = qc.to_unitary()\n",
    "print(u)"
   ]
  },
  {
   "cell_type": "markdown",
   "id": "f1d21364-7624-43b2-98e9-9b4f7baadb54",
   "metadata": {},
   "source": [
    "### Bloch Sphere"
   ]
  },
  {
   "cell_type": "markdown",
   "id": "b9389c7e-6179-4a8a-b15b-415c4d013675",
   "metadata": {},
   "source": [
    "TinyQsim allows the state of a single qubit to be plotted on the Bloch sphere:"
   ]
  },
  {
   "cell_type": "code",
   "execution_count": 24,
   "id": "a3d8b849-4330-4cd4-b003-93dd9cdf5f01",
   "metadata": {},
   "outputs": [
    {
     "data": {
      "image/png": "[encoded data removed]",
      "text/plain": [
       "<Figure size 148.047x59.0551 with 1 Axes>"
      ]
     },
     "metadata": {},
     "output_type": "display_data"
    },
    {
     "data": {
      "text/latex": [
       "$\\displaystyle 0.70711\\ \\ket{0} + (0.5+0.5j)\\ \\ket{1}$"
      ],
      "text/plain": [
       "<IPython.core.display.Math object>"
      ]
     },
     "metadata": {},
     "output_type": "display_data"
    }
   ],
   "source": [
    "from tinyqsim.bloch import plot_bloch\n",
    "\n",
    "qc1 = QCircuit(1)  # This must be 1 qubit\n",
    "qc1.h(0)\n",
    "qc1.t(0)\n",
    "qc1.draw()\n",
    "qc1.display_state()"
   ]
  },
  {
   "cell_type": "markdown",
   "id": "eb4393a2-4dce-479c-ac75-5fea2f12ad2e",
   "metadata": {},
   "source": [
    "The state vector is plotted in red:"
   ]
  },
  {
   "cell_type": "code",
   "execution_count": 25,
   "id": "56ddc65e-30c7-4e59-ae86-80dc9e2b7dfa",
   "metadata": {},
   "outputs": [
    {
     "data": {
      "image/png": "[encoded data removed]",
      "text/plain": [
       "<Figure size 300x300 with 1 Axes>"
      ]
     },
     "metadata": {},
     "output_type": "display_data"
    }
   ],
   "source": [
    "plot_bloch(qc1.state_vector, scale=1.0)"
   ]
  },
  {
   "cell_type": "markdown",
   "id": "56fb8157-a6bb-4f56-a6ab-670f15214e37",
   "metadata": {},
   "source": [
    "### Summary\n",
    "\n",
    "This has been a quick introduction to TinyQsim. The next notebook goes into the various features in more detail. The API documentation, particularly of the QCircuit class, provides further details of all the methods including their arguments and defaults."
   ]
  }
 ],
 "metadata": {
  "kernelspec": {
   "display_name": "Python 3 (ipykernel)",
   "language": "python",
   "name": "python3"
  },
  "language_info": {
   "codemirror_mode": {
    "name": "ipython",
    "version": 3
   },
   "file_extension": ".py",
   "mimetype": "text/x-python",
   "name": "python",
   "nbconvert_exporter": "python",
   "pygments_lexer": "ipython3",
   "version": "3.12.8"
  }
 },
 "nbformat": 4,
 "nbformat_minor": 5
}
