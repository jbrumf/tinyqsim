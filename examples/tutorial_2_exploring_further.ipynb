{
 "cells": [
  {
   "cell_type": "markdown",
   "id": "dc588835-c3dd-47f0-b40e-3934047196aa",
   "metadata": {},
   "source": [
    "## Tutorial 2: Exploring Further"
   ]
  },
  {
   "cell_type": "markdown",
   "id": "6dc6d9b4-de3d-464d-a5ad-d2bccd02412b",
   "metadata": {},
   "source": [
    "### Introduction"
   ]
  },
  {
   "cell_type": "markdown",
   "id": "e649cdbc-b29f-43f2-b474-66b3f34bc207",
   "metadata": {},
   "source": [
    "This tutorial should be read after the Getting Started tutorial. It looks in more detail at the features introduced in that tutorial. The API documentation for the QCircuit class gives further details, including parameters, options, types and defaults."
   ]
  },
  {
   "cell_type": "markdown",
   "id": "ef9c77cf-0b28-482c-9f46-b1f9ee0768b4",
   "metadata": {},
   "source": [
    "### Imports"
   ]
  },
  {
   "cell_type": "markdown",
   "id": "7aa2929f-5125-4695-b062-60503f44bdfb",
   "metadata": {},
   "source": [
    "The QCircuit class mut be imported as it provides the main interface to the simulator. The numpy package is also useful. Other imports will be introduced as they are needed."
   ]
  },
  {
   "cell_type": "code",
   "execution_count": 1,
   "id": "a6447ac1-be0b-48f9-9d04-29c7c9328dc0",
   "metadata": {},
   "outputs": [],
   "source": [
    "import numpy as np\n",
    "\n",
    "from tinyqsim.qcircuit import QCircuit"
   ]
  },
  {
   "cell_type": "markdown",
   "id": "41971bdc-2f4d-4c66-ac2d-32677a5dbd3b",
   "metadata": {},
   "source": [
    "### Creating a Quantum Circuit"
   ]
  },
  {
   "cell_type": "markdown",
   "id": "1c9b744b-5324-422e-81ab-56f51ada225a",
   "metadata": {},
   "source": [
    "A quantum circuit is created using the QCircuit constructor. For example, to create a circuit with 3 qubits:"
   ]
  },
  {
   "cell_type": "code",
   "execution_count": 2,
   "id": "374bb783-9b67-407f-8da4-8cf737014595",
   "metadata": {},
   "outputs": [],
   "source": [
    "qc = QCircuit(3)"
   ]
  },
  {
   "cell_type": "markdown",
   "id": "96ad4301-8f9c-4fbc-a282-e4ca3d05ebc7",
   "metadata": {},
   "source": [
    "This 3-qubit state has 8 basis states, labelled $\\ket{000},\\ket{001}\\dots\\ket{111}$. It is initialized to $\\ket{000}$."
   ]
  },
  {
   "cell_type": "markdown",
   "id": "956ae5b8-9832-4233-9103-58ac2077c5ea",
   "metadata": {},
   "source": [
    "### Initialization"
   ]
  },
  {
   "cell_type": "markdown",
   "id": "34dd77ec-9bf8-44e8-bfe4-b1332f901815",
   "metadata": {},
   "source": [
    "By default the quantum state is initialized to $\\ket{00\\dots 0}$. We can see this by displaying the state:"
   ]
  },
  {
   "cell_type": "code",
   "execution_count": 3,
   "id": "c52198e2-2c22-441e-90fc-d781b137650d",
   "metadata": {},
   "outputs": [
    {
     "data": {
      "text/latex": [
       "$\\displaystyle 1\\ \\ket{000}$"
      ],
      "text/plain": [
       "<IPython.core.display.Math object>"
      ]
     },
     "metadata": {},
     "output_type": "display_data"
    }
   ],
   "source": [
    "qc.display_state()"
   ]
  },
  {
   "cell_type": "markdown",
   "id": "2f4fba1c-98f6-4e4a-bb2d-a8b252708949",
   "metadata": {},
   "source": [
    "If a different initial state is required, it can be configured by adding some quantum gates at the start of the circuit. Because the gates are part of the circuit, the initialization will appear in the circuit diagram and will get re-executed when the circuit is rerun.\n",
    "\n",
    "For example, to initialize the state to $\\ket{011}$, we can use X-gates (NOT gates) to invert qubits 1 and 2:"
   ]
  },
  {
   "cell_type": "code",
   "execution_count": 4,
   "id": "f99b897a-3550-4e91-aa04-9552ea0dc7db",
   "metadata": {},
   "outputs": [
    {
     "data": {
      "image/png": "[encoded data removed]",
      "text/plain": [
       "<Figure size 147.881x200.787 with 1 Axes>"
      ]
     },
     "metadata": {},
     "output_type": "display_data"
    },
    {
     "data": {
      "text/latex": [
       "$\\displaystyle 1\\ \\ket{011}$"
      ],
      "text/plain": [
       "<IPython.core.display.Math object>"
      ]
     },
     "metadata": {},
     "output_type": "display_data"
    }
   ],
   "source": [
    "qc = QCircuit(3)\n",
    "qc.x(1)  # Invert qubit 1\n",
    "qc.x(2)  # Invert qubit 2\n",
    "qc.barrier()\n",
    "qc.draw()\n",
    "qc.display_state()"
   ]
  },
  {
   "cell_type": "markdown",
   "id": "0484a6c8-61ea-45cb-8954-dcf2cd9da892",
   "metadata": {},
   "source": [
    "The dotted vertical line is called a 'barrier' and can be used to separate the initialization from the main circuit for clarity.\n",
    "\n",
    "The circuit can also be initialized with a random quantum state as follows. This is mainly useful for test purposes since a quantum circuit normally needs to be initialised to a known state."
   ]
  },
  {
   "cell_type": "code",
   "execution_count": 5,
   "id": "a7b2e135-5d38-4911-a1ea-76d8c22b6b4c",
   "metadata": {},
   "outputs": [
    {
     "data": {
      "text/latex": [
       "$\\displaystyle (-0.1496+0.393j)\\ \\ket{00} + (0.2058+0.5407j)\\ \\ket{01} + (0.0343+0.4819j)\\ \\ket{10} + (0.2714-0.4258j)\\ \\ket{11}$"
      ],
      "text/plain": [
       "<IPython.core.display.Math object>"
      ]
     },
     "metadata": {},
     "output_type": "display_data"
    }
   ],
   "source": [
    "qc = QCircuit(2, init='random')\n",
    "qc.display_state(decimals=4)"
   ]
  },
  {
   "cell_type": "markdown",
   "id": "c50dd87c-3e06-4619-83cc-65a32e9154f3",
   "metadata": {},
   "source": [
    "Another possible way to initialize the state is to set the `state_vector` property. For example:"
   ]
  },
  {
   "cell_type": "code",
   "execution_count": 6,
   "id": "49b2dd95-a7e8-4a3e-8e98-053f6880be71",
   "metadata": {},
   "outputs": [
    {
     "data": {
      "text/latex": [
       "$\\displaystyle 1\\ \\ket{011}$"
      ],
      "text/plain": [
       "<IPython.core.display.Math object>"
      ]
     },
     "metadata": {},
     "output_type": "display_data"
    }
   ],
   "source": [
    "qc = QCircuit(3)\n",
    "qc.state_vector = np.array([0, 0, 0, 1, 0, 0, 0, 0])\n",
    "qc.display_state()"
   ]
  },
  {
   "cell_type": "markdown",
   "id": "d6797810-4600-475c-b6e2-f9e930f6d620",
   "metadata": {},
   "source": [
    "Note that setting the state vector does not form part of the circuit and does not get re-executed if the circuit is rerun."
   ]
  },
  {
   "cell_type": "markdown",
   "id": "c50b4f83-8119-4d09-90a3-40ac1911e9d7",
   "metadata": {},
   "source": [
    "### Adding Gates"
   ]
  },
  {
   "cell_type": "markdown",
   "id": "ad3c1046-4e9b-4444-90cc-797d062a48dc",
   "metadata": {},
   "source": [
    "The gates and other components that can be used to build a quantum circuit are described in tutorial 3. There are 30 types of gates available, which are: CCU, CCX, CH, CP, CRX, CRY, CRZ, CS, CSWAP, CT, CU, CX, CY, CZ, H, I, P, RX, RY, RZ, S, SDG, SWAP, SX, T, TDG, U, X, Y and Z. It is also possible to define custom gates, including ones with parameters and controls. See Tutorial 3 for further details."
   ]
  },
  {
   "cell_type": "markdown",
   "id": "5435d09c-791a-4941-8bf2-4a4bf22395bd",
   "metadata": {},
   "source": [
    "The following simple example illustrates how gates are added to the circuit:"
   ]
  },
  {
   "cell_type": "code",
   "execution_count": 7,
   "id": "c872c0d1-46c7-41dd-8825-3a67ea77228e",
   "metadata": {},
   "outputs": [
    {
     "data": {
      "image/png": "[encoded data removed]",
      "text/plain": [
       "<Figure size 265.574x129.921 with 1 Axes>"
      ]
     },
     "metadata": {},
     "output_type": "display_data"
    },
    {
     "data": {
      "text/latex": [
       "$\\displaystyle \\ket{\\psi} = (0.75+0.43301j)\\ \\ket{00} + (0.25-0.43301j)\\ \\ket{11}$"
      ],
      "text/plain": [
       "<IPython.core.display.Math object>"
      ]
     },
     "metadata": {},
     "output_type": "display_data"
    }
   ],
   "source": [
    "PI = '\\u03C0'  # Unicode pi for annotation\n",
    "\n",
    "qc = QCircuit(2)\n",
    "qc.h(0)  # Add an H gate to qubit 0\n",
    "qc.p(np.pi / 3, f'{PI}/3', 0)  # Add a pi/3 phase gate\n",
    "qc.h(0)  # Add an H gate to qubit 0\n",
    "qc.cx(0, 1)  # Add CX gate with qubit 0 as control\n",
    "qc.draw()\n",
    "qc.display_state(r'\\ket{\\psi} = ')"
   ]
  },
  {
   "cell_type": "markdown",
   "id": "9c0497e1-3974-4e6f-bee5-2db6a3922fa0",
   "metadata": {},
   "source": [
    "Gates are added to the circuit using the corresponding method of the QCircuit class. Gates are referred to by upper-case names, such as 'H', with the corresponding method name in lower-case to comply with Python naming conventions. TinyQsim uses the big-endian qubit convention in which qubit 0 is the most-significant qubit. This is drawn as the top qubit in the circuit diagram."
   ]
  },
  {
   "cell_type": "markdown",
   "id": "66dfcf26-7a9c-4ab0-a224-e7908d386acf",
   "metadata": {},
   "source": [
    "The arguments of most gates are  just a list of qubits although some gates have additional arguments for parameters. For example, the P gate shown above is a phase gate that has an extra parameter for the phase angle and another for an annotation that is displayed beneath the gate.\n",
    "\n",
    "The gate shown with a '+' sign is a CX (controlled-NOT) gate, with the control signified by a black dot. Gates with controls have the control qubits first, so 'cx(0,1)' treats qubit '0' as the control and qubit '1' as the target."
   ]
  },
  {
   "cell_type": "markdown",
   "id": "40ebffcc-c15b-4a7a-b80f-051488d3f39b",
   "metadata": {},
   "source": [
    "### Drawing the Circuit"
   ]
  },
  {
   "cell_type": "markdown",
   "id": "eaa30ffa-221b-490e-a0fd-bc66d7e34ae0",
   "metadata": {},
   "source": [
    "The quantum circuit is drawn using the 'draw' method:"
   ]
  },
  {
   "cell_type": "code",
   "execution_count": 8,
   "id": "77976e19-f944-41c4-9a0b-b3b2822f8b61",
   "metadata": {},
   "outputs": [
    {
     "data": {
      "image/png": "[encoded data removed]",
      "text/plain": [
       "<Figure size 89.6588x129.921 with 1 Axes>"
      ]
     },
     "metadata": {},
     "output_type": "display_data"
    }
   ],
   "source": [
    "qc = QCircuit(2)\n",
    "qc.h(0)\n",
    "qc.x(1)\n",
    "qc.draw()"
   ]
  },
  {
   "cell_type": "markdown",
   "id": "26cb417d-d314-4de8-af4a-09300a211d25",
   "metadata": {},
   "source": [
    "The qubits are represented as horizontal lines on which the gates are placed. TinyQsim uses the big-endian qubit convention in which qubit 'q0' is the most-significant qubit. This qubit is drawn at the top of the diagram. Consequently, this circuit corresponds to the tensor product: $H \\otimes X$.\n",
    "\n",
    "We can add more components and draw the circuit again:"
   ]
  },
  {
   "cell_type": "code",
   "execution_count": 9,
   "id": "2cd8443d-1b44-4b82-a9f2-f5e3416c608d",
   "metadata": {},
   "outputs": [
    {
     "data": {
      "image/png": "[encoded data removed]",
      "text/plain": [
       "<Figure size 147.881x129.921 with 1 Axes>"
      ]
     },
     "metadata": {},
     "output_type": "display_data"
    }
   ],
   "source": [
    "qc.cx(0, 1)\n",
    "qc.draw()"
   ]
  },
  {
   "cell_type": "markdown",
   "id": "b5fefba9-3aaf-4aeb-9367-1b6bb91f536f",
   "metadata": {},
   "source": [
    "We can draw the circuit and print its current state at any time as we build the circuit. There is no need to run the simulator explicitly, although there is an 'execute' method to re-execute a circuit if required, as discussed later."
   ]
  },
  {
   "cell_type": "code",
   "execution_count": 10,
   "id": "2f685850-285e-458a-a47c-c8a192477660",
   "metadata": {},
   "outputs": [
    {
     "data": {
      "text/latex": [
       "$\\displaystyle 0.70711\\ \\ket{01} + 0.70711\\ \\ket{10}$"
      ],
      "text/plain": [
       "<IPython.core.display.Math object>"
      ]
     },
     "metadata": {},
     "output_type": "display_data"
    }
   ],
   "source": [
    "qc.display_state()"
   ]
  },
  {
   "cell_type": "markdown",
   "id": "061f7419-d745-4d71-9199-dce8ee6f36cc",
   "metadata": {},
   "source": [
    "The circuit diagram can be saved as a PNG file as follows:"
   ]
  },
  {
   "cell_type": "code",
   "execution_count": 11,
   "id": "7f91329f-054d-4734-879a-059d33cfed92",
   "metadata": {},
   "outputs": [
    {
     "data": {
      "image/png": "[encoded data removed]",
      "text/plain": [
       "<Figure size 147.881x129.921 with 1 Axes>"
      ]
     },
     "metadata": {},
     "output_type": "display_data"
    }
   ],
   "source": [
    "qc.draw(save='image.png')"
   ]
  },
  {
   "cell_type": "markdown",
   "id": "a0319a0f-0f3a-44b9-9dfd-3e5ade9e4661",
   "metadata": {},
   "source": [
    "The file is saved in the user's home directory by default, but an absolute or relative path name can be used if required."
   ]
  },
  {
   "cell_type": "markdown",
   "id": "4c494166-f90c-42b3-a61c-5c26bf02137f",
   "metadata": {},
   "source": [
    "### Panning and Zooming the Circuit"
   ]
  },
  {
   "cell_type": "markdown",
   "id": "5cf7b7ad-76cc-45c9-a3b9-85260ea43bb6",
   "metadata": {},
   "source": [
    "If the circuit has a large number of gates, it may get reduced in size to fit in the window. The way that the circuit is panned and zoomed depends on whether it is run in a Jupyter notebook or from a Python script:\n",
    "\n",
    "#### (i) In a Jupyter Notebook\n",
    "\n",
    "- Double click on the circuit in the notebook. This will zoom the circuit and display scroll bars.\n",
    "- Then click on the area to the left of the qubit numbers. This will expand the view vertically so that all qubits are visible.\n",
    "- If the circuit is too wide to fit in the window, the horizontal scroll bar can be used to explore the circuit.\n",
    "\n",
    "#### (ii) In a Python Script\n",
    "\n",
    "If TinyQsim is run from a Python script, instead of from a notebook, the circuit will appear in a window with controls at the bottom for zooming and panning the view. A region can be zoomed into with the magnifier tool and then the view can be panned using the pan tool (which has 4 arrows)."
   ]
  },
  {
   "cell_type": "markdown",
   "id": "b4beec58-2059-4187-8e4b-465b14fe3e23",
   "metadata": {},
   "source": [
    "### Labelling the Qubits"
   ]
  },
  {
   "cell_type": "markdown",
   "id": "9d1b2922-e5c7-40b5-b92a-0fbe0c751342",
   "metadata": {},
   "source": [
    "By default, the qubit lines in the circuit diagram are labelled q0, q1, q2, etc. It is possible to add text to the labels as shown in the following example:"
   ]
  },
  {
   "cell_type": "code",
   "execution_count": 12,
   "id": "f09d30ee-89ca-4839-8fde-aa52ead82fcd",
   "metadata": {},
   "outputs": [
    {
     "data": {
      "image/png": "[encoded data removed]",
      "text/plain": [
       "<Figure size 224.885x200.787 with 1 Axes>"
      ]
     },
     "metadata": {},
     "output_type": "display_data"
    }
   ],
   "source": [
    "qc = QCircuit(3)\n",
    "qc.qubit_labels({0: \"Alice's qubit\",\n",
    "                 1: \"Bob's qubit\"})\n",
    "qc.ccx(0, 1, 2)\n",
    "qc.draw()"
   ]
  },
  {
   "cell_type": "markdown",
   "id": "190b9753-9709-4409-8a73-cccaa6bf17e5",
   "metadata": {},
   "source": [
    "The labels are given as a Python dictionary. The dictionary need only contain entries for qubits that require a custom label. Other qubits will just get the default labels q0, q1,...\n",
    "\n",
    "If required, the qubit numbers q0,q1... can be suppressed by adding the option 'numbers=False' to the 'qubit_labels' call. For example:"
   ]
  },
  {
   "cell_type": "code",
   "execution_count": 13,
   "id": "a17a2092-b9c2-4c42-9e9f-90e3a9ec9891",
   "metadata": {},
   "outputs": [
    {
     "data": {
      "image/png": "[encoded data removed]",
      "text/plain": [
       "<Figure size 120.454x129.921 with 1 Axes>"
      ]
     },
     "metadata": {},
     "output_type": "display_data"
    }
   ],
   "source": [
    "qc = QCircuit(2)\n",
    "qc.cx(0, 1)\n",
    "qc.qubit_labels({0: \"Alice\", 1: \"Bob\"}, numbers=False)\n",
    "qc.draw()"
   ]
  },
  {
   "cell_type": "markdown",
   "id": "e4b5361b-9b4b-419f-9cf4-a4fd92326771",
   "metadata": {},
   "source": [
    "It is sometimes useful to label qubits with the ket symbol $\\ket{0}$ to make it clear they are initialised to $\\ket{0}$."
   ]
  },
  {
   "cell_type": "code",
   "execution_count": 14,
   "id": "4f61313b-3ea5-4b32-8fc8-d798bac3ca97",
   "metadata": {},
   "outputs": [
    {
     "data": {
      "image/png": "[encoded data removed]",
      "text/plain": [
       "<Figure size 182.047x129.921 with 1 Axes>"
      ]
     },
     "metadata": {},
     "output_type": "display_data"
    }
   ],
   "source": [
    "KET0 = '|0\\u27E9'\n",
    "\n",
    "qc = QCircuit(2)\n",
    "qc.qubit_labels({0: KET0, 1: KET0})\n",
    "qc.h(0)\n",
    "qc.cx(0, 1)\n",
    "qc.draw()"
   ]
  },
  {
   "cell_type": "markdown",
   "id": "f975db6b-df60-4712-9d8c-52e16a58d340",
   "metadata": {},
   "source": [
    "### Accessing the State"
   ]
  },
  {
   "cell_type": "markdown",
   "id": "efef840c-9e57-4ac6-96a6-8afe51c4bed5",
   "metadata": {},
   "source": [
    "Consider the following circuit which generates the entangled state $\\frac{1}{\\sqrt{2}}\\ket{01} + \\frac{1}{\\sqrt{2}}\\ket{10}$."
   ]
  },
  {
   "cell_type": "code",
   "execution_count": 15,
   "id": "c5f44b5f-0e90-4f81-baa5-eb73bd667af1",
   "metadata": {},
   "outputs": [
    {
     "data": {
      "image/png": "[encoded data removed]",
      "text/plain": [
       "<Figure size 147.881x129.921 with 1 Axes>"
      ]
     },
     "metadata": {},
     "output_type": "display_data"
    }
   ],
   "source": [
    "qc = QCircuit(2)\n",
    "qc.h(0)\n",
    "qc.x(1)\n",
    "qc.cx(0, 1)\n",
    "qc.draw()"
   ]
  },
  {
   "cell_type": "markdown",
   "id": "2ee6b6b6-7be1-4532-ac30-51bb249b3730",
   "metadata": {},
   "source": [
    "The raw state_vector is available as a property of a QCircuit:"
   ]
  },
  {
   "cell_type": "code",
   "execution_count": 16,
   "id": "203d3b41-5259-466a-ad79-5c13735aa41c",
   "metadata": {},
   "outputs": [
    {
     "data": {
      "text/plain": [
       "array([0.        , 0.70710678, 0.70710678, 0.        ])"
      ]
     },
     "execution_count": 16,
     "metadata": {},
     "output_type": "execute_result"
    }
   ],
   "source": [
    "qc.state_vector"
   ]
  },
  {
   "cell_type": "markdown",
   "id": "d609391f-6bd1-4cfd-8630-47fd71256047",
   "metadata": {},
   "source": [
    "However, we often just want to print the state in a human-readable form that relates to the components to the basis state labels.\n",
    "\n",
    "The 'display_state' method uses LaTeX to pretty-print the state in a Jupyter notebook:"
   ]
  },
  {
   "cell_type": "code",
   "execution_count": 17,
   "id": "bccc9c66-95c0-4fa0-99d1-b1c3ac2e75e8",
   "metadata": {},
   "outputs": [
    {
     "data": {
      "text/latex": [
       "$\\displaystyle 0.70711\\ \\ket{01} + 0.70711\\ \\ket{10}$"
      ],
      "text/plain": [
       "<IPython.core.display.Math object>"
      ]
     },
     "metadata": {},
     "output_type": "display_data"
    }
   ],
   "source": [
    "qc.display_state()"
   ]
  },
  {
   "cell_type": "markdown",
   "id": "17afd68d-d292-4e0d-8e94-4a109e31a277",
   "metadata": {},
   "source": [
    "This 'sum-of-kets' representation is easy to relate to the mathematical representation:\n",
    "\n",
    "$\\quad\\frac{1}{\\sqrt{2}}\\ket{01} + \\frac{1}{\\sqrt{2}}\\ket{10}$"
   ]
  },
  {
   "cell_type": "markdown",
   "id": "2f897450-488f-43f9-b5e3-deedfa0f322f",
   "metadata": {},
   "source": [
    "By default, 'display_state' prints 5 decimal places and omits values that round to zero. These defaults can be overridden as follows and a LaTeX prefix can be provided:"
   ]
  },
  {
   "cell_type": "code",
   "execution_count": 18,
   "id": "27f147c6-6f27-487c-b32c-ddee2fb2ad6e",
   "metadata": {},
   "outputs": [
    {
     "data": {
      "text/latex": [
       "$\\displaystyle \\ket{\\psi} = 0\\ \\ket{00} + 0.7071\\ \\ket{01} + 0.7071\\ \\ket{10} + 0\\ \\ket{11}$"
      ],
      "text/plain": [
       "<IPython.core.display.Math object>"
      ]
     },
     "metadata": {},
     "output_type": "display_data"
    }
   ],
   "source": [
    "qc.display_state(r'\\ket{\\psi} = ', decimals=4, include_zeros=True)"
   ]
  },
  {
   "cell_type": "markdown",
   "id": "41b6c5bf-d1e7-49eb-a150-ef308a2552c9",
   "metadata": {},
   "source": [
    "LaTeX output is not available when a Python script is used instead of a Jupyter notebook. In this case, the state can be formatted as a text string using the 'format_state' method:"
   ]
  },
  {
   "cell_type": "code",
   "execution_count": 19,
   "id": "8ae41632-b5c2-4521-a1cd-12f90185f3d3",
   "metadata": {},
   "outputs": [
    {
     "name": "stdout",
     "output_type": "stream",
     "text": [
      "0.70711|01⟩ + 0.70711|10⟩\n"
     ]
    }
   ],
   "source": [
    "print(qc.format_state())"
   ]
  },
  {
   "cell_type": "code",
   "execution_count": 20,
   "id": "6480d0e7-23e4-469e-90f6-d03c25ab1d2e",
   "metadata": {},
   "outputs": [
    {
     "name": "stdout",
     "output_type": "stream",
     "text": [
      "0|00⟩ + 0.7071068|01⟩ + 0.7071068|10⟩ + 0|11⟩\n"
     ]
    }
   ],
   "source": [
    "print(qc.format_state(decimals=7, include_zeros=True))"
   ]
  },
  {
   "cell_type": "markdown",
   "id": "13e8385e-ea20-4d17-9bd0-652780b530c2",
   "metadata": {},
   "source": [
    "The 'sum-of-kets' representation is a nice format for simple states involving just a few terms, but can become difficult to read when the output occupies several lines. In this case, the 'table' format may be more appropriate:"
   ]
  },
  {
   "cell_type": "code",
   "execution_count": 21,
   "id": "10c7869d-7cc6-492b-83f8-b2769636351f",
   "metadata": {},
   "outputs": [
    {
     "name": "stdout",
     "output_type": "stream",
     "text": [
      "|01⟩  0.70711\n",
      "|10⟩  0.70711\n"
     ]
    }
   ],
   "source": [
    "print(qc.format_state('table'))"
   ]
  },
  {
   "cell_type": "code",
   "execution_count": 22,
   "id": "b433b86f-b4e8-4b6e-a870-8df142e45113",
   "metadata": {},
   "outputs": [
    {
     "name": "stdout",
     "output_type": "stream",
     "text": [
      "|00⟩  0\n",
      "|01⟩  0.7071068\n",
      "|10⟩  0.7071068\n",
      "|11⟩  0\n"
     ]
    }
   ],
   "source": [
    "print(qc.format_state('table', decimals=7, include_zeros=True))"
   ]
  },
  {
   "cell_type": "markdown",
   "id": "cd7a1ffd-65c0-4556-9904-ff585218001b",
   "metadata": {},
   "source": [
    "If there are more than a few qubits, the table may become quite large. In this case, only a few elements are printed at the start and end of the table, separated by an ellipsis. The maximum number of edge elements can be controlled by using the 'edge' option. This is illustrated here using a random 5-qubit quantum state:"
   ]
  },
  {
   "cell_type": "code",
   "execution_count": 23,
   "id": "605ce1d9-1de4-498f-a833-12e54c7bc473",
   "metadata": {},
   "outputs": [
    {
     "name": "stdout",
     "output_type": "stream",
     "text": [
      "|00000⟩  (0.09339+0.10629j)\n",
      "|00001⟩  (-0.07118+0.0321j)\n",
      "|00010⟩  (0.05761-0.0336j)\n",
      "...\n",
      "|11101⟩  (0.00574+0.04965j)\n",
      "|11110⟩  (-0.19642-0.04221j)\n",
      "|11111⟩  (-0.04667+0.0566j)\n"
     ]
    }
   ],
   "source": [
    "qc = QCircuit(5, init='random')\n",
    "print(qc.format_state('table', edge=3))"
   ]
  },
  {
   "cell_type": "markdown",
   "id": "c8090f15-b157-48e7-9ba0-4e91e1be1080",
   "metadata": {},
   "source": [
    "Setting 'edge=0' prints the whole table.\n",
    "\n",
    "If the amplitude of a single element is required, such as $\\ket{11101}$, it can be obtained from the state_vector as follows:"
   ]
  },
  {
   "cell_type": "code",
   "execution_count": 24,
   "id": "d0fbb381-f2d2-4793-ae47-146dbbf7e218",
   "metadata": {},
   "outputs": [
    {
     "name": "stdout",
     "output_type": "stream",
     "text": [
      "(0.005740361183925665+0.049653107413863154j)\n"
     ]
    }
   ],
   "source": [
    "print(qc.state_vector[0b11101])"
   ]
  },
  {
   "cell_type": "markdown",
   "id": "f26ae9cd-d0a3-47cd-ab34-013038057b8f",
   "metadata": {},
   "source": [
    "Note that commands such as 'format_state' and 'display_state' are used interactively and do not form part of the circuit."
   ]
  },
  {
   "cell_type": "markdown",
   "id": "0d765412-00bf-499b-ad8e-d95aec9c64d5",
   "metadata": {},
   "source": [
    "### Probabilities"
   ]
  },
  {
   "cell_type": "markdown",
   "id": "09ef60fb-9751-46ab-a381-1df5a9dcec10",
   "metadata": {},
   "source": [
    "The probabilities of different measurement outcomes can be obtained as follows."
   ]
  },
  {
   "cell_type": "markdown",
   "id": "13e6499f-9d25-45b0-b143-89115c9deece",
   "metadata": {},
   "source": [
    "As an example, consider the following circuit:"
   ]
  },
  {
   "cell_type": "code",
   "execution_count": 25,
   "id": "581a01f6-d08d-4242-a5de-1d577c05a10e",
   "metadata": {},
   "outputs": [
    {
     "data": {
      "image/png": "[encoded data removed]",
      "text/plain": [
       "<Figure size 265.574x129.921 with 1 Axes>"
      ]
     },
     "metadata": {},
     "output_type": "display_data"
    },
    {
     "data": {
      "text/latex": [
       "$\\displaystyle \\ket{\\psi} = (0.75+0.43301j)\\ \\ket{01} + (0.25-0.43301j)\\ \\ket{10}$"
      ],
      "text/plain": [
       "<IPython.core.display.Math object>"
      ]
     },
     "metadata": {},
     "output_type": "display_data"
    }
   ],
   "source": [
    "qc = QCircuit(2)\n",
    "qc.h(0)\n",
    "qc.p(np.pi / 3, 'pi/3', 0)\n",
    "qc.h(0)\n",
    "qc.x(1)\n",
    "qc.cx(0, 1)\n",
    "qc.draw()\n",
    "qc.display_state(r'\\ket{\\psi} = ')"
   ]
  },
  {
   "cell_type": "markdown",
   "id": "2ba220cc-7573-4b89-b56b-81b60ca3c373",
   "metadata": {},
   "source": [
    "The probabilities of the possible measurement outcomes are the squares of the absolute values of the complex amplitudes in the state vector, which in this case are $[0, \\frac{3}{4},  \\frac{1}{4}, 0]$. This array of values can be obtained as a numpy array as follows:"
   ]
  },
  {
   "cell_type": "code",
   "execution_count": 26,
   "id": "a15323a8-9439-47f8-8d43-4ab29287401c",
   "metadata": {},
   "outputs": [
    {
     "data": {
      "text/plain": [
       "array([0.  , 0.75, 0.25, 0.  ])"
      ]
     },
     "execution_count": 26,
     "metadata": {},
     "output_type": "execute_result"
    }
   ],
   "source": [
    "qc.probability_array()"
   ]
  },
  {
   "cell_type": "markdown",
   "id": "8d8aec39-7a1d-4fd8-9d16-d0ba0066811c",
   "metadata": {},
   "source": [
    "However, we often just want to print the probabilities in an easily-readable form that relates them to the basis state labels. One way do this is using the 'format_probabilities' method. This method should be called in a 'print' statement for proper formatting."
   ]
  },
  {
   "cell_type": "code",
   "execution_count": 27,
   "id": "f702b7e6-b662-4456-9846-0c15af35dc87",
   "metadata": {},
   "outputs": [
    {
     "name": "stdout",
     "output_type": "stream",
     "text": [
      "|01⟩  0.75\n",
      "|10⟩  0.25\n"
     ]
    }
   ],
   "source": [
    "print(qc.format_probabilities())"
   ]
  },
  {
   "cell_type": "markdown",
   "id": "0066c620-b1b2-4c2d-973e-c8a96c6c1fc0",
   "metadata": {},
   "source": [
    "The format can be customised by specifying various options. For example:"
   ]
  },
  {
   "cell_type": "code",
   "execution_count": 28,
   "id": "2d02d8fc-02c3-464d-a55d-b8efdbf13a13",
   "metadata": {},
   "outputs": [
    {
     "name": "stdout",
     "output_type": "stream",
     "text": [
      "|00⟩  0\n",
      "|01⟩  0.75\n",
      "|10⟩  0.25\n",
      "|11⟩  0\n"
     ]
    }
   ],
   "source": [
    "print(qc.format_probabilities(include_zeros=True, decimals=4))"
   ]
  },
  {
   "cell_type": "markdown",
   "id": "051e2914-529c-4b05-ac64-2384cf4f2bbb",
   "metadata": {},
   "source": [
    "By default, trailing zeros on the decimal fraction are trimmed off. This can be overridden by setting 'trim=False':"
   ]
  },
  {
   "cell_type": "code",
   "execution_count": 29,
   "id": "3a215d05-e4e6-49fa-bea8-de6ce2ab043d",
   "metadata": {},
   "outputs": [
    {
     "name": "stdout",
     "output_type": "stream",
     "text": [
      "|00⟩  0.0000\n",
      "|01⟩  0.7500\n",
      "|10⟩  0.2500\n",
      "|11⟩  0.0000\n"
     ]
    }
   ],
   "source": [
    "print(qc.format_probabilities(include_zeros=True, decimals=4, trim=False))"
   ]
  },
  {
   "cell_type": "markdown",
   "id": "459445fd-340a-49fc-8711-56f25735b08e",
   "metadata": {},
   "source": [
    "Alternatively, the probabilities can be displayed as a histogram:"
   ]
  },
  {
   "cell_type": "code",
   "execution_count": 30,
   "id": "33ad9318-4d6b-4627-b0f2-e64b4648863f",
   "metadata": {},
   "outputs": [
    {
     "data": {
      "image/png": "[encoded data removed]",
      "text/plain": [
       "<Figure size 500x150 with 1 Axes>"
      ]
     },
     "metadata": {},
     "output_type": "display_data"
    }
   ],
   "source": [
    "qc.plot_probabilities()"
   ]
  },
  {
   "cell_type": "markdown",
   "id": "23908765-aab6-4995-bc76-f95b47b34bf9",
   "metadata": {},
   "source": [
    "A 'height' option can be included to scale the vertical height of the plot relative to its default size.\n",
    "\n",
    "The following example shows the probabilities for a random 5-qubit state:"
   ]
  },
  {
   "cell_type": "code",
   "execution_count": 31,
   "id": "8e54861d-1f43-494c-a810-184814990dd0",
   "metadata": {},
   "outputs": [
    {
     "data": {
      "image/png": "[encoded data removed]",
      "text/plain": [
       "<Figure size 1600x300 with 1 Axes>"
      ]
     },
     "metadata": {},
     "output_type": "display_data"
    }
   ],
   "source": [
    "qc = QCircuit(5, init='random')\n",
    "qc.plot_probabilities(height=2.0)"
   ]
  },
  {
   "cell_type": "markdown",
   "id": "be6a35c1-dad9-4d37-9fc8-13843dcfc673",
   "metadata": {},
   "source": [
    "When displayed in a Jupyter Notebook or from a Python script, the histogram may be zoomed and panned, as described earlier, making this representation usable for up to about 10 qubits, although this has just over a thousand basis states.\n",
    "\n",
    "The 'probability_array', format_probabilities' and 'plot_probabilities' methods can be given a list of arguments specifying the qubits to be considered. The probabilities are then summed over the other qubits that are not included."
   ]
  },
  {
   "cell_type": "markdown",
   "id": "870f61ee-9426-4583-b99f-5a06dbfe3a55",
   "metadata": {},
   "source": [
    "### Quantum Measurement"
   ]
  },
  {
   "cell_type": "markdown",
   "id": "eeacfcb9-745a-4168-a602-426ebd2754fa",
   "metadata": {},
   "source": [
    "#### General Approach\n",
    "\n",
    "With a real quantum computer, the only way to get a result is to perform a quantum measurement that collapses the state to one of the basis states. Consequently, quantum circuits typically include measurements on the final state of each qubit. Probabilities are estimated by running the program many times and looking at the frequencies of the various measurement outcomes.\n",
    "\n",
    "The preferred approach for simulation with TinyQsim is to have quantum circuits that do not contain any measurements. This makes it possible to calculate the probabilities of the various measurement outcomes without having to run the circuit more than once. This gives a large performance advantage over a circuit containing measurements, which must be run hundreds of times to build up measurement counts to approximate the probabilities.\n",
    "\n",
    "Measurements at the end of a circuit can simply be removed. Mid-circuit measurements are more tricky, but the circuit can in principle always be rearranged into an equivalent circuit with all measurements at the end, using the *Principle of deferred measurement*. These measurements can then be removed."
   ]
  },
  {
   "cell_type": "markdown",
   "id": "3fe06db6-29c0-4594-8976-52374f4f1be8",
   "metadata": {},
   "source": [
    "#### Simulated Counts"
   ]
  },
  {
   "cell_type": "markdown",
   "id": "cad9972d-4bcb-4d18-afab-f8e88da527a9",
   "metadata": {},
   "source": [
    "Sometimes, it is useful to see measurement counts, instead of just probabilities. If the circuit contains no measurements, then we can efficiently resample the probability distribution many times without rerunning the circuit. This operation is provided by the 'counts' and 'plot_counts' methods in their default 'resample' mode.\n",
    "\n",
    "We will use the same example as before:"
   ]
  },
  {
   "cell_type": "code",
   "execution_count": 32,
   "id": "4cf31728-c439-4f7d-be1f-75b38c2f4eef",
   "metadata": {},
   "outputs": [
    {
     "data": {
      "image/png": "[encoded data removed]",
      "text/plain": [
       "<Figure size 147.881x129.921 with 1 Axes>"
      ]
     },
     "metadata": {},
     "output_type": "display_data"
    }
   ],
   "source": [
    "qc = QCircuit(2)\n",
    "qc.x(1)\n",
    "qc.h(0)\n",
    "qc.cx(0, 1)\n",
    "qc.draw()"
   ]
  },
  {
   "cell_type": "code",
   "execution_count": 33,
   "id": "06ff9ecf-c14a-4c4b-833d-979a53634bf4",
   "metadata": {},
   "outputs": [
    {
     "data": {
      "text/plain": [
       "{'01': 496, '10': 504}"
      ]
     },
     "execution_count": 33,
     "metadata": {},
     "output_type": "execute_result"
    }
   ],
   "source": [
    "qc.counts()"
   ]
  },
  {
   "cell_type": "markdown",
   "id": "c2a410f4-bc0e-4ce4-9d36-d406d0258dad",
   "metadata": {},
   "source": [
    "If we repeat the experiment, we are likely to get different values:"
   ]
  },
  {
   "cell_type": "code",
   "execution_count": 34,
   "id": "8bd5043a-903c-4998-b7f4-48ad7bd7fcce",
   "metadata": {},
   "outputs": [
    {
     "data": {
      "text/plain": [
       "{'01': 483, '10': 517}"
      ]
     },
     "execution_count": 34,
     "metadata": {},
     "output_type": "execute_result"
    }
   ],
   "source": [
    "qc.counts()"
   ]
  },
  {
   "cell_type": "code",
   "execution_count": 35,
   "id": "07b5bbd9-3e4d-4d87-a4f4-6f6ccabd0ac6",
   "metadata": {},
   "outputs": [
    {
     "data": {
      "image/png": "[encoded data removed]",
      "text/plain": [
       "<Figure size 500x150 with 1 Axes>"
      ]
     },
     "metadata": {},
     "output_type": "display_data"
    }
   ],
   "source": [
    "qc.plot_counts()"
   ]
  },
  {
   "cell_type": "markdown",
   "id": "c4e817d0-6337-4c67-a3af-240ca3afae7b",
   "metadata": {},
   "source": [
    "The result is similar to the one for probabilities except that it contains statistical variations.\n",
    "\n",
    "Note that the measurement counts on a real quantum computer may also fluctuate as a result of noise and decoherence, but these effects are not modelled by TinyQsim."
   ]
  },
  {
   "cell_type": "markdown",
   "id": "6b286f18-218b-44d6-ac17-4e676daa10e3",
   "metadata": {},
   "source": [
    "#### Adding Measurements"
   ]
  },
  {
   "cell_type": "markdown",
   "id": "8e8f7955-a519-4a43-afa7-20341c9763ae",
   "metadata": {},
   "source": [
    "A quantum measurement may be performed on one or more qubits. This collapses the state as it would on a real quantum computer.\n",
    "\n",
    "The arguments specify the qubits to be measured. If they are omitted, all qubits are measured."
   ]
  },
  {
   "cell_type": "code",
   "execution_count": 36,
   "id": "d316c95e-45bd-4cdc-b780-04ac42a1f0e1",
   "metadata": {},
   "outputs": [
    {
     "data": {
      "image/png": "[encoded data removed]",
      "text/plain": [
       "<Figure size 206.658x129.921 with 1 Axes>"
      ]
     },
     "metadata": {},
     "output_type": "display_data"
    }
   ],
   "source": [
    "qc.measure()\n",
    "qc.draw()"
   ]
  },
  {
   "cell_type": "markdown",
   "id": "fc343dc8-1569-4a6c-8519-aa4291d0f78b",
   "metadata": {},
   "source": [
    "The results may be accessed from the return value of the 'measure' call. Alternatively, the 'results' method can called after the circuit has run, to get a dictionary of the last measured values for each measured qubit:"
   ]
  },
  {
   "cell_type": "code",
   "execution_count": 37,
   "id": "e21607f6-489c-4507-b1a2-fdf13b8019c1",
   "metadata": {},
   "outputs": [
    {
     "data": {
      "text/plain": [
       "{0: 0, 1: 1}"
      ]
     },
     "execution_count": 37,
     "metadata": {},
     "output_type": "execute_result"
    }
   ],
   "source": [
    "qc.results()"
   ]
  },
  {
   "cell_type": "markdown",
   "id": "e43d263a-7b93-41b2-bd36-af2708ab2117",
   "metadata": {},
   "source": [
    "If we now look at the state, we will find that it has collapsed to either $\\ket{01}$ or $\\ket{10}$:"
   ]
  },
  {
   "cell_type": "code",
   "execution_count": 38,
   "id": "be58a28c-98f2-419e-9b32-8a0b6dc54bf8",
   "metadata": {},
   "outputs": [
    {
     "data": {
      "text/latex": [
       "$\\displaystyle 1\\ \\ket{01}$"
      ],
      "text/plain": [
       "<IPython.core.display.Math object>"
      ]
     },
     "metadata": {},
     "output_type": "display_data"
    }
   ],
   "source": [
    "qc.display_state()"
   ]
  },
  {
   "cell_type": "markdown",
   "id": "439ae551-6405-4446-865a-887663191a12",
   "metadata": {},
   "source": [
    "#### Measurement Counts"
   ]
  },
  {
   "cell_type": "markdown",
   "id": "18f80356-f5cb-47c2-852a-0a694b1a2cbc",
   "metadata": {},
   "source": [
    "If the circuit contains measurements, either the count option mode='measure' or mode='repeat' can be used to force re-execution of the whole circuit. If there are no measurements, then the default 'resample' mode is faster as the circuit is only executed once. This may be important when the circuit has many qubits."
   ]
  },
  {
   "cell_type": "code",
   "execution_count": 39,
   "id": "45d55f10-38a6-44d0-9ad4-375e705cabda",
   "metadata": {},
   "outputs": [
    {
     "data": {
      "image/png": "[encoded data removed]",
      "text/plain": [
       "<Figure size 206.658x129.921 with 1 Axes>"
      ]
     },
     "metadata": {},
     "output_type": "display_data"
    }
   ],
   "source": [
    "qc = QCircuit(2)\n",
    "qc.x(1)\n",
    "qc.h(0)\n",
    "qc.cx(0, 1)\n",
    "qc.measure()\n",
    "qc.draw()"
   ]
  },
  {
   "cell_type": "markdown",
   "id": "afffd28e-4b55-4a85-853c-cf1311475a92",
   "metadata": {},
   "source": [
    "The following demonstrates the 'measure' mode:"
   ]
  },
  {
   "cell_type": "code",
   "execution_count": 40,
   "id": "468e8fc1-0cec-4e5d-8504-2339b7229d55",
   "metadata": {},
   "outputs": [
    {
     "data": {
      "text/plain": [
       "{'01': 493, '10': 507}"
      ]
     },
     "execution_count": 40,
     "metadata": {},
     "output_type": "execute_result"
    }
   ],
   "source": [
    "qc.counts(mode='measure')"
   ]
  },
  {
   "cell_type": "code",
   "execution_count": 41,
   "id": "7dd61972-4f2f-4b6d-b842-d4e250ca30d3",
   "metadata": {},
   "outputs": [
    {
     "data": {
      "image/png": "[encoded data removed]",
      "text/plain": [
       "<Figure size 500x150 with 1 Axes>"
      ]
     },
     "metadata": {},
     "output_type": "display_data"
    }
   ],
   "source": [
    "qc.plot_counts(mode='measure')"
   ]
  },
  {
   "cell_type": "markdown",
   "id": "f6a56d97-51ed-4c59-b2d1-665df6eb1797",
   "metadata": {},
   "source": [
    "The 'repeat' mode is similar:"
   ]
  },
  {
   "cell_type": "code",
   "execution_count": 42,
   "id": "859bca32-3e0e-48dc-8fc8-482fd44895d0",
   "metadata": {},
   "outputs": [
    {
     "data": {
      "text/plain": [
       "{'01': 476, '10': 524}"
      ]
     },
     "execution_count": 42,
     "metadata": {},
     "output_type": "execute_result"
    }
   ],
   "source": [
    "qc.counts(mode='repeat')"
   ]
  },
  {
   "cell_type": "code",
   "execution_count": 43,
   "id": "ddbc4fb8-d102-43d1-9a82-b6056ee7d784",
   "metadata": {},
   "outputs": [
    {
     "data": {
      "image/png": "[encoded data removed]",
      "text/plain": [
       "<Figure size 500x150 with 1 Axes>"
      ]
     },
     "metadata": {},
     "output_type": "display_data"
    }
   ],
   "source": [
    "qc.plot_counts(mode='repeat')"
   ]
  },
  {
   "cell_type": "markdown",
   "id": "db1381a0-c1d1-49c9-a096-c848c6f05d7d",
   "metadata": {},
   "source": [
    "It doesn't matter whether we use the 'measure' or 'repeat' mode on this simple circuit because the measurements are on the outputs.\n",
    "\n",
    "The effect of the various count modes is as follows:\n",
    "\n",
    "##### mode='repeat'\n",
    "\n",
    "Perform multiple executions of the circuit, measuring the outputs once on each run. The circuit may contain measurement operations, including mid-circuit measurements. The results are samples of the output distribution rather than the measurement outcomes.\n",
    "\n",
    "##### mode='measure'\n",
    "\n",
    "Perform multiple executions of a circuit containing measurement operations. The results are counts of the measurement outcomes which are not necessarily on the circuit outputs. If there is no measurement \"gate\" on any of the requested qubits, the corresponding bit position in the output will be zero. If there are measurement operations on any qubits that are not requested, then their outcomes are not included in the output.\n",
    "\n",
    "##### mode='resample'\n",
    "\n",
    "Perform a single execution of the circuit and sample the resulting probability distribution multiple times. The circuit should not contain any measurement operations. This mode is much faster than the 'repeat' and 'measure' modes. This is the default mode that is used for circuits that do not contain measurements."
   ]
  },
  {
   "cell_type": "markdown",
   "id": "6bd82aab-00bc-4850-a298-028e04f2d06d",
   "metadata": {},
   "source": [
    "See the QCircuit API documentation for further details."
   ]
  },
  {
   "cell_type": "markdown",
   "id": "3d5eb9f0-1cbc-4440-a25e-d4d4a7c76a53",
   "metadata": {},
   "source": [
    "### Reset"
   ]
  },
  {
   "cell_type": "markdown",
   "id": "e450bff2-ccaf-4339-99d7-72f9dd00b7e4",
   "metadata": {},
   "source": [
    "Reset is an experimental feature and its use is not recommended.\n",
    "\n",
    "The 'reset' operation resets a qubit to the $\\ket{0}$ state. One application is to allow a qubit to be reused, which may be useful since the maximum number of qubits available is quite limited. For example, ancilla qubits may no longer be needed once they have been used, so it may be possible to reset them and reuse them in a later part of the circuit."
   ]
  },
  {
   "cell_type": "code",
   "execution_count": 44,
   "id": "2e890b70-ab4a-4bd9-95b5-e54125818bd4",
   "metadata": {},
   "outputs": [
    {
     "data": {
      "text/latex": [
       "$\\displaystyle \\textrm{Before}:1\\ \\ket{1}$"
      ],
      "text/plain": [
       "<IPython.core.display.Math object>"
      ]
     },
     "metadata": {},
     "output_type": "display_data"
    },
    {
     "data": {
      "text/latex": [
       "$\\displaystyle \\textrm{After}:1\\ \\ket{0}$"
      ],
      "text/plain": [
       "<IPython.core.display.Math object>"
      ]
     },
     "metadata": {},
     "output_type": "display_data"
    },
    {
     "data": {
      "image/png": "[encoded data removed]",
      "text/plain": [
       "<Figure size 147.881x59.0551 with 1 Axes>"
      ]
     },
     "metadata": {},
     "output_type": "display_data"
    }
   ],
   "source": [
    "qc = QCircuit(1)\n",
    "qc.x(0)\n",
    "qc.display_state(r'\\textrm{Before}:')\n",
    "qc.reset(0)  # Reset qubit 0 to |0>\n",
    "qc.display_state(r'\\textrm{After}:')\n",
    "qc.draw()"
   ]
  },
  {
   "cell_type": "markdown",
   "id": "89d9249f-5cdb-42a4-93c5-1cbd8083ef9d",
   "metadata": {},
   "source": [
    "The behaviour of reset is equivalent to a measurement of the qubit followed by an X operation conditional on the measurement result being 1. This forces the qubit into the $\\ket{0}$ state. Any other qubits that were entangled with the reset qubit are affected in the same way as if the reset were a measurement.\n",
    "\n",
    "Although 'reset' effectively performs a measurement, it is not included in the output of the 'results' call. If this is needed, the 'reset' should be preceded by an explicit measurement."
   ]
  },
  {
   "cell_type": "markdown",
   "id": "43255ad7-2d4e-4297-ac3b-705634cd9569",
   "metadata": {},
   "source": [
    "### Sub-Circuits"
   ]
  },
  {
   "cell_type": "markdown",
   "id": "157d3a36-85ac-42ca-a948-6f814287acbe",
   "metadata": {},
   "source": [
    "TinyQsim does not provide explicit support for defining sub-circuits. However, a sub-circuit may be defined as a Python function and then used in a QCircuit.\n",
    "\n",
    "This is illustrated by the following example that defines a function 'interfere'. This creates single-qubit interference by creating a superposition of $\\ket{0}$ and $\\ket{1}$ and then interfering them with a relative phase angle. The function has arguments to specify the qubit to which it is applied, the phase angle and a label."
   ]
  },
  {
   "cell_type": "code",
   "execution_count": 45,
   "id": "e07d0b66-5321-482d-aa9f-427f08135ae1",
   "metadata": {},
   "outputs": [],
   "source": [
    "def interfere(qc, qubit: int, phase: float, label: str):\n",
    "    qc.h(qubit)\n",
    "    qc.p(phase, label, qubit)\n",
    "    qc.h(qubit)"
   ]
  },
  {
   "cell_type": "markdown",
   "id": "7313379a-b093-4a86-ac23-6e71e3b9a91b",
   "metadata": {},
   "source": [
    "We can then use this in different circuits or multiple times in the same circuit."
   ]
  },
  {
   "cell_type": "code",
   "execution_count": 46,
   "id": "b2571812-5000-430d-b659-ad33126b59c6",
   "metadata": {},
   "outputs": [
    {
     "data": {
      "image/png": "[encoded data removed]",
      "text/plain": [
       "<Figure size 324.546x129.921 with 1 Axes>"
      ]
     },
     "metadata": {},
     "output_type": "display_data"
    },
    {
     "name": "stdout",
     "output_type": "stream",
     "text": [
      "|00⟩  0.64017\n",
      "|01⟩  0.10983\n",
      "|10⟩  0.21339\n",
      "|11⟩  0.03661\n"
     ]
    }
   ],
   "source": [
    "qc = QCircuit(2)\n",
    "interfere(qc, 0, np.pi / 3, 'pi/3')\n",
    "interfere(qc, 1, np.pi / 4, 'pi/4')\n",
    "\n",
    "qc.draw()\n",
    "print(qc.format_probabilities())"
   ]
  },
  {
   "cell_type": "markdown",
   "id": "62c86417-9c88-4d46-b6f6-2bb97133ac4c",
   "metadata": {},
   "source": [
    "### Re-Execution"
   ]
  },
  {
   "cell_type": "markdown",
   "id": "fc53956f-a542-4966-a102-0a371519f015",
   "metadata": {},
   "source": [
    "TinyQsim executes each gate as it is added to the circuit so that the state is always up-to-date. This is very convenient as it avoids having to explicitly run a simulator on the circuit. However, it is sometimes useful to be able to re-run a circuit.\n",
    "\n",
    "Consider a simple circuit that creates a Bell state:"
   ]
  },
  {
   "cell_type": "code",
   "execution_count": 47,
   "id": "dcc2d98f-ba97-4a34-8153-3151682e64d6",
   "metadata": {},
   "outputs": [],
   "source": [
    "qc = QCircuit(2)\n",
    "qc.h(0)\n",
    "qc.cx(0, 1)"
   ]
  },
  {
   "cell_type": "markdown",
   "id": "8fc0eb1e-58ea-4821-a64a-5b7c9feb778d",
   "metadata": {},
   "source": [
    "Suppose that we wish to run the circuit 4 times, with the inputs $\\ket{00}$, $\\ket{01}$, $\\ket{10}$ and $\\ket{11}$ to generate the 4 Bell states:\n",
    "\n",
    "We can use the 'execute' method to re-run the circuit multiple times. The state will be initialized by setting the 'state_vector' property to a different value each time. Consequently, 'execute' will be called with the 'init' option 'none', so that the normal initialization of the state to $\\ket{00\\dots 0}$ is skipped.\n",
    "\n",
    "The numpy 'eye(N)' function creates an 'NxN' identity matrix, the rows of which are the state vectors of the basis states. This provides a convenient way to iterate over the basis vectors."
   ]
  },
  {
   "cell_type": "code",
   "execution_count": 48,
   "id": "68585c52-b18d-4ddd-bdaf-4208a088812b",
   "metadata": {},
   "outputs": [
    {
     "name": "stdout",
     "output_type": "stream",
     "text": [
      "0.70711|00⟩ + 0.70711|11⟩\n",
      "0.70711|01⟩ + 0.70711|10⟩\n",
      "0.70711|00⟩ - 0.70711|11⟩\n",
      "0.70711|01⟩ - 0.70711|10⟩\n"
     ]
    }
   ],
   "source": [
    "for init in np.eye(4):\n",
    "    qc.state_vector = init\n",
    "    qc.execute(init='none')\n",
    "    print(qc.format_state())"
   ]
  },
  {
   "cell_type": "markdown",
   "id": "b6df3712-8564-4c2d-8180-66c423b8fbec",
   "metadata": {},
   "source": [
    "Another way to obtain the same result would be re-create the circuit each time:"
   ]
  },
  {
   "cell_type": "code",
   "execution_count": 49,
   "id": "501111b0-b1ff-4822-8003-069d562592cd",
   "metadata": {},
   "outputs": [
    {
     "name": "stdout",
     "output_type": "stream",
     "text": [
      "0.70711|00⟩ + 0.70711|11⟩\n",
      "0.70711|01⟩ + 0.70711|10⟩\n",
      "0.70711|00⟩ - 0.70711|11⟩\n",
      "0.70711|01⟩ - 0.70711|10⟩\n"
     ]
    }
   ],
   "source": [
    "for init in np.eye(4):\n",
    "    qc = QCircuit(2)\n",
    "    qc.state_vector = init\n",
    "    # Create the circuit\n",
    "    qc.h(0)\n",
    "    qc.cx(0, 1)\n",
    "    print(qc.format_state())"
   ]
  },
  {
   "cell_type": "markdown",
   "id": "273f763c-0783-4223-a287-1bb251015bf2",
   "metadata": {},
   "source": [
    "### LaTeX Formatting"
   ]
  },
  {
   "cell_type": "markdown",
   "id": "48ca9f14-c266-454a-ab6d-ddd0144c5b2f",
   "metadata": {},
   "source": [
    "States, arrays and matrices can be formatted as LaTeX and included in Jupyter notebooks or cut-and-pasted into LaTeX or Markdown documents."
   ]
  },
  {
   "cell_type": "markdown",
   "id": "6611fcce-1d43-4062-b5f2-8a188d3861ef",
   "metadata": {},
   "source": [
    "#### Displaying the State"
   ]
  },
  {
   "cell_type": "markdown",
   "id": "5f2a92e2-77a1-46a5-a531-ad6a280495e4",
   "metadata": {},
   "source": [
    "For this example, we will create a tripartite entanglement known as a GHZ state:"
   ]
  },
  {
   "cell_type": "code",
   "execution_count": 50,
   "id": "1e97b9ba-4847-4571-9083-15eaa9aa44c9",
   "metadata": {},
   "outputs": [
    {
     "data": {
      "image/png": "[encoded data removed]",
      "text/plain": [
       "<Figure size 206.658x200.787 with 1 Axes>"
      ]
     },
     "metadata": {},
     "output_type": "display_data"
    }
   ],
   "source": [
    "qc = QCircuit(3)\n",
    "qc.h(0)\n",
    "qc.cx(0, 1)\n",
    "qc.cx(1, 2)\n",
    "qc.draw()"
   ]
  },
  {
   "cell_type": "markdown",
   "id": "94f65d3a-4c15-40dc-bb20-1a8471881d0b",
   "metadata": {},
   "source": [
    "The state can be displayed in a notebook using the 'display_state' method, as discussed earlier. A LaTeX prefix can be included if required and the number of decimal places can be specified:"
   ]
  },
  {
   "cell_type": "code",
   "execution_count": 51,
   "id": "db158b93-0b96-422c-a213-9d2c941bb4b7",
   "metadata": {},
   "outputs": [
    {
     "data": {
      "text/latex": [
       "$\\displaystyle 0.70711\\ \\ket{000} + 0.70711\\ \\ket{111}$"
      ],
      "text/plain": [
       "<IPython.core.display.Math object>"
      ]
     },
     "metadata": {},
     "output_type": "display_data"
    }
   ],
   "source": [
    "qc.display_state()"
   ]
  },
  {
   "cell_type": "code",
   "execution_count": 52,
   "id": "7e628f44-5811-4e75-95bf-fcec8c0e57db",
   "metadata": {},
   "outputs": [
    {
     "data": {
      "text/latex": [
       "$\\displaystyle \\ket{\\psi} = 0.7071\\ \\ket{000} + 0.7071\\ \\ket{111}$"
      ],
      "text/plain": [
       "<IPython.core.display.Math object>"
      ]
     },
     "metadata": {},
     "output_type": "display_data"
    }
   ],
   "source": [
    "qc.display_state(r'\\ket{\\psi} = ', decimals=4)"
   ]
  },
  {
   "cell_type": "markdown",
   "id": "681f538a-ae5b-40b7-8efe-a499a3f340ae",
   "metadata": {},
   "source": [
    "#### Accessing the Raw LaTeX"
   ]
  },
  {
   "cell_type": "markdown",
   "id": "9d368c16-58fe-4112-a608-dcea1ecfcdd4",
   "metadata": {},
   "source": [
    "The raw LaTeX can be obtained for inclusion in other documents, as follows:"
   ]
  },
  {
   "cell_type": "code",
   "execution_count": 53,
   "id": "45c023b8-30df-49b2-a3e7-2feca26983c3",
   "metadata": {},
   "outputs": [
    {
     "name": "stdout",
     "output_type": "stream",
     "text": [
      "0.7071\\ \\ket{000} + 0.7071\\ \\ket{111}\n"
     ]
    }
   ],
   "source": [
    "print(qc.format_state('latex', decimals=4))"
   ]
  },
  {
   "cell_type": "markdown",
   "id": "a01c847b-e3d5-4472-aa82-4256623b2e30",
   "metadata": {},
   "source": [
    "#### LaTeX Arrays and Matrices"
   ]
  },
  {
   "cell_type": "markdown",
   "id": "0223e774-56c9-45a0-8198-58345cd9f7b5",
   "metadata": {},
   "source": [
    "The 'latex_array' function can be used to format a numpy 1D or 2D array as a LaTeX string:"
   ]
  },
  {
   "cell_type": "code",
   "execution_count": 54,
   "id": "5ddf72ee-6aa9-483b-ac6a-e71bda92968c",
   "metadata": {},
   "outputs": [
    {
     "name": "stdout",
     "output_type": "stream",
     "text": [
      "\\begin{bmatrix}0.7071&0.0&0.0&0.0&0.0&0.0&0.0&0.7071 \\end{bmatrix}\n"
     ]
    }
   ],
   "source": [
    "from tinyqsim.format import latex_array\n",
    "from IPython.display import Math\n",
    "\n",
    "print(latex_array(qc.state_vector))"
   ]
  },
  {
   "cell_type": "markdown",
   "id": "097af800-0ec7-4a4a-a9a4-ff202682397d",
   "metadata": {},
   "source": [
    "This can be displayed in a notebook as follows:"
   ]
  },
  {
   "cell_type": "code",
   "execution_count": 55,
   "id": "f896cade-2a52-466c-8b98-8168b3d0751d",
   "metadata": {},
   "outputs": [
    {
     "data": {
      "text/latex": [
       "$\\displaystyle \\begin{bmatrix}0.7071&0.0&0.0&0.0&0.0&0.0&0.0&0.7071 \\end{bmatrix}$"
      ],
      "text/plain": [
       "<IPython.core.display.Math object>"
      ]
     },
     "metadata": {},
     "output_type": "display_data"
    }
   ],
   "source": [
    "display(Math(latex_array(qc.state_vector, decimals=4)))"
   ]
  },
  {
   "cell_type": "markdown",
   "id": "ff18f93c-fc1a-40d1-897e-71ac75e88408",
   "metadata": {},
   "source": [
    "The following example shows how the unitary matrix of the CX gate can be displayed:"
   ]
  },
  {
   "cell_type": "code",
   "execution_count": 56,
   "id": "4b542364-152e-4fe2-a2a6-a687c7d5fb4d",
   "metadata": {},
   "outputs": [
    {
     "data": {
      "text/latex": [
       "$\\displaystyle \\text{CX} = \\begin{bmatrix}1&0&0&0\\\\0&1&0&0\\\\0&0&0&1\\\\0&0&1&0 \\end{bmatrix}$"
      ],
      "text/plain": [
       "<IPython.core.display.Math object>"
      ]
     },
     "metadata": {},
     "output_type": "display_data"
    }
   ],
   "source": [
    "from tinyqsim.gates import CX\n",
    "\n",
    "display(Math(latex_array(CX, r'\\text{CX} = ')))"
   ]
  },
  {
   "cell_type": "markdown",
   "id": "42c1f80f-6614-4621-83a4-56d1c8694435",
   "metadata": {},
   "source": [
    "The 'display' call can be omitted for the last line in a notebook cell."
   ]
  },
  {
   "cell_type": "markdown",
   "id": "7de31740-31a6-4dd5-8376-ffa27228a39f",
   "metadata": {},
   "source": [
    "### The Unitary Matrix of a Circuit"
   ]
  },
  {
   "cell_type": "markdown",
   "id": "47eace24-f48a-45ca-a862-33277e1812b3",
   "metadata": {},
   "source": [
    "It is occasionally useful to obtain the unitary matrix corresponding to a circuit. This can be done with the QCircuit 'to_unitary' method, as shown in the following example. \n",
    "\n",
    "The unitary matrix of a K-qubit circuit has $2^{2K}$ elements, so it can become very large. Consequently, this method is mostly useful for small circuits."
   ]
  },
  {
   "cell_type": "code",
   "execution_count": 57,
   "id": "2e1036ef-5812-4718-be1d-0d9ac7ad035c",
   "metadata": {},
   "outputs": [
    {
     "name": "stdout",
     "output_type": "stream",
     "text": [
      "[[ 0.70710678  0.          0.70710678  0.        ]\n",
      " [ 0.          0.70710678  0.          0.70710678]\n",
      " [ 0.          0.70710678  0.         -0.70710678]\n",
      " [ 0.70710678  0.         -0.70710678  0.        ]]\n"
     ]
    }
   ],
   "source": [
    "qc = QCircuit(2)\n",
    "qc.h(0)\n",
    "qc.cx(0, 1)\n",
    "u = qc.to_unitary()\n",
    "print(u)"
   ]
  },
  {
   "cell_type": "markdown",
   "id": "024aa5f4-aea8-43b0-bc6a-63da61a31b7a",
   "metadata": {},
   "source": [
    "This unitary matrix can be pretty-printed using LaTeX if required and a LaTeX prefix can be provided.\n",
    "\n",
    "In the following example, a factor of $\\frac{1}{\\sqrt{2}}$ is extracted and included in the prefix:"
   ]
  },
  {
   "cell_type": "code",
   "execution_count": 58,
   "id": "856c9582-7eed-4afd-b671-40260d440e4e",
   "metadata": {},
   "outputs": [
    {
     "data": {
      "text/latex": [
       "$\\displaystyle \\text{U} = \\frac{1}{\\sqrt{2}}\\begin{bmatrix}1.0&0.0&1.0&0.0\\\\0.0&1.0&0.0&1.0\\\\0.0&1.0&0.0&-1.0\\\\1.0&0.0&-1.0&0.0 \\end{bmatrix}$"
      ],
      "text/plain": [
       "<IPython.core.display.Math object>"
      ]
     },
     "execution_count": 58,
     "metadata": {},
     "output_type": "execute_result"
    }
   ],
   "source": [
    "from math import sqrt\n",
    "from tinyqsim.format import latex_array\n",
    "from IPython.display import Math\n",
    "\n",
    "Math(latex_array(u * sqrt(2), r'\\text{U} = \\frac{1}{\\sqrt{2}}'))"
   ]
  },
  {
   "cell_type": "markdown",
   "id": "446dd5b9-7757-4476-aec9-e018f93a49aa",
   "metadata": {},
   "source": [
    "### Bloch Sphere"
   ]
  },
  {
   "cell_type": "markdown",
   "id": "b5990cf1-30e1-4cd1-8b68-2c19bda60104",
   "metadata": {},
   "source": [
    "A state of a qubit may be mapped onto a sphere, known as the Bloch sphere:\n",
    "\n",
    "$\\quad\\ket{\\psi} = \\cos(\\frac{\\theta}{2})\\ket{0} + e^{i\\phi} \\sin(\\frac{\\theta}{2})\\ket{1}$\n",
    "\n",
    "where $0 \\le\\theta\\le\\pi\\,$ and $\\,0\\le\\phi\\le2\\pi$.\n",
    "\n",
    "<div style=\"text-align: center;\">\n",
    "<img src=\"assets/bloch.png\" alt=\"bloch\" width=\"300\"/>\n",
    "</div>"
   ]
  },
  {
   "cell_type": "markdown",
   "id": "31d67b4a-0a41-40e8-9168-5e4024e0169b",
   "metadata": {},
   "source": [
    "The Bloch sphere is mainly useful for single qubits because the qubits of a multi-qubit system can become *entangled* such that the qubits no longer have individual pure states. However, the sphere is a useful way to visualize and learn about the effects of single-qubit gates, which can then be used as part of a multi-qubit system.\n",
    "\n",
    "The following example shows how to create a one-qubit quantum circuit, use gates to configure the state and then plot the state on the Bloch sphere."
   ]
  },
  {
   "cell_type": "code",
   "execution_count": 59,
   "id": "f85c1d78-11a6-4ef0-8700-0b34d5e1e1d7",
   "metadata": {},
   "outputs": [],
   "source": [
    "from tinyqsim.bloch import plot_bloch"
   ]
  },
  {
   "cell_type": "code",
   "execution_count": 60,
   "id": "351242db-e0ab-4062-89a4-ceb3ad5e08f9",
   "metadata": {},
   "outputs": [
    {
     "data": {
      "text/latex": [
       "$\\displaystyle \\ket{\\phi} = 1\\ \\ket{0}$"
      ],
      "text/plain": [
       "<IPython.core.display.Math object>"
      ]
     },
     "metadata": {},
     "output_type": "display_data"
    },
    {
     "data": {
      "image/png": "[encoded data removed]",
      "text/plain": [
       "<Figure size 300x300 with 1 Axes>"
      ]
     },
     "metadata": {},
     "output_type": "display_data"
    }
   ],
   "source": [
    "qc = QCircuit(1)  # This must be 1 qubit\n",
    "qc.display_state(prefix=r'\\ket{\\phi} = ')\n",
    "plot_bloch(qc.state_vector)"
   ]
  },
  {
   "cell_type": "markdown",
   "id": "efae23b2-c9c5-49cf-8361-12b69e123bf5",
   "metadata": {},
   "source": [
    "The initial $\\ket{0}$ state is shown by the red arrow.\n",
    "\n",
    "We can apply some gates and observe the effect on the state vector:"
   ]
  },
  {
   "cell_type": "code",
   "execution_count": 61,
   "id": "4d487e6b-32a1-4099-aaab-0550d9a09840",
   "metadata": {},
   "outputs": [
    {
     "data": {
      "image/png": "[encoded data removed]",
      "text/plain": [
       "<Figure size 147.881x59.0551 with 1 Axes>"
      ]
     },
     "metadata": {},
     "output_type": "display_data"
    },
    {
     "data": {
      "text/latex": [
       "$\\displaystyle \\ket{\\phi} = 0.70711\\ \\ket{0} + (0.35355+0.61237j)\\ \\ket{1}$"
      ],
      "text/plain": [
       "<IPython.core.display.Math object>"
      ]
     },
     "metadata": {},
     "output_type": "display_data"
    },
    {
     "data": {
      "image/png": "[encoded data removed]",
      "text/plain": [
       "<Figure size 300x300 with 1 Axes>"
      ]
     },
     "metadata": {},
     "output_type": "display_data"
    }
   ],
   "source": [
    "PI = '\\u03C0'  # Unicode pi\n",
    "\n",
    "qc.h(0)\n",
    "qc.p(np.pi / 3, f'{PI}/3', 0)\n",
    "qc.draw()\n",
    "qc.display_state(prefix=r'\\ket{\\phi} = ')\n",
    "plot_bloch(qc.state_vector)"
   ]
  },
  {
   "cell_type": "markdown",
   "id": "6c4c99c4-361d-4212-a1a6-546f95bfb6ee",
   "metadata": {},
   "source": [
    "The Hadamard gate rotates the state vector from its initial +Z direction $\\ket{0}$ to the +X direction $\\ket{+}$. Then the P($\\pi$/3) gate rotates it by $\\pi/3$ radians clockwise about the Z axis to the position shown by the red arrow.\n",
    "\n",
    "The sphere can be rotated with the mouse when run from a Python script. When run from a Jupyter notebook, the orientation is fixed but the view point can be set using the optional parameters 'azimuth' and 'elevation' (given in degrees).\n",
    "\n",
    "It is also possible to display the Bloch sphere for a pair of angles, $\\phi$ and $\\theta$. For example:"
   ]
  },
  {
   "cell_type": "code",
   "execution_count": 62,
   "id": "30afc6ac-051f-4394-ac16-083f0968717d",
   "metadata": {},
   "outputs": [
    {
     "data": {
      "image/png": "[encoded data removed]",
      "text/plain": [
       "<Figure size 300x300 with 1 Axes>"
      ]
     },
     "metadata": {},
     "output_type": "display_data"
    }
   ],
   "source": [
    "from tinyqsim.bloch import plot_bloch_angles\n",
    "\n",
    "phi = np.pi / 3\n",
    "theta = np.pi / 2\n",
    "plot_bloch_angles(phi, theta)"
   ]
  },
  {
   "cell_type": "markdown",
   "id": "6392fe84-eeab-4517-a8a8-18bc5e79cb5d",
   "metadata": {},
   "source": [
    "The support for the Bloch Sphere in TinyQsim is at the prototype stage, so the details may change."
   ]
  },
  {
   "cell_type": "markdown",
   "id": "d31d477d-5357-485e-8c2c-5fbc2b1380cb",
   "metadata": {},
   "source": [
    "### Export to OpenQASM"
   ]
  },
  {
   "cell_type": "markdown",
   "id": "47c8df1b-6782-4045-9828-7e496f210dc8",
   "metadata": {},
   "source": [
    "The circuit may be output in OpenQASM-3.0 format as shown in the following example.\n",
    "\n",
    "This is an experimental feature but may be useful for transferring circuits to other tools. Most of the TinyQsim gates are supported with the exception of 'i', 'cs', 'ct', u, 'cu' and 'ccu'. Other commands such as 'measure', 'reset' and 'barrier' are not currently supported.\n",
    "\n",
    "Be aware that TinyQsim uses the big-endian qubit convention, whereas OpenQasm assumes little-endian."
   ]
  },
  {
   "cell_type": "code",
   "execution_count": 63,
   "id": "77797ae6-2f3d-4d5a-84fe-870e65b14d76",
   "metadata": {},
   "outputs": [
    {
     "name": "stdout",
     "output_type": "stream",
     "text": [
      "OPENQASM 3;\n",
      "include \"stdgates.inc\";\n",
      "qreg q[2];\n",
      "h q[0];\n",
      "x q[1];\n",
      "cx q[0],q[1];\n",
      "\n"
     ]
    }
   ],
   "source": [
    "qc = QCircuit(2)\n",
    "qc.h(0)\n",
    "qc.x(1)\n",
    "qc.cx(0, 1)\n",
    "qasm = qc.to_qasm()\n",
    "print(qasm)"
   ]
  }
 ],
 "metadata": {
  "kernelspec": {
   "display_name": "Python 3 (ipykernel)",
   "language": "python",
   "name": "python3"
  },
  "language_info": {
   "codemirror_mode": {
    "name": "ipython",
    "version": 3
   },
   "file_extension": ".py",
   "mimetype": "text/x-python",
   "name": "python",
   "nbconvert_exporter": "python",
   "pygments_lexer": "ipython3",
   "version": "3.12.9"
  }
 },
 "nbformat": 4,
 "nbformat_minor": 5
}
