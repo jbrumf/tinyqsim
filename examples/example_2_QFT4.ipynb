{
 "cells": [
  {
   "cell_type": "code",
   "execution_count": 1,
   "id": "2bfe0f6d-772a-4f75-ba46-64968482f71b",
   "metadata": {},
   "outputs": [],
   "source": [
    "# This cell is needed if running from source directory without installing TinyQsim\n",
    "import sys, os\n",
    "sys.path.append(os.path.abspath('..'))"
   ]
  },
  {
   "cell_type": "markdown",
   "id": "9dee3c75-6e56-4456-9d06-e4005fe1098d",
   "metadata": {},
   "source": [
    "## Example 2: Four-Qubit Quantum Fourier Transform (QFT)"
   ]
  },
  {
   "cell_type": "markdown",
   "id": "5d2d5174-e4cb-41a1-a3d9-e3ddd7b2679a",
   "metadata": {},
   "source": [
    "### Purpose\n",
    "\n",
    "This example assumes familiarity with the basics of TinyQsim from example 1. It shows how we can build a quantum circuit for a 4-qubit Quantum Fourier Transform (QFT). It then creates an inverse QFT to show how we can make the inverse of a quantum circuit.\n",
    "\n",
    "Example 3 goes on to extend this 4-qubit QFT to a more general N-qubit QFT.\n",
    "\n",
    "We will start by importing TinyQsim and the Python libraries that we will need:"
   ]
  },
  {
   "cell_type": "code",
   "execution_count": 2,
   "id": "45afb82c-bbf4-4f6e-aabf-2294c64eada3",
   "metadata": {},
   "outputs": [],
   "source": [
    "PI = '\\u03C0'  # PI unicode\n",
    "from math import pi\n",
    "import numpy as np\n",
    "from tinyqsim.qcircuit import QCircuit"
   ]
  },
  {
   "cell_type": "markdown",
   "id": "bea944d1-4044-4a8a-b058-03d43ede1f9c",
   "metadata": {},
   "source": [
    "### The Quantum Fourier Transform"
   ]
  },
  {
   "cell_type": "markdown",
   "id": "0a27359f-02c7-42d0-89c7-f62c45b9d6c9",
   "metadata": {},
   "source": [
    "The Quantum Fourier Transform (QFT) is in important algorithm in quantum computing. It is used for estimating phase and periodicities in algorithms such as Shor's well-known integer factorization algorithm.\n",
    "\n",
    "The QFT has the same effect as applying the normal inverse Discrete Fourier Transform (DFT) to the quantum state vector. It is equivalent to the *inverse* DFT, rather than forward DFT, simply because a different sign convention is normally used. However, for a quantum computer, we have to find a way to implement the transform using only quantum gates.\n",
    "\n",
    "The inverse DFT, with $\\frac{1}{\\sqrt{N}}$ normalization, can be defined as:\n",
    "\n",
    "$\\qquad X_n = \\frac{1}{\\sqrt{N}} \\sum_{m=0}^{N-1} x_m\\omega_N^{mn},\\quad n=0,1,2,\\dots,N-1$\n",
    "\n",
    "where $\\omega_N = e^\\frac{2\\pi i}{N}$\n",
    "\n",
    "The result is in bit-reversed order, so we need to finally apply a bit-reversal operation.\n",
    "\n",
    "The DFT can be expressed as a unitary matrix as follows, where the $\\omega^0$ terms have been written as $1$.\n",
    "\n",
    "$\\qquad\n",
    "U_N=\\frac{1}{\\sqrt{N}}\\begin{bmatrix}1&1&1&\\dots&1\\\\\n",
    "1&\\omega&\\omega^2&\\dots&\\omega^{N-1}\\\\\n",
    "1&\\omega^2&\\omega^4&\\dots&\\omega^{2(N-1)}\\\\\n",
    "\\vdots&\\vdots&\\vdots&\\dots&\\vdots\\\\\n",
    "1&\\omega^{N-1}&\\omega^{2(N-1)}&\\dots&\\omega^{(N-1)(N-1)}\\\\\n",
    "\\end{bmatrix}$\n",
    "\n",
    "The QFT is equivalent to the application of this unitary matrix to the quantum state. The columns of the matrix are the DFTs of the N orthogonal quantum basis vectors $[1,0,0,\\dots], [0,1,0,\\dots],[0,0,1,\\dots], $etc. Because of linearity, we can apply it to a general quantum state that is a superposition of the basis states.\n",
    "\n",
    "However, we still need to build the unitary out of standard quantum gates to realise it on a quantum computer. The QFT algorithm is an ingeneous way to decompose the matrix into the sequential application of Hadamard (H) gates and Controlled-phase (CP) gates.\n",
    "\n",
    "The time complexity of the basic DFT algorithm is $\\mathcal{O}(n^2)$. However, it is normally implemented by the Fast Fourier Transform algorithm which is $\\mathcal{O}(n\\log{}n)$. The normal QFT algorithm does even better at $\\mathcal{O}(\\log^2{}n)$, which is exponentially faster than even the FFT. However, this assumes that we can efficiently implement a CP gate where the 2 qubits are non-adjacent. In practice, a quantum computer can normally only perform such operations on physically-adjacent qubits and so there may be some overhead in iperforming 'swap' operations to move the qubits around.\n",
    "\n",
    "The details of how the QFT algorithm works are beyond the scope of this short introduction. A key part is using phase gates to rotate the phase of qubits to perform the $\\omega_n$ phase shifts."
   ]
  },
  {
   "cell_type": "markdown",
   "id": "6964eb45-3b30-47b3-9ca5-be3b60f56110",
   "metadata": {},
   "source": [
    "### 4-Qubit QFT"
   ]
  },
  {
   "cell_type": "markdown",
   "id": "611a99d6-d2c0-4cb2-b1c8-7096c74cc77a",
   "metadata": {},
   "source": [
    "TinyQsim doesn't support sub-circuits but we can define a function to build the QFT circuit. We can then use it more than once in a notebook, for example to try different initial conditions.\n",
    "\n",
    "We can build the 4-qubit QFT as follows:"
   ]
  },
  {
   "cell_type": "code",
   "execution_count": 3,
   "id": "b792b210-65b4-4b88-88e9-5cc5d2e3216b",
   "metadata": {},
   "outputs": [],
   "source": [
    "def qft4(qc):\n",
    "    \"\"\"4-qubit QFT.\"\"\"\n",
    "    qc.h(0)\n",
    "    qc.cp(pi/2, f'{PI}/2', 0, 1)\n",
    "    qc.cp(pi/4, f'{PI}/4', 0, 2)\n",
    "    qc.cp(pi/8, f'{PI}/8', 0, 3)\n",
    "    qc.h(1)\n",
    "    qc.cp(pi/2, f'{PI}/2', 1, 2)\n",
    "    qc.cp(pi/4, f'{PI}/4', 1, 3)\n",
    "    qc.h(2)\n",
    "    qc.cp(pi/2, f'{PI}/2', 2, 3)\n",
    "    qc.h(3)\n",
    "    qc.swap(0, 3)  # Reverse order of qubits\n",
    "    qc.swap(1, 2)"
   ]
  },
  {
   "cell_type": "markdown",
   "id": "97cd3eae-f929-47d3-a44f-345e51af2aff",
   "metadata": {},
   "source": [
    "The `swap` gates are used to reverse the order of qubits in the result of the QFT. This is like the bit-reversal that is performed in a normal Discrete Fourier Transform (DFT)."
   ]
  },
  {
   "cell_type": "markdown",
   "id": "b252e744-74a5-4650-bccb-c888c0353482",
   "metadata": {},
   "source": [
    "We will start by creating a 4-qubit circuit and initializing the state to $\\ket{0010}$, as the state we wish to transform:"
   ]
  },
  {
   "cell_type": "code",
   "execution_count": 4,
   "id": "0d6364a3-8222-4774-a250-8c8a0ecf63d6",
   "metadata": {},
   "outputs": [
    {
     "name": "stdout",
     "output_type": "stream",
     "text": [
      "{'0010': 1.0}\n"
     ]
    }
   ],
   "source": [
    "qc = QCircuit(4)\n",
    "qc.x(2)  # Initial state\n",
    "qc.barrier()\n",
    "print(qc.probabilities())"
   ]
  },
  {
   "cell_type": "markdown",
   "id": "376f4c72-fe1c-414a-a609-b3b0407aac33",
   "metadata": {},
   "source": [
    "We can run the QFT as follows:"
   ]
  },
  {
   "cell_type": "code",
   "execution_count": 5,
   "id": "d0095f43-2442-4428-b137-310e2cd3098b",
   "metadata": {},
   "outputs": [
    {
     "data": {
      "image/png": "[encoded data removed]",
      "text/plain": [
       "<Figure size 855.99x271.654 with 1 Axes>"
      ]
     },
     "metadata": {},
     "output_type": "display_data"
    }
   ],
   "source": [
    "qft4(qc)\n",
    "qc.draw()"
   ]
  },
  {
   "cell_type": "markdown",
   "id": "333bc114-96f1-4677-930c-60806303f794",
   "metadata": {},
   "source": [
    "The barrier symbol is used for clarity to separate initialization of the state from the actual QFT."
   ]
  },
  {
   "cell_type": "code",
   "execution_count": 6,
   "id": "52083d8b-cf80-4f12-9204-fe411636e0e2",
   "metadata": {},
   "outputs": [
    {
     "data": {
      "text/plain": [
       "{'0000': 0.0625,\n",
       " '0001': 0.0625,\n",
       " '0010': 0.0625,\n",
       " '0011': 0.0625,\n",
       " '0100': 0.0625,\n",
       " '0101': 0.0625,\n",
       " '0110': 0.0625,\n",
       " '0111': 0.0625,\n",
       " '1000': 0.0625,\n",
       " '1001': 0.0625,\n",
       " '1010': 0.0625,\n",
       " '1011': 0.0625,\n",
       " '1100': 0.0625,\n",
       " '1101': 0.0625,\n",
       " '1110': 0.0625,\n",
       " '1111': 0.0625}"
      ]
     },
     "execution_count": 6,
     "metadata": {},
     "output_type": "execute_result"
    }
   ],
   "source": [
    "qc.probabilities()"
   ]
  },
  {
   "cell_type": "markdown",
   "id": "107dfc73-56a5-46c0-9029-3025ce02350c",
   "metadata": {},
   "source": [
    "The probability of every outcome is 1/16, so all 16 measurement outcomes are equally likely.\n",
    "\n",
    "However, if we look at the complex state, we can see that the phase is varying periodically. "
   ]
  },
  {
   "cell_type": "code",
   "execution_count": 7,
   "id": "3ec2412b-27e7-49d7-821b-91c6883597e2",
   "metadata": {},
   "outputs": [
    {
     "name": "stdout",
     "output_type": "stream",
     "text": [
      "[ 0.25  +0.j      0.1768+0.1768j  0.    +0.25j   -0.1768+0.1768j\n",
      " -0.25  +0.j     -0.1768-0.1768j -0.    -0.25j    0.1768-0.1768j\n",
      "  0.25  +0.j      0.1768+0.1768j  0.    +0.25j   -0.1768+0.1768j\n",
      " -0.25  +0.j     -0.1768-0.1768j -0.    -0.25j    0.1768-0.1768j]\n"
     ]
    }
   ],
   "source": [
    "with np.printoptions(precision=4, suppress=True):\n",
    "    print(qc.state_vector)"
   ]
  },
  {
   "cell_type": "markdown",
   "id": "2c636cb3-a441-4c4b-a210-b947fbf8da6b",
   "metadata": {},
   "source": [
    "### Comparing DFT and QFT"
   ]
  },
  {
   "cell_type": "markdown",
   "id": "b618ec0c-7c08-4ab0-a43c-3629b9ca54e9",
   "metadata": {},
   "source": [
    "It was mentioned above that the QFT gives the same result as the inverse DFT applied to the quantum state vector. The following code creates a random state and generates both the QFT and FFT (DFT), then compares them."
   ]
  },
  {
   "cell_type": "code",
   "execution_count": 8,
   "id": "0bf5b657-4587-4bcd-bf69-c772a475a6c8",
   "metadata": {},
   "outputs": [
    {
     "name": "stdout",
     "output_type": "stream",
     "text": [
      "True\n"
     ]
    }
   ],
   "source": [
    "qc = QCircuit(4, init='random')\n",
    "qc.x(2)\n",
    "state = np.array(qc.state_vector)  # Save copy of state\n",
    "\n",
    "# Using QFT\n",
    "qft4(qc)\n",
    "qft_result = qc.state_vector\n",
    "\n",
    "# Using DFT\n",
    "dft_result = np.fft.ifft(state, norm='ortho')  # Numpy inverse FFT\n",
    "\n",
    "# Compare the results\n",
    "print(np.isclose(qft_result, dft_result).all())"
   ]
  },
  {
   "cell_type": "markdown",
   "id": "3daa131f-5658-48b3-9960-b477788aca6e",
   "metadata": {},
   "source": [
    "This should print 'True', indicating that the two results are the same."
   ]
  },
  {
   "cell_type": "code",
   "execution_count": 9,
   "id": "aa7389e4-a56e-4ef0-bc07-f5cec7f1fada",
   "metadata": {},
   "outputs": [
    {
     "name": "stdout",
     "output_type": "stream",
     "text": [
      "[ 0.08652427-0.22195215j -0.02347569+0.62953016j  0.06066601+0.11359434j\n",
      "  0.12459676-0.04518685j  0.11202569+0.16470608j  0.03575458-0.23676356j\n",
      " -0.03049641-0.02895597j -0.23827453-0.11123264j  0.02956907+0.00900363j\n",
      " -0.00538154+0.17577072j  0.01451447-0.25770612j  0.2173765 -0.19731412j\n",
      "  0.26577816-0.04465902j  0.24563424+0.05017753j  0.00497805-0.10710742j\n",
      "  0.10238699-0.04644954j]\n"
     ]
    }
   ],
   "source": [
    "print(state)"
   ]
  },
  {
   "cell_type": "markdown",
   "id": "79eb8d24-3e94-42ab-a337-07471ae982fe",
   "metadata": {},
   "source": [
    "### Inverse QFT"
   ]
  },
  {
   "cell_type": "markdown",
   "id": "5205afd6-3850-49bb-83d0-fe9ecd34ad8c",
   "metadata": {},
   "source": [
    "Quantum circuits (excluding collapse measurements) are reversible as they are unitary. To run a circuit in reverse, we reverse the order of the sequence of gates and replace each gate by its conjugate transpose:\n",
    "\n",
    "$\\qquad (U_1 U_2\\dots U_{n-1})^\\dagger = U^\\dagger_{n-1}\\dots U^\\dagger_2 U^\\dagger_1$\n",
    "\n",
    "In the QFT circuit above, the Hadamard and swap gates are Hermitian (i.e. equal to their own conjugates transposes). The conjugate transpose of the phase gate is given by:\n",
    "\n",
    "$\\qquad P^\\dagger(\\phi) = P(-\\phi)$"
   ]
  },
  {
   "cell_type": "markdown",
   "id": "1f8ac5e1-f444-489d-8117-f51693350e09",
   "metadata": {},
   "source": [
    "Consequently, the inverse 4-qubit QFT can be constructed as follows:"
   ]
  },
  {
   "cell_type": "code",
   "execution_count": 10,
   "id": "1f7c3997-02ad-456c-8f68-b495b9162c05",
   "metadata": {},
   "outputs": [],
   "source": [
    "def iqft4(qc):\n",
    "    \"\"\"4-qubit inverse QFT.\"\"\"\n",
    "    qc.swap(1, 2)\n",
    "    qc.swap(0, 3)  # Reverse order of qubits\n",
    "    qc.h(3)\n",
    "    qc.cp(-pi/2, f'-{PI}/2', 2, 3)\n",
    "    qc.h(2)\n",
    "    qc.cp(-pi/4, f'-{PI}/4', 1, 3)\n",
    "    qc.cp(-pi/2, f'-{PI}/2', 1, 2)\n",
    "    qc.h(1)\n",
    "    qc.cp(-pi/8, f'-{PI}/8', 0, 3)\n",
    "    qc.cp(-pi/4, f'-{PI}/4', 0, 2)\n",
    "    qc.cp(-pi/2, f'-{PI}/2', 0, 1)\n",
    "    qc.h(0)"
   ]
  },
  {
   "cell_type": "code",
   "execution_count": 11,
   "id": "c36d9943-5045-407b-8655-21cc85cec97f",
   "metadata": {},
   "outputs": [
    {
     "data": {
      "image/png": "[encoded data removed]",
      "text/plain": [
       "<Figure size 737.9x271.654 with 1 Axes>"
      ]
     },
     "metadata": {},
     "output_type": "display_data"
    }
   ],
   "source": [
    "qc = QCircuit(4)\n",
    "iqft4(qc)\n",
    "qc.draw()"
   ]
  },
  {
   "cell_type": "markdown",
   "id": "f2d86651-6c07-4db5-9089-a426dffa5088",
   "metadata": {},
   "source": [
    "### Testing the Inverse QFT"
   ]
  },
  {
   "cell_type": "markdown",
   "id": "0793eb78-de1e-4a1d-ac96-e5112d6d3e5d",
   "metadata": {},
   "source": [
    "We can test the inverse QFT by taking the forward QFT of a random state, followed by the inverse QFT and checking that we get the state that we started with:"
   ]
  },
  {
   "cell_type": "code",
   "execution_count": 12,
   "id": "6ac44c70-8039-40f4-99bf-7d7b299f85f2",
   "metadata": {},
   "outputs": [
    {
     "data": {
      "image/png": "[encoded data removed]",
      "text/plain": [
       "<Figure size 1505.54x271.654 with 1 Axes>"
      ]
     },
     "metadata": {},
     "output_type": "display_data"
    },
    {
     "name": "stdout",
     "output_type": "stream",
     "text": [
      "Result: True\n"
     ]
    }
   ],
   "source": [
    "qc = QCircuit(4, init='random')\n",
    "initial_state = qc.state_vector\n",
    "qft4(qc)\n",
    "qc.barrier()\n",
    "iqft4(qc)\n",
    "qc.draw()\n",
    "print('Result:', np.allclose(qc.state_vector, initial_state))"
   ]
  },
  {
   "cell_type": "markdown",
   "id": "8d540250-6518-4acc-8fb5-c817691e098c",
   "metadata": {},
   "source": [
    "This should print 'True', indicating that the inverse QFT has completely undone the effect of the forward QFT.\n",
    "\n",
    "Observe how each step of the inverse QFT undoes the corresponding step of the forward QFT, until we are left with the original random state."
   ]
  }
 ],
 "metadata": {
  "kernelspec": {
   "display_name": "Python 3 (ipykernel)",
   "language": "python",
   "name": "python3"
  },
  "language_info": {
   "codemirror_mode": {
    "name": "ipython",
    "version": 3
   },
   "file_extension": ".py",
   "mimetype": "text/x-python",
   "name": "python",
   "nbconvert_exporter": "python",
   "pygments_lexer": "ipython3",
   "version": "3.12.3"
  }
 },
 "nbformat": 4,
 "nbformat_minor": 5
}
