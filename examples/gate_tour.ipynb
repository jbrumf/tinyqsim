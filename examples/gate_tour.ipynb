{
 "cells": [
  {
   "cell_type": "code",
   "execution_count": 1,
   "id": "92f340f8-f063-4d0c-9122-15e5b19676f5",
   "metadata": {},
   "outputs": [],
   "source": [
    "# This cell is needed if running from source directory without installing TinyQsim\\n\"\n",
    "import sys, os\n",
    "sys.path.append(os.path.abspath('..'))"
   ]
  },
  {
   "cell_type": "markdown",
   "id": "cba2f2b9-fbaf-43c8-a49d-27e7616d1f6c",
   "metadata": {},
   "source": [
    "## Gate Symbols"
   ]
  },
  {
   "cell_type": "markdown",
   "id": "7d27a8d1-a912-4bcc-a26c-056b51bf0cda",
   "metadata": {},
   "source": [
    "This example provides a quick overview of the gates available in TinyQsim and their circuit symbols. For information on the function of the gates please see the TinyQsim Gates guide in the 'doc' directory."
   ]
  },
  {
   "cell_type": "code",
   "execution_count": 2,
   "id": "c7ad35c6-3640-4369-9014-e1d6e2d48e50",
   "metadata": {},
   "outputs": [],
   "source": [
    "PI = '\\u03C0'  # PI unicode\n",
    "from math import pi, acos\n",
    "from cmath import exp\n",
    "import numpy as np\n",
    "from tinyqsim.qcircuit import QCircuit"
   ]
  },
  {
   "cell_type": "markdown",
   "id": "c60cf890-5004-4c99-8071-bc1235487a15",
   "metadata": {},
   "source": [
    "### Simple One-Qubit Gates"
   ]
  },
  {
   "cell_type": "markdown",
   "id": "dc32f681-83dd-48a8-a012-aefb869e30aa",
   "metadata": {},
   "source": [
    "Many gates have a plain square box symbol with one or two letters indicating the type of gate.\n",
    "For example:"
   ]
  },
  {
   "cell_type": "code",
   "execution_count": 3,
   "id": "cc340681-facf-4cad-b03a-a8d5a82f1a12",
   "metadata": {},
   "outputs": [
    {
     "data": {
      "image/png": "[encoded data removed]",
      "text/plain": [
       "<Figure size 619.817x59.0551 with 1 Axes>"
      ]
     },
     "metadata": {},
     "output_type": "display_data"
    }
   ],
   "source": [
    "qc = QCircuit(1)\n",
    "qc.i(0)   # Identity (aka ID)\n",
    "qc.x(0)  # Pauli X (aka NOT)\n",
    "qc.y(0)   # Pauli Y\n",
    "qc.z(0)   # Pauli Z\n",
    "qc.sx(0)  # sqrt(X) (aka SQRTX)\n",
    "qc.s(0)   # pi/2 radians phase\n",
    "qc.sdg(0) # -pi/2 radians phase\n",
    "qc.t(0)   # pi/4 radians phase\n",
    "qc.tdg(0) # -pi/4 radians phase\n",
    "qc.h(0)   # Hadamard\n",
    "qc.draw()"
   ]
  },
  {
   "cell_type": "markdown",
   "id": "9bd8bfe3-6634-489a-bd4b-381d8399fc0e",
   "metadata": {},
   "source": [
    "### SWAP Gate"
   ]
  },
  {
   "cell_type": "markdown",
   "id": "adefb770-10c7-4b69-8f49-a735f6d26ef0",
   "metadata": {},
   "source": [
    "The SWAP gate swaps two qubits. This is a symmetrical operation, which is apparent from the symmetrical symbol:"
   ]
  },
  {
   "cell_type": "code",
   "execution_count": 4,
   "id": "311b422e-21f5-45c5-a82d-e32ee2072103",
   "metadata": {},
   "outputs": [
    {
     "data": {
      "image/png": "[encoded data removed]",
      "text/plain": [
       "<Figure size 89.8308x129.921 with 1 Axes>"
      ]
     },
     "metadata": {},
     "output_type": "display_data"
    }
   ],
   "source": [
    "qc = QCircuit(2)\n",
    "qc.swap(0, 1)  # SWAP\n",
    "qc.draw()"
   ]
  },
  {
   "cell_type": "markdown",
   "id": "5aa67f58-5056-403f-9227-610ceeb1285c",
   "metadata": {},
   "source": [
    "### Controlled Gates"
   ]
  },
  {
   "cell_type": "markdown",
   "id": "acbaea19-6dd6-4c85-9658-ee29dcc3e985",
   "metadata": {},
   "source": [
    "A controlled gate is drawn with a dot to indicate the control qubit."
   ]
  },
  {
   "cell_type": "code",
   "execution_count": 5,
   "id": "92a58fd0-f796-4ac0-b28d-825256f41a01",
   "metadata": {},
   "outputs": [
    {
     "data": {
      "image/png": "[encoded data removed]",
      "text/plain": [
       "<Figure size 442.724x200.787 with 1 Axes>"
      ]
     },
     "metadata": {},
     "output_type": "display_data"
    }
   ],
   "source": [
    "qc = QCircuit(3)\n",
    "qc.ch(0, 1)   # Controlled-H\n",
    "qc.cx(0, 1)   # Controlled-X\n",
    "qc.cy(0, 1)   # Controlled-Y\n",
    "qc.cz(0, 1)   # Controlled-Z\n",
    "qc.cs(0, 1)   # Controlled-S\n",
    "qc.ct(0, 1)   # Controlled-T\n",
    "qc.cswap(0,1, 2) # Controlled SWAP\n",
    "qc.draw()"
   ]
  },
  {
   "cell_type": "markdown",
   "id": "dcbccd3f-440b-41e9-864f-72996a694cc4",
   "metadata": {},
   "source": [
    "Note the following:\n",
    "- Many controlled gates just use the box symbol of the uncontrolled gate, with a control added.\n",
    "- The CX, CZ and CSWAP gates have special symbols.\n",
    "- A controlled gate, such at CT, is just labelled 'T'\n",
    "- The symbol of the CZ gate shows that it is symmetrical even though one qubit is designated as the control."
   ]
  },
  {
   "cell_type": "markdown",
   "id": "ba0ac4d9-a715-4ce5-b04c-b3f0f2b40c82",
   "metadata": {},
   "source": [
    "Gates can also have multiple controls, such as CCX:"
   ]
  },
  {
   "cell_type": "code",
   "execution_count": 6,
   "id": "5f817224-a4ad-4ba6-89fb-86b019344c27",
   "metadata": {},
   "outputs": [
    {
     "data": {
      "image/png": "[encoded data removed]",
      "text/plain": [
       "<Figure size 89.8308x200.787 with 1 Axes>"
      ]
     },
     "metadata": {},
     "output_type": "display_data"
    }
   ],
   "source": [
    "qc = QCircuit(3)\n",
    "qc.ccx(0,1,2)\n",
    "qc.draw()"
   ]
  },
  {
   "cell_type": "markdown",
   "id": "6c3cf033-125c-461c-ad44-9d49144f33ba",
   "metadata": {},
   "source": [
    "### Parameterized Gates"
   ]
  },
  {
   "cell_type": "markdown",
   "id": "8afc4336-ac17-42b0-8cb1-65fb901cd1b5",
   "metadata": {},
   "source": [
    "While many gates perform a fixed operation, there are also parameterized gates that take user-supplied parameters. The following parametrized gates are currently implemented:"
   ]
  },
  {
   "cell_type": "code",
   "execution_count": 7,
   "id": "756f9bdc-7814-4e5e-9986-1ec10bb38f39",
   "metadata": {},
   "outputs": [
    {
     "data": {
      "image/png": "[encoded data removed]",
      "text/plain": [
       "<Figure size 265.738x129.921 with 1 Axes>"
      ]
     },
     "metadata": {},
     "output_type": "display_data"
    }
   ],
   "source": [
    "qc = QCircuit(2)\n",
    "qc.p(pi / 2, f'{PI}/2', 0)   # Phase rotation about Z axis\n",
    "qc.rx(pi / 3, f'{PI}/3', 0)  # Rotation about X axis\n",
    "qc.ry(pi / 4, f'{PI}/4', 0)  # Rotation about Y axis\n",
    "qc.cp(pi, f'{PI}', 0, 1)     # Controlled-P\n",
    "qc.draw()"
   ]
  },
  {
   "cell_type": "markdown",
   "id": "a84162fe-e9a3-457b-8586-2498bd12ba37",
   "metadata": {},
   "source": [
    "### Custom Gates"
   ]
  },
  {
   "cell_type": "markdown",
   "id": "5893db1b-87e0-4b6d-b28e-07e958b6128d",
   "metadata": {},
   "source": [
    "Custom gates can be created from user-supplied unitary matrices, such as 'u1 and u2' in the following example:"
   ]
  },
  {
   "cell_type": "code",
   "execution_count": 8,
   "id": "ba074585-8b2e-491f-9727-989ef4cde09c",
   "metadata": {},
   "outputs": [],
   "source": [
    "u1 = np.array([[0,1],[1,0]])\n",
    "\n",
    "u2 = np.array([[1, 0, 0, 0], [0, 0, 1, 0], [0, 1, 0, 0], [0, 0, 0, 1]])"
   ]
  },
  {
   "cell_type": "code",
   "execution_count": 9,
   "id": "1b26e4f8-e62e-4705-a7fa-204100535dae",
   "metadata": {},
   "outputs": [
    {
     "data": {
      "image/png": "[encoded data removed]",
      "text/plain": [
       "<Figure size 265.738x200.787 with 1 Axes>"
      ]
     },
     "metadata": {},
     "output_type": "display_data"
    }
   ],
   "source": [
    "qc = QCircuit(3)\n",
    "qc.u(u1, 'U1', 0)         # Custom 1-qubit unitary\n",
    "qc.u(u2, 'U2', 0, 1)      # Custom 2-qubit unitary\n",
    "qc.cu(u2, 'U2', 0, 1, 2)  # Custom controlled 2-qubit unitary\n",
    "qc.ccu(u1, 'U1', 0, 1, 2) # Custom controlled-controlled 1-qubit unitary\n",
    "qc.draw()"
   ]
  },
  {
   "cell_type": "markdown",
   "id": "7b7da0c2-eeb9-482b-80c6-16f4d03e1221",
   "metadata": {},
   "source": [
    "Note the following:\n",
    "- The unitary matrix implements the U function without the controls.\n",
    "- The function may have multiple arguments."
   ]
  },
  {
   "cell_type": "markdown",
   "id": "cac95b01-60b7-4602-b147-8ecc73b9a834",
   "metadata": {},
   "source": [
    "### Parameterized Custom Gates"
   ]
  },
  {
   "cell_type": "markdown",
   "id": "8bec259c-8bb5-407e-8fec-cdde9a45c2ee",
   "metadata": {},
   "source": [
    "Custom gates may also have parameters. This is achieved by defining a function that takes the parameters as arguments and returns a unitary matrix.\n",
    "\n",
    "For example:"
   ]
  },
  {
   "cell_type": "code",
   "execution_count": 10,
   "id": "35d7e902-38ac-457a-8d43-09f705972423",
   "metadata": {},
   "outputs": [
    {
     "data": {
      "image/png": "[encoded data removed]",
      "text/plain": [
       "<Figure size 206.823x200.787 with 1 Axes>"
      ]
     },
     "metadata": {},
     "output_type": "display_data"
    }
   ],
   "source": [
    "def u(phi):\n",
    "    # phi is phase angle in radians\n",
    "    return np.array([[1, 0], [0, exp(1j * phi)]])\n",
    "\n",
    "qc = QCircuit(3)\n",
    "qc.u(u(pi/4), 'U1', 0)         # Custom unitary\n",
    "qc.cu(u(pi/4), 'U1', 0, 1)     # Custom controlled unitary\n",
    "qc.ccu(u(pi/4), 'U1', 0, 1, 2) # Custom controlled-controlled unitary\n",
    "qc.draw()"
   ]
  },
  {
   "cell_type": "markdown",
   "id": "24e15940-9288-41d8-ba35-41434b9f20af",
   "metadata": {},
   "source": [
    "### Assigning Qubits"
   ]
  },
  {
   "cell_type": "markdown",
   "id": "de42893c-9e4a-415d-8779-648b915a4412",
   "metadata": {},
   "source": [
    "Gates are assigned to particular qubits by supplying the qubit numbers as arguments. Control qubits always occur first in the list. For example, cx(0,1) has q0 as the control qubit and q1 as the target qubit."
   ]
  },
  {
   "cell_type": "code",
   "execution_count": 11,
   "id": "a1d84d2a-6a75-4737-8481-55d43ada7de8",
   "metadata": {},
   "outputs": [
    {
     "data": {
      "image/png": "[encoded data removed]",
      "text/plain": [
       "<Figure size 324.709x200.787 with 1 Axes>"
      ]
     },
     "metadata": {},
     "output_type": "display_data"
    }
   ],
   "source": [
    "qc = QCircuit(3)\n",
    "qc.cx(0,1)\n",
    "qc.cx(1,0)\n",
    "qc.cx(0,2)\n",
    "qc.ccx(0,1,2)\n",
    "qc.ccx(0,2,1)\n",
    "qc.draw()"
   ]
  },
  {
   "cell_type": "markdown",
   "id": "fba36da4-05eb-48a5-8c29-b5225ecb1833",
   "metadata": {},
   "source": [
    "Note the following:\n",
    "- The 1st CX gate is applied to q0 and q1 with q0 as the control.\n",
    "- The 2nd CX has q1 as control as it is the first argument.\n",
    "- The 3rd CX gate crosses over q1 because q1 is not involved.\n",
    "- The 4th gate is a CCX gate with 2 controls.\n",
    "- The 5th gate is a CCX with the controls on q0 and q2."
   ]
  },
  {
   "cell_type": "markdown",
   "id": "73508a36-4d35-41a0-9198-2b1c50c1644a",
   "metadata": {},
   "source": [
    "### More Complex Cases"
   ]
  },
  {
   "cell_type": "markdown",
   "id": "fb18ff87-0017-4380-8d21-1d91649619f6",
   "metadata": {},
   "source": [
    "More complicated scenarios can arise with custom gates. The following example shows a custom gate made from a 2-qubit unitary, with 2 controls attached:"
   ]
  },
  {
   "cell_type": "code",
   "execution_count": 12,
   "id": "61820d00-a51d-4964-a803-2b076dc65b81",
   "metadata": {},
   "outputs": [
    {
     "data": {
      "image/png": "[encoded data removed]",
      "text/plain": [
       "<Figure size 89.8308x342.52 with 1 Axes>"
      ]
     },
     "metadata": {},
     "output_type": "display_data"
    }
   ],
   "source": [
    "qc = QCircuit(5)\n",
    "qc.ccu(u2, 'U2', 0, 3, 1, 4)\n",
    "qc.draw()"
   ]
  },
  {
   "cell_type": "markdown",
   "id": "ebcb511d-22bd-4030-8be5-e1f38539e5c6",
   "metadata": {},
   "source": [
    "Note the following:\n",
    "- The dotted line on qubit q2 indicates that it just passes through without playing a role.\n",
    "\n",
    "- The first two arguments (0, 3) of the call are the control qubits, which are indicated by a dot. \n",
    "  The control qubits may be inside or outside the box as shown here.\n",
    "\n",
    "- The numbers (0, 1) in the symbol indicate that these are arguments 0 and 1 for the unitary U (excluding controls).\n",
    "  In the example, these are connected to qubits q1 and q4."
   ]
  },
  {
   "cell_type": "markdown",
   "id": "a028b391-b455-4986-9714-c7fc776acd24",
   "metadata": {},
   "source": [
    "### Measurement"
   ]
  },
  {
   "cell_type": "markdown",
   "id": "a1d06d3b-c1cf-44f6-993b-ef8d9f48e34f",
   "metadata": {},
   "source": [
    "Measurement 'gates' are not quantum gates in the normal sense as they are not unitary operators. Their circuit symbol is a small meter. This example also shows the barrier symbol, which may be added to a circuit to break it into sections."
   ]
  },
  {
   "cell_type": "code",
   "execution_count": 13,
   "id": "0d1eb600-cb3c-4d80-9dbd-a1edf0cb4337",
   "metadata": {},
   "outputs": [
    {
     "data": {
      "image/png": "[encoded data removed]",
      "text/plain": [
       "<Figure size 206.823x200.787 with 1 Axes>"
      ]
     },
     "metadata": {},
     "output_type": "display_data"
    }
   ],
   "source": [
    "qc = QCircuit(3)\n",
    "qc.x(0)\n",
    "qc.barrier()\n",
    "qc.measure(0,2)\n",
    "qc.draw()"
   ]
  },
  {
   "cell_type": "markdown",
   "id": "bc99dc16-9af2-4119-a64a-7009f2324829",
   "metadata": {},
   "source": [
    "### Reset"
   ]
  },
  {
   "cell_type": "markdown",
   "id": "5a9c0d73-737b-4f1e-8a13-d9b392f23e9e",
   "metadata": {},
   "source": [
    "The 'reset' operation is also strictly not a gate as it is not a unitary operation. It resets the state of a qubit to $\\ket{0}$."
   ]
  },
  {
   "cell_type": "code",
   "execution_count": 14,
   "id": "b58b567b-5f0f-44c8-aa70-f89e7a14aa5c",
   "metadata": {},
   "outputs": [
    {
     "data": {
      "image/png": "[encoded data removed]",
      "text/plain": [
       "<Figure size 89.8308x59.0551 with 1 Axes>"
      ]
     },
     "metadata": {},
     "output_type": "display_data"
    }
   ],
   "source": [
    "qc = QCircuit(1)\n",
    "qc.reset(0)\n",
    "qc.draw()"
   ]
  },
  {
   "cell_type": "markdown",
   "id": "a8147585-621f-4413-949c-42617edec231",
   "metadata": {},
   "source": [
    "For further information, see the TinyQsim Gates Guide in the 'doc' directory."
   ]
  }
 ],
 "metadata": {
  "kernelspec": {
   "display_name": "Python 3 (ipykernel)",
   "language": "python",
   "name": "python3"
  },
  "language_info": {
   "codemirror_mode": {
    "name": "ipython",
    "version": 3
   },
   "file_extension": ".py",
   "mimetype": "text/x-python",
   "name": "python",
   "nbconvert_exporter": "python",
   "pygments_lexer": "ipython3",
   "version": "3.12.3"
  }
 },
 "nbformat": 4,
 "nbformat_minor": 5
}
