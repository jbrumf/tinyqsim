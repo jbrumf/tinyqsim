{
 "cells": [
  {
   "cell_type": "markdown",
   "id": "99c8c057-1529-418b-8504-a0a85ddd99ac",
   "metadata": {},
   "source": [
    "## Tutorial 3: Guide to Gates"
   ]
  },
  {
   "cell_type": "markdown",
   "id": "ff155211-f7b6-4b7d-9738-c89a22e45bd1",
   "metadata": {},
   "source": [
    "### Introduction"
   ]
  },
  {
   "cell_type": "markdown",
   "id": "d4f6df5f-64e6-4eb4-9ac3-01e1ff01e4fb",
   "metadata": {},
   "source": [
    "The first part of this tutorial discusses some general features of gates, including the circuit notataion, symbols, controlled gates, parameterized gates and the creation of custom gates.\n",
    "\n",
    "The second part is an alphabetical list of gates of the supported gates with detailed descriptions."
   ]
  },
  {
   "cell_type": "markdown",
   "id": "27659659-5f17-4e87-90fd-7e703f396e1d",
   "metadata": {},
   "source": [
    "### Imports and Definitions"
   ]
  },
  {
   "cell_type": "markdown",
   "id": "6435b81f-a768-4a00-abcf-f1c670a3ccf4",
   "metadata": {},
   "source": [
    "The following imports and definition are used for the examples in this tutorial:"
   ]
  },
  {
   "cell_type": "code",
   "execution_count": 1,
   "id": "e08c1c3d-2901-4d12-9884-3ec00ddff6e0",
   "metadata": {},
   "outputs": [],
   "source": [
    "import cmath\n",
    "from math import pi\n",
    "\n",
    "import numpy as np\n",
    "\n",
    "from tinyqsim import gates\n",
    "from tinyqsim.qcircuit import QCircuit\n",
    "\n",
    "PI = '\\u03C0'  # Unicode PI\n",
    "PHI = '\\u03d5'  # Unicode PHI"
   ]
  },
  {
   "cell_type": "markdown",
   "id": "cfa5c834-b855-44f9-9095-90c964db2294",
   "metadata": {},
   "source": [
    "### Symbols and Notation\n",
    "\n",
    "A quantum circuit is created using the QCircuit constructor and can be drawn with the 'draw' method:"
   ]
  },
  {
   "cell_type": "code",
   "execution_count": 2,
   "id": "953de0ee-a83d-4792-b546-dd210488985e",
   "metadata": {},
   "outputs": [
    {
     "data": {
      "image/png": "[encoded data removed]",
      "text/plain": [
       "<Figure size 89.8308x129.921 with 1 Axes>"
      ]
     },
     "metadata": {},
     "output_type": "display_data"
    }
   ],
   "source": [
    "qc = QCircuit(2)  # 2 qubits\n",
    "qc.draw()"
   ]
  },
  {
   "cell_type": "markdown",
   "id": "a6d16b67-a17c-401d-8228-bb053f02b7e2",
   "metadata": {},
   "source": [
    "The horizontal lines represent the qubits of the quantum circuit. So far, this is just an empty circuit with two qubits, q0 and q1. TinyQsim uses the Big-Endian qubit convention, so q0 is the most-significant qubit.\n",
    "\n",
    "An instance of a quantum gate (e.g. the CX gate) can be added to the circuit by calling the corresponding method, with the the arguments specifying the qubits to which the gate is applied. CX is a controlled-NOT gate with 2 qubits. The first qubit in the parameter list is the control and the second qubit is the target. A control is indicated by a dar"
   ]
  },
  {
   "cell_type": "code",
   "execution_count": 3,
   "id": "679c4f85-fbaf-4265-9c3c-f993423fda3d",
   "metadata": {},
   "outputs": [
    {
     "data": {
      "image/png": "[encoded data removed]",
      "text/plain": [
       "<Figure size 89.8308x129.921 with 1 Axes>"
      ]
     },
     "metadata": {},
     "output_type": "display_data"
    }
   ],
   "source": [
    "qc.cx(0, 1)\n",
    "qc.draw()"
   ]
  },
  {
   "cell_type": "markdown",
   "id": "35bdb826-7e83-45f6-9659-8b18b1bc2323",
   "metadata": {},
   "source": [
    "Gate names are upper case (e.g. 'CX') whereas the corresponding QCircuit method names are lower case (e.g. 'cx') to comply with Python naming conventions.\n",
    "\n",
    "See the QCircuit class in the API documentation for details of the API of the gates.\n",
    "\n",
    "```\n",
    "cx(c: int, t: int)\n",
    "   c : the control qubit\n",
    "   t : the target qubit\n",
    "```\n",
    "\n",
    "The call `qc.cx(0,1)` creates an instance of the gate with the control connected to qubit q0 and the target connected to q1.\n",
    "\n",
    "If the arguments had been in the reverse order, q1 would have been the control and q0 the target, as shown here:"
   ]
  },
  {
   "cell_type": "code",
   "execution_count": 4,
   "id": "2711ff4a-98e0-42bb-a7f0-7e75a3eed061",
   "metadata": {},
   "outputs": [
    {
     "data": {
      "image/png": "[encoded data removed]",
      "text/plain": [
       "<Figure size 89.8308x129.921 with 1 Axes>"
      ]
     },
     "metadata": {},
     "output_type": "display_data"
    }
   ],
   "source": [
    "qc = QCircuit(2)\n",
    "qc.cx(1, 0)\n",
    "qc.draw()"
   ]
  },
  {
   "cell_type": "markdown",
   "id": "fd70d8c3-0494-43ca-8888-a36841201104",
   "metadata": {},
   "source": [
    "In a quantum circuit the gates are often applied to non-consective qubits, such as q0 and q2. For example:"
   ]
  },
  {
   "cell_type": "code",
   "execution_count": 5,
   "id": "020af06e-161f-42f3-8740-9ea82fa7d92e",
   "metadata": {},
   "outputs": [
    {
     "data": {
      "image/png": "[encoded data removed]",
      "text/plain": [
       "<Figure size 89.8308x200.787 with 1 Axes>"
      ]
     },
     "metadata": {},
     "output_type": "display_data"
    }
   ],
   "source": [
    "qc = QCircuit(3)\n",
    "qc.cx(0, 2)\n",
    "qc.draw()"
   ]
  },
  {
   "cell_type": "markdown",
   "id": "21fac41c-07cd-4696-9497-156ac98ff4c7",
   "metadata": {},
   "source": [
    "The vertical line passes over q1 without a dot, as q1 plays no role. If there were a dot on q1, it would indicate a gate with two controls, which would make it a CCX (controlled-controlled-NOT) gate. For example:"
   ]
  },
  {
   "cell_type": "code",
   "execution_count": 6,
   "id": "e5caae12-1c99-4e58-8319-3297fb547d85",
   "metadata": {},
   "outputs": [
    {
     "data": {
      "image/png": "[encoded data removed]",
      "text/plain": [
       "<Figure size 89.8308x200.787 with 1 Axes>"
      ]
     },
     "metadata": {},
     "output_type": "display_data"
    }
   ],
   "source": [
    "qc = QCircuit(3)\n",
    "qc.ccx(0, 1, 2)  # CCX with 3 arguments\n",
    "qc.draw()"
   ]
  },
  {
   "cell_type": "markdown",
   "id": "e6bf1f5e-e10f-4d81-b31b-abfee31452a7",
   "metadata": {},
   "source": [
    "Since swapping the two controls of a CCX gates makes no difference, the symbol does not distinguish between them.\n",
    "\n",
    "TinyQsim supports creation of custom gates, which may have both parameters and controls. In order to allow automatic generation of symbols for custom gates, a generic rectangle is used for the gate body.\n",
    "\n",
    "The following example illustrates a custom gate with two control qubits and two target qubits:"
   ]
  },
  {
   "cell_type": "code",
   "execution_count": 7,
   "id": "dca40fff-56d8-4ce0-8fce-f1ae7b4e1dd4",
   "metadata": {},
   "outputs": [
    {
     "data": {
      "image/png": "[encoded data removed]",
      "text/plain": [
       "<Figure size 89.8308x342.52 with 1 Axes>"
      ]
     },
     "metadata": {},
     "output_type": "display_data"
    }
   ],
   "source": [
    "mygate = np.eye(4)  # Dummy custom gate\n",
    "\n",
    "qc = QCircuit(5)\n",
    "qc.ccu(mygate, 'U1', 0, 3, 1, 4)\n",
    "qc.draw()"
   ]
  },
  {
   "cell_type": "markdown",
   "id": "40de7131-ee7f-4f00-86bf-c2afbafbeafe",
   "metadata": {},
   "source": [
    "The following points should be noted about this example:\n",
    "\n",
    "- The dotted line on qubit q2 indicates that it just passes through without playing a role.\n",
    "\n",
    "- The first two arguments (0, 3) of the call are the control qubits, which are indicated by a dot. The control qubits may be inside or outside the box as shown here.\n",
    "\n",
    "- The numbers (0, 1) in the symbol indicate that these are arguments 0 and 1 for the unitary U (excluding controls). In the example, these are connected to qubits q1 and q4."
   ]
  },
  {
   "cell_type": "markdown",
   "id": "e4f163c6-8207-41ff-b5e4-14b4a52ae337",
   "metadata": {},
   "source": [
    "### Controlled Gates"
   ]
  },
  {
   "cell_type": "markdown",
   "id": "37b7a4a5-000d-45dc-aae0-d2cc899d7369",
   "metadata": {},
   "source": [
    "Gates can have a *controlled* variant. The control enables the operation of the gate. It is drawn as a dark dot in the gate symbol.\n",
    "\n",
    "The controlled version CU of a gate U applies the gate if the control is $\\ket{1}$. For example, for a one-qubit gate defined by the unitary matrix $U$:\n",
    "\n",
    "$$\n",
    "CU = \\ket{0}\\bra{0} \\otimes I + \\ket{1}\\bra{1} \\otimes U\n",
    "$$\n",
    "\n",
    "Since the input may be in a superposition of $\\ket{0}$ and $\\ket{1}$, the result is the superposition of the results for the gate applied to the two cases.\n",
    "\n",
    "TinyQsim provides controlled versions of many of the common gates. For example, CX is a controlled version of the X gate. Controls are denoted by a solid dot in the symbol, as shown in the earlier examples of the CX gate. It is possible for a gate to have multiple controls, such as the CCX gate.\n",
    "\n",
    "A generic U gate is provided that allows a unitary matrix $U$ to be applied as a gate. This has CU and CCU variants. See the sections on the U, CU and CCU gates below for details."
   ]
  },
  {
   "cell_type": "markdown",
   "id": "41d1de0b-ece7-4189-83c5-6f25bd0d73a8",
   "metadata": {},
   "source": [
    "### Anti-Controlled Gates"
   ]
  },
  {
   "cell_type": "markdown",
   "id": "b1808a12-8389-4bf4-a845-0038d3e70c19",
   "metadata": {},
   "source": [
    "Anti-controlled gates are ones where the control is inverted, so that it disables the operation instead of enabling it. These are sometimes drawn like a controlled gate but with a hollow (white) control dot instead of a solid (dark) one.\n",
    "\n",
    "TinyQsim does not have specific support for them, but the same effect can be created by sandwiching a control between two X gates, as shown here:"
   ]
  },
  {
   "cell_type": "code",
   "execution_count": 8,
   "id": "b8d70cab-9655-45a8-acbd-b362248995b1",
   "metadata": {},
   "outputs": [
    {
     "data": {
      "image/png": "[encoded data removed]",
      "text/plain": [
       "<Figure size 206.823x129.921 with 1 Axes>"
      ]
     },
     "metadata": {},
     "output_type": "display_data"
    }
   ],
   "source": [
    "u = np.eye(2)  # Dummy gate\n",
    "\n",
    "qc = QCircuit(2)\n",
    "qc.x(0)\n",
    "qc.cu(u, 'U', 0, 1)\n",
    "qc.x(0)\n",
    "qc.draw()"
   ]
  },
  {
   "cell_type": "markdown",
   "id": "50a94821-d558-4835-90af-2cd69a6a8431",
   "metadata": {},
   "source": [
    "### Angle Parameters\n",
    "\n",
    "One-qubit gates implement rotations of the state vector on the Bloch sphere. Some of these are fixed-angle rotations, such as X, Y, Z, S, T, etc. Others allow a user-specified rotation angle.\n",
    "\n",
    "The P, CP, RX and RY gates have two parameters for the angle. The first is the angle in radians and the second is a label for the circuit symbol that shows the angle in a convenient form, such as a multiple of $\\pi$.\n",
    "\n",
    "The following examples show how to specify the label using a simple ASCII 'pi' or a Unicode $\\pi$."
   ]
  },
  {
   "cell_type": "code",
   "execution_count": 9,
   "id": "8402aab8-3a42-40f1-84e4-b70e142ac330",
   "metadata": {},
   "outputs": [
    {
     "data": {
      "image/png": "[encoded data removed]",
      "text/plain": [
       "<Figure size 148.047x59.0551 with 1 Axes>"
      ]
     },
     "metadata": {},
     "output_type": "display_data"
    }
   ],
   "source": [
    "PI = '\\u03C0'  # PI unicode character\n",
    "\n",
    "qc = QCircuit(1)\n",
    "qc.p(pi / 3, 'pi/3', 0)  # ASCII 'pi/3'\n",
    "qc.p(pi / 3, f'{PI}/3', 0)  # Unicode PI/3\n",
    "qc.draw()"
   ]
  },
  {
   "cell_type": "markdown",
   "id": "a0976132-a657-4b8e-859d-81bb9f023f35",
   "metadata": {},
   "source": [
    "### Custom Gates\n",
    "\n",
    "Custom gates are possible using the U gate that takes a unitary matrix as an argument. For example:"
   ]
  },
  {
   "cell_type": "code",
   "execution_count": 10,
   "id": "23633ce7-a06f-4a4c-9710-325230dd7b2a",
   "metadata": {},
   "outputs": [
    {
     "data": {
      "image/png": "[encoded data removed]",
      "text/plain": [
       "<Figure size 89.8308x129.921 with 1 Axes>"
      ]
     },
     "metadata": {},
     "output_type": "display_data"
    }
   ],
   "source": [
    "u1 = np.array([[1, 0, 0, 0],  # Define a unitary matrix\n",
    "               [0, 0, 1, 0],\n",
    "               [0, 1, 0, 0],\n",
    "               [0, 0, 0, 1]])\n",
    "\n",
    "qc = QCircuit(2)\n",
    "qc.u(u1, 'U1', 0, 1)  # Apply the matrix as a gate\n",
    "qc.draw()"
   ]
  },
  {
   "cell_type": "markdown",
   "id": "322efa2e-82b0-4d18-84b7-8f167711fc6d",
   "metadata": {},
   "source": [
    "This automatically generates a symbol which is labelled with the string given as the second argument.\n",
    "\n",
    "There are also CU and CCU variants for controlled-U and controlled-controlled-U gates. For example:"
   ]
  },
  {
   "cell_type": "code",
   "execution_count": 11,
   "id": "3d01bc2c-ac0d-40aa-90de-58933542e8fd",
   "metadata": {},
   "outputs": [
    {
     "data": {
      "image/png": "[encoded data removed]",
      "text/plain": [
       "<Figure size 89.8308x129.921 with 1 Axes>"
      ]
     },
     "metadata": {},
     "output_type": "display_data"
    }
   ],
   "source": [
    "u2 = np.array([[0, 1],  # Define a unitary matrix\n",
    "               [1, 0]])\n",
    "\n",
    "qc = QCircuit(2)\n",
    "qc.cu(u2, 'U2', 0, 1)  # Apply the matrix as a gate\n",
    "qc.draw()"
   ]
  },
  {
   "cell_type": "markdown",
   "id": "4a6bd9dd-b68f-4c98-a1c6-6397aa695abc",
   "metadata": {},
   "source": [
    "The matrix in this case only defines the operation that is to be controlled but not the control itself. It could have been defined as a 'U' gate with a 4x4 matrix that included the control action. However, this would have been more complicated and the circuit symbol would not have shown which qubit was the control.\n",
    "\n",
    "For further details see the 'U', 'CU' and 'CCU' gates later in this guide."
   ]
  },
  {
   "cell_type": "markdown",
   "id": "30b7595a-3f84-4ab9-bf16-f752b412fa60",
   "metadata": {},
   "source": [
    "### Parameterized Custom Gates\n",
    "\n",
    "A parameterized gate can be defined as a function that returns a unitary matrix.\n",
    "\n",
    "For example, suppose that we wish to create the following custom parameterized phase gate.\n",
    "\n",
    "$$\n",
    "\\text{RK}(k) =\\begin{bmatrix}1 & 0 \\\\ 0 & e^{\\large\\frac{2\\pi i}{2^k}}\\end{bmatrix}\n",
    "$$\n",
    "\n",
    "One way to define it is:"
   ]
  },
  {
   "cell_type": "code",
   "execution_count": 12,
   "id": "628a4166-90a2-4a8e-b1e2-6330e0d39098",
   "metadata": {},
   "outputs": [],
   "source": [
    "def rk(k: int):\n",
    "    return np.array([[1, 0], [0, cmath.exp(1j * 2 * pi / 2 ** k)]])"
   ]
  },
  {
   "cell_type": "markdown",
   "id": "8058cf90-4dfa-45d6-99c7-e0cd2236685c",
   "metadata": {},
   "source": [
    "Alternatively, we could define it in terms of the existing P (phase) gate, as follows:"
   ]
  },
  {
   "cell_type": "code",
   "execution_count": 13,
   "id": "0cd8ee09-d9a2-4935-b96e-3b7e0f89505d",
   "metadata": {},
   "outputs": [],
   "source": [
    "def rk(k: int):\n",
    "    return gates.P(2 * pi / 2 ** k)"
   ]
  },
  {
   "cell_type": "markdown",
   "id": "e168887c-4d3a-471f-a431-79eb7eb6248a",
   "metadata": {},
   "source": [
    "If we call this function with the argument 3 it returns a unitary matrix:"
   ]
  },
  {
   "cell_type": "code",
   "execution_count": 14,
   "id": "ad993589-f267-47c7-939c-93d6bb9decba",
   "metadata": {},
   "outputs": [
    {
     "data": {
      "text/plain": [
       "array([[1.        +0.j        , 0.        +0.j        ],\n",
       "       [0.        +0.j        , 0.70710678+0.70710678j]])"
      ]
     },
     "execution_count": 14,
     "metadata": {},
     "output_type": "execute_result"
    }
   ],
   "source": [
    "rk(3)"
   ]
  },
  {
   "cell_type": "markdown",
   "id": "a86fe680-3f25-498f-a3c7-507fc7c52ca0",
   "metadata": {},
   "source": [
    "In either case, the gate can be added to the circuit like this:"
   ]
  },
  {
   "cell_type": "code",
   "execution_count": 15,
   "id": "33f6c54c-9a44-4c15-8a5b-f9aeeda6da60",
   "metadata": {},
   "outputs": [
    {
     "data": {
      "image/png": "[encoded data removed]",
      "text/plain": [
       "<Figure size 89.8308x59.0551 with 1 Axes>"
      ]
     },
     "metadata": {},
     "output_type": "display_data"
    }
   ],
   "source": [
    "qc = QCircuit(1)\n",
    "qc.u(rk(3), 'RK', 0)  # Add rk(3) to qubit 0\n",
    "qc.draw()"
   ]
  },
  {
   "cell_type": "markdown",
   "id": "aa5cf876-0e37-4a3e-ae00-6f2ea6c9ff63",
   "metadata": {},
   "source": [
    "Note that the unitary matrix definitions of the gates are defined in the tinyqsim 'gates' package. For example, the matrix of the CX gates is:"
   ]
  },
  {
   "cell_type": "code",
   "execution_count": 16,
   "id": "a56648f5-e17d-4d49-9d46-2925bfc6b537",
   "metadata": {},
   "outputs": [
    {
     "data": {
      "text/plain": [
       "array([[1, 0, 0, 0],\n",
       "       [0, 1, 0, 0],\n",
       "       [0, 0, 0, 1],\n",
       "       [0, 0, 1, 0]])"
      ]
     },
     "execution_count": 16,
     "metadata": {},
     "output_type": "execute_result"
    }
   ],
   "source": [
    "gates.CX"
   ]
  },
  {
   "cell_type": "markdown",
   "id": "58c939f0-b4b1-46ec-bc42-4950c848a978",
   "metadata": {},
   "source": [
    "### Global Phase\n",
    "\n",
    "Some gates may appear to be equivalent, but actually differ in a subtle way.\n",
    "\n",
    "For example, the RX(theta) gate performs a rotation by 'theta' radians about the X axis, whilst the X gate performs a rotation by $\\pi$ about the X axis. So it might seem that $RX(\\pi) = X$.\n",
    "\n",
    "However, because of the way they are defined:\n",
    "\n",
    "$$\n",
    "RX(\\pi) = \\begin{bmatrix}\n",
    "0 & -i \\\\ -i  & 0\n",
    "\\end{bmatrix}\\quad\\textrm{and}\\quad\n",
    "X = \\begin{bmatrix}\n",
    "0 & 1 \\\\ 1  & 0\n",
    "\\end{bmatrix}\n",
    "$$\n",
    "\n",
    "Hence $X=i\\,RX(\\pi)$.\n",
    "\n",
    "A global phase term has no effect on any experiment we can perform. Consider a quantum state with a global phase term $e^{i\\phi}$:\n",
    "\n",
    "$$\\ket{\\psi} = e^{i\\phi}(\\alpha_0 \\ket{0} + \\alpha_1 \\ket{1})$$\n",
    "\n",
    "Then the probability of the measurement outcome $\\ket{0}$, for example, is:\n",
    "\n",
    "$$\n",
    "\\begin{align*}\n",
    "p(\\ket{0}) &= (e^{i\\phi}\\alpha_0)^*\\, (e^{i\\phi}\\alpha_0)\\\\\n",
    "&=\\alpha_0^*\\,\\alpha_0\\\\\n",
    "&=|\\alpha_0|^2\n",
    "\\end{align*}\n",
    "$$\n",
    "\n",
    "where $^*$ denotes complex conjugation.\n",
    "\n",
    "Consequently, the global phase term has no effect on the measurement outcome.\n",
    "\n",
    "This extends to a multi-qubit system since:\n",
    "\n",
    "$$(e^{i\\phi} \\ket{\\psi}) \\otimes \\ket{\\chi} = e^{i\\phi}(\\ket{\\psi} \\otimes \\ket{\\chi})$$"
   ]
  },
  {
   "cell_type": "markdown",
   "id": "a262d6a5-e5f6-49f9-8a8f-6c1ce8225d91",
   "metadata": {},
   "source": [
    "---\n",
    "## Summary of Gates"
   ]
  },
  {
   "cell_type": "markdown",
   "id": "6911a113-ffd1-4c6c-8db9-54a41276d42e",
   "metadata": {},
   "source": [
    "| API                               | Description                              | \n",
    "|:----------------------------------|:-----------------------------------------|\n",
    "| qc.ccu(matrix, label, c1, c2, *t) | Controlled-controlled-U gate             |\n",
    "| qc.ccx(c1, c2, t)                 | Controlled-controlled-X (aka Toffoli)    |\n",
    "| qc.ch(c, t)                       | Controlled-H                             |\n",
    "| qc.cp(phi, label, c, t)           | Controlled-P                             |\n",
    "| qc.cs(c, t)                       | Controlled-S                             |\n",
    "| qc.cswap(c, t1, t2)               | Controlled SWAP (aka Fredkin)            |\n",
    "| qc.ct(c, t)                       | Controlled-T                             |\n",
    "| qc.cu(matrix, label, c, *t)       | Controlled-U gate                        |\n",
    "| qc.cx(c, t)                       | Controlled-X (aka CNOT)                  |\n",
    "| qc.cy(c, t)                       | Controlled-Y                             |\n",
    "| qc.cz(c, t)                       | Controlled-Z                             |\n",
    "| qc.h(t)                           | Hadamard                                 |\n",
    "| qc.i(t)                           | Identity (aka ID)                        |\n",
    "| qc.p(phi, label, t)               | Phase: 'phi' radians about Z axis        |\n",
    "| qc.rx(theta, label, t)            | Rotation by 'theta' radians about X axis |\n",
    "| qc.ry(theta, label, t)            | Rotation by 'theta' radians about Y axis |\n",
    "| qc.s(t)                           | pi/2 phase (S = sqrt(Z))                 |\n",
    "| qc.sdg(t)                         | -pi/2 phase (S-dagger)                   |\n",
    "| qc.swap(t1, t2)                   | Swap 2 qubits                            |\n",
    "| qc.sx(t)                          | Sqrt(X) (aka V, SQRTX)                   |\n",
    "| qc.t(t)                           | pi/4 phase (T = sqrt(S))                 |\n",
    "| qc.tdg(t)                         | -pi/4 phase (T dagger)                   |\n",
    "| qc.u(matrix, label, *t)           | Use unitary matrix as a gate             |\n",
    "| qc.x(t)                           | Pauli X (aka NOT)                        |\n",
    "| qc.y(t)                           | Pauli Y                                  |\n",
    "| qc.z(t)                           | Pauli Z                                  |\n",
    "\n",
    "The argument names are abbreviations for:\n",
    "\n",
    "```\n",
    "  c      Control qubit\n",
    "  t      Target qubit\n",
    "  *t     One or more target qubits\n",
    "  label  Text label\n",
    "  phi    Angle in radians\n",
    "  theta  Angle in radians\n",
    "```"
   ]
  },
  {
   "cell_type": "markdown",
   "id": "4fee3ee1-3de6-4bad-b3d2-1961b548a26e",
   "metadata": {},
   "source": [
    "The following are additional circuit elements that are strictly not gates because they are not reversible unitary operations.\n",
    "\n",
    "| API                               | Description                              | \n",
    "|:----------------------------------|:-----------------------------------------|\n",
    "| qc.barrier()                      | Insert barrier in circuit (not a gate)   |\n",
    "| qc.measure(*t)                    | Measurement operation (not a gate)       |\n",
    "| qc.reset(t)                       | Reset qubit to |0>                       |"
   ]
  },
  {
   "cell_type": "markdown",
   "id": "0984f0dd-d1e1-4d9b-9713-6401b1f957eb",
   "metadata": {},
   "source": [
    "---\n",
    "## Alphabetical List of Gates"
   ]
  },
  {
   "cell_type": "markdown",
   "id": "f4338eac-0db2-4ef9-948e-20621ec0deec",
   "metadata": {},
   "source": [
    "### CCU\n",
    "\n",
    "The CCU gate is a controlled-controlled custom unitary gate. See the U gate for further details.\n",
    "\n",
    "It applies unitary matrix U to the target qubit if both the controls are $\\ket{1}$."
   ]
  },
  {
   "cell_type": "code",
   "execution_count": 17,
   "id": "43450821-c55d-4614-a433-3ae250715969",
   "metadata": {},
   "outputs": [
    {
     "data": {
      "image/png": "[encoded data removed]",
      "text/plain": [
       "<Figure size 89.8308x200.787 with 1 Axes>"
      ]
     },
     "metadata": {},
     "output_type": "display_data"
    }
   ],
   "source": [
    "u = np.eye(2)  # Dummy gate\n",
    "\n",
    "qc = QCircuit(3)\n",
    "qc.ccu(u, 'U', 0, 1, 2)\n",
    "qc.draw()"
   ]
  },
  {
   "cell_type": "markdown",
   "id": "e6582943-568a-43df-8945-01ba7e14d2e3",
   "metadata": {},
   "source": [
    "``` \n",
    "API:\n",
    "   ccu(u: ndarray, name: str, c1: int, c2: int, *t: int)\n",
    "      u    : unitary numpy matrix\n",
    "      name : Name of gate   \n",
    "      c1   : the first control qubit\n",
    "      c2   : the second control qubit\n",
    "      *t   : the target qubits\n",
    "```\n",
    "\n",
    "The unitary matrix is of size $2^k \\times 2^k$ for $k$ target qubits."
   ]
  },
  {
   "cell_type": "markdown",
   "id": "fb53881a-9c5f-49fb-a41e-0afced67a917",
   "metadata": {},
   "source": [
    "### CCX (aka Toffoli) Gate\n",
    "\n",
    "The CCX gate is a controlled-controlled-X gate. See the X gate for further details.\n",
    "\n",
    "It applies an X (NOT) operation to the target qubit if both the controls are $\\ket{1}$."
   ]
  },
  {
   "cell_type": "code",
   "execution_count": 18,
   "id": "6e27b609-1703-4335-80f6-6ad6508f9d85",
   "metadata": {},
   "outputs": [
    {
     "data": {
      "image/png": "[encoded data removed]",
      "text/plain": [
       "<Figure size 89.8308x200.787 with 1 Axes>"
      ]
     },
     "metadata": {},
     "output_type": "display_data"
    }
   ],
   "source": [
    "qc = QCircuit(3)\n",
    "qc.ccx(0, 1, 2)\n",
    "qc.draw()"
   ]
  },
  {
   "cell_type": "markdown",
   "id": "124b02a2-f068-4e23-80eb-e8b753cdd279",
   "metadata": {},
   "source": [
    "```\n",
    "API:\n",
    "   ccx(c1: int, c2: int, t: int)\n",
    "      c1 : the first control qubit\n",
    "      c2 : the second control qubit\n",
    "      t  : the target qubit\n",
    "```"
   ]
  },
  {
   "cell_type": "markdown",
   "id": "3b52eb08-c47d-41a2-9d6e-23f10222c58f",
   "metadata": {},
   "source": [
    "### CH Gate\n",
    "\n",
    "The CH gate is a controlled version of the Hadamard (H) gate. See the H gate for further details."
   ]
  },
  {
   "cell_type": "code",
   "execution_count": 19,
   "id": "df5a7e79-94ff-4b91-8462-60fc474d90ec",
   "metadata": {},
   "outputs": [
    {
     "data": {
      "image/png": "[encoded data removed]",
      "text/plain": [
       "<Figure size 89.8308x129.921 with 1 Axes>"
      ]
     },
     "metadata": {},
     "output_type": "display_data"
    }
   ],
   "source": [
    "qc = QCircuit(2)\n",
    "qc.ch(0, 1)\n",
    "qc.draw()"
   ]
  },
  {
   "cell_type": "markdown",
   "id": "87251a46-a0f0-4819-8c9e-8aa7d0aca7c7",
   "metadata": {},
   "source": [
    "```\n",
    "API:\n",
    "   ch(c: int, t: int)\n",
    "      c : the control qubit\n",
    "      t : the target qubit\n",
    "```"
   ]
  },
  {
   "cell_type": "markdown",
   "id": "43bf9d85-94d6-483f-966b-cff673ef339e",
   "metadata": {},
   "source": [
    "### CP Gate\n",
    "\n",
    "The CP gate is a controlled version of the P gate. See the P gate for further details.\n",
    "\n",
    "The first argument is the phase angle in radians. The second argument is the phase angle as a string that is used to label the circuit symbol. The phase angles are typically multiples of 'pi', so it is convenient to use the unicode 'pi' in the text string. See the P gate for further details."
   ]
  },
  {
   "cell_type": "code",
   "execution_count": 20,
   "id": "7642fca6-f5f9-4a34-87e7-687f1b339c5f",
   "metadata": {},
   "outputs": [
    {
     "data": {
      "image/png": "[encoded data removed]",
      "text/plain": [
       "<Figure size 89.8308x129.921 with 1 Axes>"
      ]
     },
     "metadata": {},
     "output_type": "display_data"
    }
   ],
   "source": [
    "qc = QCircuit(2)\n",
    "qc.cp(pi / 2, f'{PI}/2', 0, 1)\n",
    "qc.draw()"
   ]
  },
  {
   "cell_type": "markdown",
   "id": "90405c3a-6e32-4162-91da-54f75e3c6b1e",
   "metadata": {},
   "source": [
    "```API:\n",
    "   cp(phi: float, phi_text: str, c: int, t: int)\n",
    "      phi      : the phase angle in radians\n",
    "      phi_text : Text annotation for the angle\n",
    "      c        : the control qubit\n",
    "      t        : the target qubit\n",
    "```"
   ]
  },
  {
   "cell_type": "markdown",
   "id": "9d2e5738-2337-40a0-a371-3092ca8d84a2",
   "metadata": {},
   "source": [
    "### CS Gate\n",
    "\n",
    "The CS gate is a controlled version of the S gate. See the S gate for further details."
   ]
  },
  {
   "cell_type": "code",
   "execution_count": 21,
   "id": "30668b63-4b0c-4fb0-a035-efcc9aaefc79",
   "metadata": {},
   "outputs": [
    {
     "data": {
      "image/png": "[encoded data removed]",
      "text/plain": [
       "<Figure size 89.8308x129.921 with 1 Axes>"
      ]
     },
     "metadata": {},
     "output_type": "display_data"
    }
   ],
   "source": [
    "qc = QCircuit(2)\n",
    "qc.cs(0, 1)\n",
    "qc.draw()"
   ]
  },
  {
   "cell_type": "markdown",
   "id": "348ce4d5-8730-461f-881e-f7e2a6f63368",
   "metadata": {},
   "source": [
    "```\n",
    "API:\n",
    "   cs(c: int, t: int)\n",
    "      c : the control qubits\n",
    "      t : the target qubit\n",
    "```"
   ]
  },
  {
   "cell_type": "markdown",
   "id": "b3b7750b-a4e9-486f-ae61-958fec0ec890",
   "metadata": {},
   "source": [
    "### CSWAP (aka Fredkin) Gate\n",
    "\n",
    "The CSWAP gate is a controlled version of the SWAP gate. See the SWAP gate for further details."
   ]
  },
  {
   "cell_type": "code",
   "execution_count": 22,
   "id": "f4eaf9c4-ddff-408d-ae03-1185a7f6a1bd",
   "metadata": {},
   "outputs": [
    {
     "data": {
      "image/png": "[encoded data removed]",
      "text/plain": [
       "<Figure size 89.8308x200.787 with 1 Axes>"
      ]
     },
     "metadata": {},
     "output_type": "display_data"
    }
   ],
   "source": [
    "qc = QCircuit(3)\n",
    "qc.cswap(0, 1, 2)\n",
    "qc.draw()"
   ]
  },
  {
   "cell_type": "markdown",
   "id": "f298c95d-4c33-43e0-bbc4-9386e29b23d8",
   "metadata": {},
   "source": [
    "```\n",
    "API:\n",
    "   cswap(c: int, t1: int, t2: int)\n",
    "      c  : the control qubits\n",
    "      t1 : the first target qubit\n",
    "      t2 : the second target qubit\n",
    "```"
   ]
  },
  {
   "cell_type": "markdown",
   "id": "ab2c9db3-d422-477c-be28-87567887b7de",
   "metadata": {},
   "source": [
    "### CT Gate\n",
    "\n",
    "The CT gate is a controlled version of the T gate. See the T gate for further details."
   ]
  },
  {
   "cell_type": "code",
   "execution_count": 23,
   "id": "fcd51e75-9666-41e0-bc88-92c917926cb5",
   "metadata": {},
   "outputs": [
    {
     "data": {
      "image/png": "[encoded data removed]",
      "text/plain": [
       "<Figure size 89.8308x129.921 with 1 Axes>"
      ]
     },
     "metadata": {},
     "output_type": "display_data"
    }
   ],
   "source": [
    "qc = QCircuit(2)\n",
    "qc.ct(0, 1)\n",
    "qc.draw()"
   ]
  },
  {
   "cell_type": "markdown",
   "id": "fd3991a2-3049-4e02-a9a8-5493edfa5693",
   "metadata": {},
   "source": [
    "```\n",
    "API:\n",
    "   ct(c: int, t: int)\n",
    "      c : the control qubit\n",
    "      t : the target qubit\n",
    "```"
   ]
  },
  {
   "cell_type": "markdown",
   "id": "6a0cb90b-645f-4197-837a-71a2df484bbb",
   "metadata": {},
   "source": [
    "### CU\n",
    "\n",
    "The CU gate is a controlled custom unitary gate. See the U gate for further details.\n",
    "\n",
    "It applies unitary matrix U to the target qubit if the control is $\\ket{1}$."
   ]
  },
  {
   "cell_type": "code",
   "execution_count": 24,
   "id": "143e536e-e806-4f9e-b91a-789eaac0b321",
   "metadata": {},
   "outputs": [
    {
     "data": {
      "image/png": "[encoded data removed]",
      "text/plain": [
       "<Figure size 89.8308x129.921 with 1 Axes>"
      ]
     },
     "metadata": {},
     "output_type": "display_data"
    }
   ],
   "source": [
    "u = np.eye(2)  # Dummy gate\n",
    "\n",
    "qc = QCircuit(2)\n",
    "qc.cu(u, 'U', 0, 1)\n",
    "qc.draw()"
   ]
  },
  {
   "cell_type": "markdown",
   "id": "3f0ee03a-a1dc-411b-8806-883fa97498c6",
   "metadata": {},
   "source": [
    "```\n",
    "API:\n",
    "   cu(u: ndarray, name: str, c: int, *t: int)\n",
    "      u    : unitary numpy matrix\n",
    "      name : Name of gate   \n",
    "      c    : the control qubit\n",
    "      *t    : the target qubits\n",
    "```\n",
    "\n",
    "The unitary matrix is of size $2^k \\times 2^k$ for $k$ target qubits."
   ]
  },
  {
   "cell_type": "markdown",
   "id": "51510cb7-2470-43e7-9e7a-4b89e60ec354",
   "metadata": {},
   "source": [
    "### CX (aka CNOT) Gate\n",
    "\n",
    "The CX gate is a controlled version of the X gate. It is also known as the CNOT gate. It plays an important role in quantum algorithms."
   ]
  },
  {
   "cell_type": "code",
   "execution_count": 25,
   "id": "23b6b9db-54af-4016-94d4-8c8bcad18ea9",
   "metadata": {},
   "outputs": [
    {
     "data": {
      "image/png": "[encoded data removed]",
      "text/plain": [
       "<Figure size 89.8308x129.921 with 1 Axes>"
      ]
     },
     "metadata": {},
     "output_type": "display_data"
    }
   ],
   "source": [
    "qc = QCircuit(2)\n",
    "qc.cx(0, 1)\n",
    "qc.draw()"
   ]
  },
  {
   "cell_type": "markdown",
   "id": "4ab1ccfa-165a-46b5-b08f-d5bdd93cc043",
   "metadata": {},
   "source": [
    "```\n",
    "API:\n",
    "   cx(c: int, t: int)\n",
    "      c : the control qubit\n",
    "      t : the target qubit\n",
    "```"
   ]
  },
  {
   "cell_type": "markdown",
   "id": "a922d76c-0e78-46c1-8b72-b2144f41431b",
   "metadata": {},
   "source": [
    "### CY Gate\n",
    "\n",
    "The CY gate is a controlled version of the Y gate. See the Y gate for further details."
   ]
  },
  {
   "cell_type": "code",
   "execution_count": 26,
   "id": "e4cb9d58-1dfa-4792-b92f-4c358bb099e9",
   "metadata": {},
   "outputs": [
    {
     "data": {
      "image/png": "[encoded data removed]",
      "text/plain": [
       "<Figure size 89.8308x129.921 with 1 Axes>"
      ]
     },
     "metadata": {},
     "output_type": "display_data"
    }
   ],
   "source": [
    "qc = QCircuit(2)\n",
    "qc.cy(0, 1)\n",
    "qc.draw()"
   ]
  },
  {
   "cell_type": "markdown",
   "id": "b685bb2a-6e9b-40ae-bd05-3d9f9e0c696a",
   "metadata": {},
   "source": [
    "```\n",
    "API:\n",
    "   cy(c: int, t: int)\n",
    "      c : the control qubit\n",
    "      t : the target qubit\n",
    "```"
   ]
  },
  {
   "cell_type": "markdown",
   "id": "e2061def-e131-4f00-91af-90a9bbe4cdcf",
   "metadata": {},
   "source": [
    "### CZ Gate\n",
    "\n",
    "The CZ gate is a controlled version of the Z gate. See the Z gate for further details."
   ]
  },
  {
   "cell_type": "code",
   "execution_count": 27,
   "id": "da636eb5-1826-4d66-8d20-c8146a145d95",
   "metadata": {},
   "outputs": [
    {
     "data": {
      "image/png": "[encoded data removed]",
      "text/plain": [
       "<Figure size 89.8308x129.921 with 1 Axes>"
      ]
     },
     "metadata": {},
     "output_type": "display_data"
    }
   ],
   "source": [
    "qc = QCircuit(2)\n",
    "qc.cz(0, 1)\n",
    "qc.draw()"
   ]
  },
  {
   "cell_type": "markdown",
   "id": "3f4359ad-77c5-4b16-9437-7effa1574b73",
   "metadata": {},
   "source": [
    "```\n",
    "API:\n",
    "   cz(c: int, t: int)\n",
    "      c : the control qubit\n",
    "      t : the target qubit\n",
    "```"
   ]
  },
  {
   "cell_type": "markdown",
   "id": "6c6a58b3-73c1-4f56-8142-8c7b11426dd6",
   "metadata": {},
   "source": [
    "### H Gate\n",
    "\n",
    "The Hadamard (H) gate is an important gate in quantum computing because it can create a superposition from a basis state. It can also be used to switch between the Z basis and the X basis."
   ]
  },
  {
   "cell_type": "code",
   "execution_count": 28,
   "id": "72a3ad52-36b9-4794-8d57-d9906b19b64c",
   "metadata": {},
   "outputs": [
    {
     "data": {
      "image/png": "[encoded data removed]",
      "text/plain": [
       "<Figure size 89.8308x59.0551 with 1 Axes>"
      ]
     },
     "metadata": {},
     "output_type": "display_data"
    }
   ],
   "source": [
    "qc = QCircuit(1)\n",
    "qc.h(0)\n",
    "qc.draw()"
   ]
  },
  {
   "cell_type": "markdown",
   "id": "5fd09bfb-9469-4d04-9f76-ddc483e00c17",
   "metadata": {},
   "source": [
    "```\n",
    "API:\n",
    "   h(t: int)\n",
    "      t : the target qubit\n",
    "```\n",
    "\n",
    "The H gate is described by the following matrix:\n",
    "\n",
    "$$\n",
    "H = \\frac{1}{\\sqrt{2}}\\begin{bmatrix}1 & 1 \\\\ 1 & -1 \\end{bmatrix}\n",
    "$$"
   ]
  },
  {
   "cell_type": "markdown",
   "id": "ee3e979f-a11c-4234-90fb-d2ea638c2b32",
   "metadata": {},
   "source": [
    "### I (aka ID) Gate\n",
    "\n",
    "The I gate is the identity gate. The physical implementation in a quantum computer is simply 'do nothing'. Although it has no effect, it can be useful when analysing circuits. It is usually just drawn as a line, but may occasionally be made explicit as follows:"
   ]
  },
  {
   "cell_type": "code",
   "execution_count": 29,
   "id": "15cdeab3-718d-4102-bdd4-bd5116a3cb86",
   "metadata": {},
   "outputs": [
    {
     "data": {
      "image/png": "[encoded data removed]",
      "text/plain": [
       "<Figure size 89.8308x59.0551 with 1 Axes>"
      ]
     },
     "metadata": {},
     "output_type": "display_data"
    }
   ],
   "source": [
    "qc = QCircuit(1)\n",
    "qc.i(0)\n",
    "qc.draw()"
   ]
  },
  {
   "cell_type": "markdown",
   "id": "a04e84f9-1308-4f5f-8035-cadb8b788329",
   "metadata": {},
   "source": [
    "```\n",
    "API:\n",
    "   i(t: int)\n",
    "      t : the target qubit\n",
    "```\n",
    "\n",
    "The I gate is described by the identity matrix:\n",
    "\n",
    "$$\n",
    "I = \\begin{bmatrix}1 & 0 \\\\ 0 & 1 \\end{bmatrix}\n",
    "$$"
   ]
  },
  {
   "cell_type": "markdown",
   "id": "0b38e208-c3c7-476e-83e6-889269921960",
   "metadata": {},
   "source": [
    "### P Gate\n",
    "\n",
    "The phase gate P rotates the phase of a qubit around the Z axis in the Bloch sphere."
   ]
  },
  {
   "cell_type": "code",
   "execution_count": 30,
   "id": "80b91219-491a-4202-9c74-968a457addbb",
   "metadata": {},
   "outputs": [
    {
     "data": {
      "image/png": "[encoded data removed]",
      "text/plain": [
       "<Figure size 89.8308x59.0551 with 1 Axes>"
      ]
     },
     "metadata": {},
     "output_type": "display_data"
    }
   ],
   "source": [
    "qc = QCircuit(1)\n",
    "qc.p(pi / 2, f'{PI}/2', 0)  # For phi = pi/2\n",
    "qc.draw()"
   ]
  },
  {
   "cell_type": "markdown",
   "id": "cf29d5ab-c3c5-49ae-830f-f3e61ca114e9",
   "metadata": {},
   "source": [
    "The P gate is described by the following matrix:\n",
    "\n",
    "$$\n",
    "P(\\phi) =\\begin{bmatrix}1 & 0 \\\\ 0 & e^{i\\phi} \\end{bmatrix}\n",
    "$$\n",
    "\n",
    "```\n",
    "API:\n",
    "   p(phi: float, label: str, t: int)\n",
    "      phi   : the phase angle in radians\n",
    "      label : text label for the angle\n",
    "      t     : the target qubit\n",
    "```\n",
    "\n",
    "The first argument is the phase angle in radians. The second argument is the phase angle as a string. The phase angles are typically multiples of $\\pi$, so it is convenient to use unicode $\\pi$ in the text string.\n",
    "\n",
    "When the phase gate is applied to a qubit $\\alpha_0\\ket{0} + \\alpha_1\\ket{1}$, the result is:\n",
    "\n",
    "$$\n",
    "\\begin{bmatrix}1 & 0 \\\\ 0 & e^{i\\phi} \\end{bmatrix}\\begin{bmatrix}\\alpha_0 \\\\ \\alpha_1 \\end{bmatrix}=\\begin{bmatrix}\\alpha_0 \\\\ \\alpha_1 e^{i\\phi}\\end{bmatrix}\n",
    "$$\n",
    "\n",
    "Note that all the phase is applied to the $\\ket{1}$ state. It is not necessary to apply separate phases to the two basis states as only the relative phase matters. The global phase does not affect the measurement outcome.\n",
    "\n",
    "The following are special cases of the phase gate that have their own names as they are frequently used:\n",
    "\n",
    "$$\n",
    "\\begin{align*}\n",
    "Z &= P(\\pi)\\\\[0.3em]\n",
    "S &= P(\\frac{\\pi}{2})= \\sqrt{Z}\\\\[0.3em]\n",
    "T &= P(\\frac{\\pi}{4})= \\sqrt{S}\n",
    "\\end{align*}\n",
    "$$"
   ]
  },
  {
   "cell_type": "markdown",
   "id": "aa2cff3a-980d-4917-ac11-af8c1ecbd4b5",
   "metadata": {},
   "source": [
    "### RX Gate\n",
    "\n",
    "The RX gate performs a rotation by 'theta' radians about the X axis of the Bloch Sphere."
   ]
  },
  {
   "cell_type": "code",
   "execution_count": 31,
   "id": "a558a1d0-e029-4b5e-a561-04d64768bc12",
   "metadata": {},
   "outputs": [
    {
     "data": {
      "image/png": "[encoded data removed]",
      "text/plain": [
       "<Figure size 89.8308x59.0551 with 1 Axes>"
      ]
     },
     "metadata": {},
     "output_type": "display_data"
    }
   ],
   "source": [
    "qc = QCircuit(1)\n",
    "qc.rx(pi / 4, f'{PI}/4', 0)\n",
    "qc.draw()"
   ]
  },
  {
   "cell_type": "markdown",
   "id": "e154b573-762a-40ff-b3e3-062fcbcca8a5",
   "metadata": {},
   "source": [
    "```\n",
    "API:\n",
    "   rx(theta: float, t: int)\n",
    "      theta : the angle in radians\n",
    "      label : text label for the angle\n",
    "      t     : the target qubit\n",
    "```\n",
    "\n",
    "The RX gate is described by the following matrix:\n",
    "\n",
    "$$\n",
    "RX(\\theta) = \\begin{bmatrix}\n",
    "\\cos(\\frac{\\theta}{2}) & -i\\sin(\\frac{\\theta}{2}) \\\\\n",
    " -i \\sin(\\frac{\\theta}{2}) & \\cos(\\frac{\\theta}{2}) \\end{bmatrix}\n",
    "$$\n",
    "\n",
    "Note: RX($\\pi$) and X differ by a global phase of $i$:\n",
    "\n",
    "$$\n",
    "RX(\\pi) = \\begin{bmatrix}\n",
    "0 & -i \\\\ -i  & 0\n",
    "\\end{bmatrix}\\quad\\textrm{whereas}\\quad\n",
    "X = \\begin{bmatrix}\n",
    "0 & 1 \\\\ 1  & 0\n",
    "\\end{bmatrix}\n",
    "$$\n",
    "\n",
    "Hence $X=i\\,RX(\\pi)$."
   ]
  },
  {
   "cell_type": "markdown",
   "id": "3adbcc6c-f450-4b18-ac6f-68a262b0ee1c",
   "metadata": {},
   "source": [
    "### RY Gate\n",
    "\n",
    "The RY gate performs a rotation by 'theta' radians about the Y axis of the Bloch Sphere."
   ]
  },
  {
   "cell_type": "code",
   "execution_count": 32,
   "id": "42aca2ae-df08-4dd7-a72d-2f24af2476f8",
   "metadata": {},
   "outputs": [
    {
     "data": {
      "image/png": "[encoded data removed]",
      "text/plain": [
       "<Figure size 89.8308x59.0551 with 1 Axes>"
      ]
     },
     "metadata": {},
     "output_type": "display_data"
    }
   ],
   "source": [
    "qc = QCircuit(1)\n",
    "qc.ry(pi / 4, f'{PI}/4', 0)\n",
    "qc.draw()"
   ]
  },
  {
   "cell_type": "markdown",
   "id": "00496b0f-84e3-4c95-a075-6fc3817b6273",
   "metadata": {},
   "source": [
    "```\n",
    "API:\n",
    "   ry(theta: float, t: int)\n",
    "      theta : the angle in radians\n",
    "      label : text label for the angle\n",
    "      t     : the target qubit\n",
    "```\n",
    "\n",
    "The RY gate is described by the following matrix:\n",
    "\n",
    "$$\n",
    "RY(\\theta) =  \\begin{bmatrix}\n",
    "\\cos(\\frac{\\theta}{2}) & -\\sin(\\frac{\\theta}{2}) \\\\\n",
    " \\sin(\\frac{\\theta}{2}) & \\cos(\\frac{\\theta}{2}) \\end{bmatrix}\n",
    "$$\n",
    "\n",
    "Note: RY($\\pi$) and Y differ by a global phase:\n",
    "\n",
    "$$\n",
    "RY(\\pi) = \\begin{bmatrix}\n",
    "0 & -1 \\\\ 1  & 0\n",
    "\\end{bmatrix}\\quad\\textrm{whereas}\\quad\n",
    "Y = \\begin{bmatrix}\n",
    "0 & -i \\\\ i  & 0\n",
    "\\end{bmatrix}\n",
    "$$\n",
    "\n",
    "Hence $Y=i\\,RY(\\pi)$."
   ]
  },
  {
   "cell_type": "markdown",
   "id": "a4f20af6-dc00-4798-a304-fe5494562276",
   "metadata": {},
   "source": [
    "### S Gate\n",
    "\n",
    "The S gate performs a phase rotation by $\\pi/2$ radians. It can be thought of as the square-root of the Z gate. Applying it twice is equivalent to a Z gate.\n",
    "\n",
    "$$\n",
    "S=\\sqrt{Z}\n",
    "$$"
   ]
  },
  {
   "cell_type": "code",
   "execution_count": 33,
   "id": "6b8e1d44-8d94-4bdf-b7ab-d71e2ec45433",
   "metadata": {},
   "outputs": [
    {
     "data": {
      "image/png": "[encoded data removed]",
      "text/plain": [
       "<Figure size 89.8308x59.0551 with 1 Axes>"
      ]
     },
     "metadata": {},
     "output_type": "display_data"
    }
   ],
   "source": [
    "qc = QCircuit(1)\n",
    "qc.s(0)\n",
    "qc.draw()"
   ]
  },
  {
   "cell_type": "markdown",
   "id": "63bf214a-e26a-4a8d-a84c-66e7a1dda7f7",
   "metadata": {},
   "source": [
    "```\n",
    "API:\n",
    "   s(t: int)\n",
    "      t : the target qubit\n",
    "```\n",
    "\n",
    "The S gate is described by the following matrix:\n",
    "\n",
    "$$\n",
    "S =\\begin{bmatrix}1 & 0 \\\\ 0 & i \\end{bmatrix}\n",
    "$$"
   ]
  },
  {
   "cell_type": "markdown",
   "id": "9cacfa36-f21e-4637-9212-f3b93d165e00",
   "metadata": {},
   "source": [
    "### Sdg Gate\n",
    "\n",
    "The Sdg (S-dagger) $S^\\dagger$ gate is the conjugate transpose of the S gate. It performs a phase rotation by $-\\pi/2$ radians."
   ]
  },
  {
   "cell_type": "code",
   "execution_count": 34,
   "id": "cf0874ba-6ee2-4d46-a906-c2b6d6080da3",
   "metadata": {},
   "outputs": [
    {
     "data": {
      "image/png": "[encoded data removed]",
      "text/plain": [
       "<Figure size 89.8308x59.0551 with 1 Axes>"
      ]
     },
     "metadata": {},
     "output_type": "display_data"
    }
   ],
   "source": [
    "qc = QCircuit(1)\n",
    "qc.sdg(0)\n",
    "qc.draw()"
   ]
  },
  {
   "cell_type": "markdown",
   "id": "11686ecb-9ea4-4d9f-ac9d-e4d131267213",
   "metadata": {},
   "source": [
    "```\n",
    "API:\n",
    "   sdg(t: int)\n",
    "      t : the target qubit\n",
    "```\n",
    "\n",
    "The Sdg gate is described by the following matrix:\n",
    "\n",
    "$$\n",
    "Sdg =\\begin{bmatrix}1 & 0 \\\\ 0 & -i \\end{bmatrix}\n",
    "$$"
   ]
  },
  {
   "cell_type": "markdown",
   "id": "73a968c2-5aa4-42d2-929b-7fa17b0b0d1f",
   "metadata": {},
   "source": [
    "### SWAP Gate\n",
    "\n",
    "The SWAP gate swaps the state of two qubits."
   ]
  },
  {
   "cell_type": "code",
   "execution_count": 35,
   "id": "34198a9c-30da-4d45-98f7-9a3edc4af519",
   "metadata": {},
   "outputs": [
    {
     "data": {
      "image/png": "[encoded data removed]",
      "text/plain": [
       "<Figure size 89.8308x129.921 with 1 Axes>"
      ]
     },
     "metadata": {},
     "output_type": "display_data"
    }
   ],
   "source": [
    "qc = QCircuit(2)\n",
    "qc.swap(0, 1)\n",
    "qc.draw()"
   ]
  },
  {
   "cell_type": "markdown",
   "id": "9655b0c1-2e06-4d79-a174-cf60d576fae5",
   "metadata": {},
   "source": [
    "```\n",
    "API:\n",
    "   swap(c: int, t1: int, t2: int)\n",
    "      t1 : the first target qubit\n",
    "      t2 i: the second target qubit\n",
    "```\n",
    "\n",
    "The SWAP gate is described by the following matrix:\n",
    "\n",
    "$$\n",
    "SWAP =\\begin{bmatrix}1&0&0&0 \\\\ 0&0&1&0 \\\\ 0&1&0&0 \\\\ 0&0&0&1 \\end{bmatrix}\n",
    "$$"
   ]
  },
  {
   "cell_type": "markdown",
   "id": "0c378af1-25fe-486d-9f29-8cb963fb53a5",
   "metadata": {},
   "source": [
    "### SX (aka V, SQRTX) Gate\n",
    "\n",
    "The SX gate can be thought of as the square-root of the X gate. Applying it twice is equivalent to an X gate:\n",
    "\n",
    "$$\n",
    "SX=\\sqrt{X}\n",
    "$$"
   ]
  },
  {
   "cell_type": "code",
   "execution_count": 36,
   "id": "16f6a31d-e6ae-442f-840a-1695a83f62e6",
   "metadata": {},
   "outputs": [
    {
     "data": {
      "image/png": "[encoded data removed]",
      "text/plain": [
       "<Figure size 89.8308x59.0551 with 1 Axes>"
      ]
     },
     "metadata": {},
     "output_type": "display_data"
    }
   ],
   "source": [
    "qc = QCircuit(1)\n",
    "qc.sx(0)\n",
    "qc.draw()"
   ]
  },
  {
   "cell_type": "markdown",
   "id": "c2c5c40b-1b80-445a-880e-5fe509e65755",
   "metadata": {},
   "source": [
    "```\n",
    "API:\n",
    "   sx(t: int)\n",
    "     t : the target qubit\n",
    "```\n",
    "\n",
    "The SX gate is described by the following matrix:\n",
    "\n",
    "$$\n",
    "SX =\\frac{1}{\\sqrt{2}}\\begin{bmatrix}1+i & 1-i \\\\ 1-i & 1+i \\end{bmatrix}\n",
    "$$\n",
    "\n",
    "Note that $V^\\dagger$ is the other square-root of X."
   ]
  },
  {
   "cell_type": "markdown",
   "id": "a7e033cb-f2d3-4623-8e26-b365ecee81a8",
   "metadata": {},
   "source": [
    "### T Gate\n",
    "\n",
    "The T gate performs a phase rotation by $\\pi/4$ radians. It can be thought of as the square-root of the S gate. Applying it twice is equivalent to a S gate:\n",
    "\n",
    "$$\n",
    "T = \\sqrt{S}\n",
    "$$"
   ]
  },
  {
   "cell_type": "code",
   "execution_count": 37,
   "id": "a37d8669-8fff-4db5-998d-d55b1cbe42dd",
   "metadata": {},
   "outputs": [
    {
     "data": {
      "image/png": "[encoded data removed]",
      "text/plain": [
       "<Figure size 89.8308x59.0551 with 1 Axes>"
      ]
     },
     "metadata": {},
     "output_type": "display_data"
    }
   ],
   "source": [
    "qc = QCircuit(1)\n",
    "qc.t(0)\n",
    "qc.draw()"
   ]
  },
  {
   "cell_type": "markdown",
   "id": "a2240709-a493-4aa9-aebd-f3a13a2f52f1",
   "metadata": {},
   "source": [
    "```\n",
    "API:\n",
    "   t(t1: int)\n",
    "      t1 : the target qubit\n",
    "```\n",
    "\n",
    "The T gate is described by the following matrix:\n",
    "\n",
    "$$\n",
    "T =\\begin{bmatrix}1 & 0 \\\\ 0 & e^{i\\frac{\\pi}{4}} \\end{bmatrix}\n",
    "$$\n",
    "\n",
    "Somewhat confusingly, the T gate is sometimes known as the $\\pi/8$ gate. This because it can be written in a symmetrical form (up to global phase) as:\n",
    "\n",
    "$$\n",
    "T =\\begin{bmatrix} e^{i\\frac{\\pi}{8}}& 0 \\\\ 0 & e^{i\\frac{\\pi}{8}} \\end{bmatrix}\n",
    "$$"
   ]
  },
  {
   "cell_type": "markdown",
   "id": "8decaf74-34c2-4419-9021-a6065dfffdf4",
   "metadata": {},
   "source": [
    "### Tdg Gate\n",
    "\n",
    "The Tdg (T-dagger) $T^\\dagger$ gate is the conjugate transpose of the T gate. It performs a phase rotation by $-\\pi/4$ radians."
   ]
  },
  {
   "cell_type": "code",
   "execution_count": 38,
   "id": "704b0f4b-27e1-470b-9af0-e63394c42c5e",
   "metadata": {},
   "outputs": [
    {
     "data": {
      "image/png": "[encoded data removed]",
      "text/plain": [
       "<Figure size 89.8308x59.0551 with 1 Axes>"
      ]
     },
     "metadata": {},
     "output_type": "display_data"
    }
   ],
   "source": [
    "qc = QCircuit(1)\n",
    "qc.tdg(0)\n",
    "qc.draw()"
   ]
  },
  {
   "cell_type": "markdown",
   "id": "e53686f0-a746-409d-a528-33c3d552aba7",
   "metadata": {},
   "source": [
    "```\n",
    "API:\n",
    "   tdg(t: int)\n",
    "      t : the target qubit\n",
    "```\n",
    "\n",
    "The Tdg gate is described by the following matrix:\n",
    "\n",
    "$$\n",
    "Tdg =\\begin{bmatrix}1 & 0 \\\\ 0 & e^{-i\\frac{\\pi}{4}} \\end{bmatrix}\n",
    "$$"
   ]
  },
  {
   "cell_type": "markdown",
   "id": "dbdc1ea7-046d-48d7-8fb6-1e44bf6d055e",
   "metadata": {},
   "source": [
    "### U Gate\n",
    "\n",
    "The U gate takes a $2^N \\times 2^N$ unitary matrix and applies it as an N-qubit gate. The simplest case is a single-qubit gate, which has a 2x2 matrix."
   ]
  },
  {
   "cell_type": "code",
   "execution_count": 39,
   "id": "3e9358c6-598b-48cd-8133-d62531be4888",
   "metadata": {},
   "outputs": [
    {
     "data": {
      "image/png": "[encoded data removed]",
      "text/plain": [
       "<Figure size 89.8308x59.0551 with 1 Axes>"
      ]
     },
     "metadata": {},
     "output_type": "display_data"
    }
   ],
   "source": [
    "u = np.eye(2)  # Dummy gate\n",
    "\n",
    "qc = QCircuit(1)\n",
    "qc.u(u, 'U', 0)\n",
    "qc.draw()"
   ]
  },
  {
   "cell_type": "markdown",
   "id": "1f5a16e6-c7ab-4b25-8ef8-e79d3fc98929",
   "metadata": {},
   "source": [
    "```\n",
    "API:\n",
    "   u(u: ndarray, name: str, *t: int)\n",
    "      u    : unitary numpy matrix\n",
    "      name : Name of gate   \n",
    "      *t    : the target qubits\n",
    "```\n",
    "\n",
    "The unitary matrix is of size $2^k \\times 2^k$ for $k$ target qubits."
   ]
  },
  {
   "cell_type": "markdown",
   "id": "0563c954-40ac-416d-b7f6-b543deefc2e6",
   "metadata": {},
   "source": [
    "### X (aka NOT) Gate\n",
    "\n",
    "The X gate is the quantum NOT operator. It is a rotation by $\\pi$ about the X axis of the Bloch sphere."
   ]
  },
  {
   "cell_type": "code",
   "execution_count": 40,
   "id": "c661b914-1ab4-4bc4-b84d-2736a624762d",
   "metadata": {},
   "outputs": [
    {
     "data": {
      "image/png": "[encoded data removed]",
      "text/plain": [
       "<Figure size 89.8308x59.0551 with 1 Axes>"
      ]
     },
     "metadata": {},
     "output_type": "display_data"
    }
   ],
   "source": [
    "qc = QCircuit(1)\n",
    "qc.x(0)\n",
    "qc.draw()"
   ]
  },
  {
   "cell_type": "markdown",
   "id": "5b60421e-7a60-4b65-b802-06fa577f27df",
   "metadata": {},
   "source": [
    "```\n",
    "API:\n",
    "   x(t: int)\n",
    "      t : the target qubit\n",
    "```\n",
    "\n",
    "The X gate is described by the following matrix:\n",
    "\n",
    "$$\n",
    "X =\\begin{bmatrix}0 & 1 \\\\ 1 & 0 \\end{bmatrix}\n",
    "$$"
   ]
  },
  {
   "cell_type": "markdown",
   "id": "07fad882-a6ee-446f-8dd3-cf82abea771a",
   "metadata": {},
   "source": [
    "### Y Gate\n",
    "\n",
    "The Y gate It is a rotation by $\\pi$ about the Y axis of the Bloch sphere."
   ]
  },
  {
   "cell_type": "code",
   "execution_count": 41,
   "id": "2c70bae7-4d90-4f9f-9c8a-0249e775afba",
   "metadata": {},
   "outputs": [
    {
     "data": {
      "image/png": "[encoded data removed]",
      "text/plain": [
       "<Figure size 89.8308x59.0551 with 1 Axes>"
      ]
     },
     "metadata": {},
     "output_type": "display_data"
    }
   ],
   "source": [
    "qc = QCircuit(1)\n",
    "qc.y(0)\n",
    "qc.draw()"
   ]
  },
  {
   "cell_type": "markdown",
   "id": "c1fa85e4-8443-48ec-8702-1569e253cf25",
   "metadata": {},
   "source": [
    "```\n",
    "API:\n",
    "   y(t: int)\n",
    "      t : the target qubit\n",
    "```\n",
    "\n",
    "The Y gate is described by the following matrix:\n",
    "\n",
    "$$\n",
    "Y = \\begin{bmatrix}0 & -i \\\\ i & 0 \\end{bmatrix}\n",
    "$$"
   ]
  },
  {
   "cell_type": "markdown",
   "id": "10dfd5f1-b3c4-4462-a144-c7918f22163f",
   "metadata": {},
   "source": [
    "### Z Gate\n",
    "\n",
    "The Z gate It is a rotation by $\\pi$ about the Z axis of the Bloch sphere."
   ]
  },
  {
   "cell_type": "code",
   "execution_count": 42,
   "id": "b073687a-03fb-4089-b619-6510a5513cf5",
   "metadata": {},
   "outputs": [
    {
     "data": {
      "image/png": "[encoded data removed]",
      "text/plain": [
       "<Figure size 89.8308x59.0551 with 1 Axes>"
      ]
     },
     "metadata": {},
     "output_type": "display_data"
    }
   ],
   "source": [
    "qc = QCircuit(1)\n",
    "qc.z(0)\n",
    "qc.draw()"
   ]
  },
  {
   "cell_type": "markdown",
   "id": "12592d39-3d5b-4fd1-bb20-8408faefeda4",
   "metadata": {},
   "source": [
    "```  \n",
    "API:\n",
    "   z(t: int)\n",
    "      t : the target qubit\n",
    "```\n",
    "\n",
    "The Z gate is described by the following matrix:\n",
    "\n",
    "$$\n",
    "Z =\\begin{bmatrix}1&0 \\\\ 0&-1 \\end{bmatrix}\n",
    "$$"
   ]
  },
  {
   "cell_type": "markdown",
   "id": "48e2e9b4-ddbd-4d43-a484-0b81cfa716f8",
   "metadata": {},
   "source": [
    "## Non-Unitary Operations\n",
    "\n",
    "This section covers circuit elements that are not considered to be quantum gates because they are not reversible unitary operations.\n",
    "\n",
    "### Measure\n",
    "\n",
    "The 'measure' operation performs a quantum measurement on one or more qubits."
   ]
  },
  {
   "cell_type": "code",
   "execution_count": 43,
   "id": "ae19f644-3467-4ced-b2dd-626a93fe5221",
   "metadata": {},
   "outputs": [
    {
     "data": {
      "image/png": "[encoded data removed]",
      "text/plain": [
       "<Figure size 89.8308x129.921 with 1 Axes>"
      ]
     },
     "metadata": {},
     "output_type": "display_data"
    }
   ],
   "source": [
    "qc = QCircuit(2)\n",
    "qc.measure(0, 1)\n",
    "qc.draw()"
   ]
  },
  {
   "cell_type": "markdown",
   "id": "cc177b14-4c53-4ad4-9815-a7b11af89393",
   "metadata": {},
   "source": [
    "```\n",
    "API:\n",
    "   measure(t1, t2, ... : int)\n",
    "      t1, t2, ... : the qubits to be measured\n",
    "```\n",
    "\n",
    "If the argument list is left blank, then all qubits will be measured."
   ]
  },
  {
   "cell_type": "markdown",
   "id": "78ed4fb2-bb65-45d1-9259-0b36609d409d",
   "metadata": {},
   "source": [
    "### Reset\n",
    "\n",
    "The 'reset' operation resets a qubit to the $\\ket{0}$ state."
   ]
  },
  {
   "cell_type": "code",
   "execution_count": 44,
   "id": "397efa12-8c46-478b-a00d-2f5ad9c22c24",
   "metadata": {},
   "outputs": [
    {
     "data": {
      "image/png": "[encoded data removed]",
      "text/plain": [
       "<Figure size 89.8308x59.0551 with 1 Axes>"
      ]
     },
     "metadata": {},
     "output_type": "display_data"
    }
   ],
   "source": [
    "qc = QCircuit(1)\n",
    "qc.reset(0)\n",
    "qc.draw()"
   ]
  },
  {
   "cell_type": "markdown",
   "id": "8c7452e4-d031-495c-b6c3-d47b3bd3f7d0",
   "metadata": {},
   "source": [
    "It is equivalent to a measurement of the qubit, followed by an X operation conditional on the measurement result being 1.\n",
    "\n",
    "```\n",
    "API:\n",
    "   reset(t: int)\n",
    "      t : the target qubit\n",
    "```"
   ]
  },
  {
   "cell_type": "markdown",
   "id": "4d0fd4c2-4b04-4bd3-a2c2-6c00b506782e",
   "metadata": {},
   "source": [
    "## Other Symbols\n",
    "\n",
    "### Barrier\n",
    "\n",
    "A barrier is drawn in the circuit as a vertical dotted line, like a fence separating sections of the circuit. Its main use is to prevent circuit optimizations crossing boundaries. This does not apply to TinyQsim since it currently does no circuit optimization. However, a barrier can still be useful for separating parts of the circuit for clarify, for example to separate initialization from processing."
   ]
  },
  {
   "cell_type": "code",
   "execution_count": 45,
   "id": "36815285-c090-40d0-aa9e-7290aefbc466",
   "metadata": {},
   "outputs": [
    {
     "data": {
      "image/png": "[encoded data removed]",
      "text/plain": [
       "<Figure size 89.8308x129.921 with 1 Axes>"
      ]
     },
     "metadata": {},
     "output_type": "display_data"
    }
   ],
   "source": [
    "qc = QCircuit(2)\n",
    "qc.barrier()\n",
    "qc.draw()"
   ]
  },
  {
   "cell_type": "markdown",
   "id": "101b3296-b349-4478-8b1f-fb0a6e26d2cc",
   "metadata": {},
   "source": [
    "```\n",
    "API:\n",
    "   barrier()\n",
    "```"
   ]
  },
  {
   "cell_type": "code",
   "execution_count": null,
   "id": "42dba0b8-c3a0-4688-881b-88d7db4fd60e",
   "metadata": {},
   "outputs": [],
   "source": []
  }
 ],
 "metadata": {
  "kernelspec": {
   "display_name": "Python 3 (ipykernel)",
   "language": "python",
   "name": "python3"
  },
  "language_info": {
   "codemirror_mode": {
    "name": "ipython",
    "version": 3
   },
   "file_extension": ".py",
   "mimetype": "text/x-python",
   "name": "python",
   "nbconvert_exporter": "python",
   "pygments_lexer": "ipython3",
   "version": "3.12.8"
  }
 },
 "nbformat": 4,
 "nbformat_minor": 5
}
