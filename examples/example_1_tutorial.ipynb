{
 "cells": [
  {
   "cell_type": "code",
   "execution_count": 1,
   "id": "bd2b1c24-9759-43e6-82b4-595c3c5c2c2c",
   "metadata": {},
   "outputs": [],
   "source": [
    "# This cell is needed if running from source directory without installing TinyQsim\n",
    "import sys, os\n",
    "sys.path.append(os.path.abspath('..'))"
   ]
  },
  {
   "cell_type": "markdown",
   "id": "9dee3c75-6e56-4456-9d06-e4005fe1098d",
   "metadata": {},
   "source": [
    "## Example 1: Tutorial Introduction to TinyQsim"
   ]
  },
  {
   "cell_type": "markdown",
   "id": "1af613bc-9314-4297-ae12-53bbf6adf4ef",
   "metadata": {},
   "source": [
    "### Purpose\n",
    "\n",
    "This tutorial uses the simple example of a 2-qubit entangled state to demostrate some of the basic features of TinyQsim, including:\n",
    "- Creating a quantum circuit\n",
    "- Adding gates to the circuit\n",
    "- Examining the quantum state\n",
    "- Measuring one or more qubits\n",
    "- Printing probabilities of measurement outcomes\n",
    "- Printing counts of each state for a number of runs\n",
    "- Plotting probabilities and counts as histograms"
   ]
  },
  {
   "cell_type": "markdown",
   "id": "43327324-036f-452b-9cad-33e2b3131293",
   "metadata": {},
   "source": [
    "### Creating a Quantum Circuit\n",
    "\n",
    "We will start by creating a quantum circuit with 2 qubits. By default, the circuit is initialized with all qubits equal to $\\ket{0}$. If the option `init='random'` is given, the circuit is initialized with a random quantum state."
   ]
  },
  {
   "cell_type": "code",
   "execution_count": 2,
   "id": "23cea502-f0f8-478b-bcb5-a503e4a88bb3",
   "metadata": {},
   "outputs": [],
   "source": [
    "from tinyqsim.qcircuit import QCircuit\n",
    "\n",
    "qc = QCircuit(2)  # State = |00>"
   ]
  },
  {
   "cell_type": "markdown",
   "id": "67b048a2-9001-4c99-9677-ab5f33af95c4",
   "metadata": {},
   "source": [
    "The 'qc.state_vector' property can be used to peek at the quantum state. The state is not something that is observable in a real quantum system but we can see it in a simulation, which is very useful for understanding what is happening."
   ]
  },
  {
   "cell_type": "code",
   "execution_count": 3,
   "id": "db8983ca-246a-4b3e-bbbf-d2903f9d97e9",
   "metadata": {},
   "outputs": [
    {
     "name": "stdout",
     "output_type": "stream",
     "text": [
      "[1 0 0 0]\n"
     ]
    }
   ],
   "source": [
    "print(qc.state_vector)"
   ]
  },
  {
   "cell_type": "markdown",
   "id": "e6fc5576-a5c7-45f7-ac07-178130923060",
   "metadata": {},
   "source": [
    "The 4 elements of the state correspond to the projections onto the 4 orthogonal basis vectors $\\ket{00}, \\ket{01}, \\ket{10}, \\ket{11}$, so the state in this case is $\\ket{00}$. \n",
    "\n",
    "It is easier to see that this vector corresponds to the state $\\ket{00}$ if we use the 'components' method. This just prints values that are non-zero and it returns them as a dictionary of key-value pairs with the key corresponding to the label of the ket notation:"
   ]
  },
  {
   "cell_type": "code",
   "execution_count": 4,
   "id": "c04b3c4c-69ee-41c9-83f6-e2135fdc4551",
   "metadata": {},
   "outputs": [
    {
     "name": "stdout",
     "output_type": "stream",
     "text": [
      "{'00': (1+0j)}\n"
     ]
    }
   ],
   "source": [
    "print(qc.components())"
   ]
  },
  {
   "cell_type": "markdown",
   "id": "3d5ad8bf-3708-437d-87a1-c924cbe4d570",
   "metadata": {},
   "source": [
    "### Entangling the Qubits"
   ]
  },
  {
   "cell_type": "markdown",
   "id": "6c971b0d-c5f6-43b4-b352-0da382e9ca0e",
   "metadata": {},
   "source": [
    "The two qubits can be entangled using a Hadamard (H) gate and a controlled-NOT (CX) gate.\n",
    "\n",
    "We will first add an X gate to configure the initial state by flipping qubit 1."
   ]
  },
  {
   "cell_type": "code",
   "execution_count": 5,
   "id": "bb47b4b0-9381-43be-9abd-7ce095123587",
   "metadata": {},
   "outputs": [
    {
     "data": {
      "image/png": "[encoded data removed]",
      "text/plain": [
       "<Figure size 165.354x129.921 with 1 Axes>"
      ]
     },
     "metadata": {},
     "output_type": "display_data"
    }
   ],
   "source": [
    "qc.x(1)      # Configure initial state\n",
    "qc.h(0)      # Hadamard gate on qubit 0\n",
    "qc.cx(0, 1)  # CX (controlled-NOT) gate\n",
    "qc.draw()    # Draw the circuit"
   ]
  },
  {
   "cell_type": "markdown",
   "id": "386dae92-e153-4a82-ac76-91648fb437d2",
   "metadata": {},
   "source": [
    "The Hadamard gate creates an equal superposition of $\\ket{0}$ and $\\ket{1}$:\n",
    "\n",
    "$\\qquad H \\ket{0} = \\frac{1}{\\sqrt{2}}\\ket{0} + \\frac{1}{\\sqrt{2}}\\ket{1}$"
   ]
  },
  {
   "cell_type": "markdown",
   "id": "180f9573-58c5-445d-9e91-ea90af3c1e4c",
   "metadata": {},
   "source": [
    "The CX gate applies an X operation to the second input if the first input is $\\ket{1}$. However, the first input of the CX gate is in a superposition, so the output is also in a superposition: \n",
    "\n",
    "$\\begin{align*}\n",
    "\\qquad\\ket{\\psi}&={\\scriptsize\\frac{1}{\\sqrt{2}}}\\ket{0}(X\\ket{0}) + {\\scriptsize\\frac{1}{\\sqrt{2}}}\\ket{1} (X (X\\ket{0}))\\\\\n",
    "&= {\\scriptsize\\frac{1}{\\sqrt{2}}}\\ket{01} + {\\scriptsize\\frac{1}{\\sqrt{2}}}\\ket{10} )\n",
    "\\end{align*}\n",
    "$"
   ]
  },
  {
   "cell_type": "markdown",
   "id": "229219e4-e1a5-41a8-8298-cf7db1845d4c",
   "metadata": {},
   "source": [
    "If we print the new state, we can see that it agrees:"
   ]
  },
  {
   "cell_type": "code",
   "execution_count": 6,
   "id": "cae2f4c9-2dce-4554-8bc7-bbc45a640052",
   "metadata": {},
   "outputs": [
    {
     "name": "stdout",
     "output_type": "stream",
     "text": [
      "{'01': (0.70711+0j), '10': (0.70711+0j)}\n"
     ]
    }
   ],
   "source": [
    "print(qc.components())"
   ]
  },
  {
   "cell_type": "markdown",
   "id": "37a401b0-c1fb-40d0-9098-397427a5c5bb",
   "metadata": {},
   "source": [
    "This state can be written as $\\frac{1}{\\sqrt{2}}\\ket{01} + \\frac{1}{\\sqrt{2}}\\ket{10}$."
   ]
  },
  {
   "cell_type": "markdown",
   "id": "b2483b3f-5773-4379-ae99-b0278f68b4ba",
   "metadata": {},
   "source": [
    "The state is entangled because the two qubits no longer have independent states. If we measure one of the two qubits, the result will have a 50% probability of being a 0 or 1, but the other qubit with then necessarily have the opposite value, even if we haven't measured it.\n",
    "\n",
    "If we had omitted the X gate on qubit 1, we would have obtained a different entanglement where the two qubits had the same state instead of opposite states:\n",
    "\n",
    "$\\qquad\\ket{\\psi}= \\frac{1}{\\sqrt{2}}\\ket{00} + \\frac{1}{\\sqrt{2}}\\ket{11} )$"
   ]
  },
  {
   "cell_type": "markdown",
   "id": "0d8c6ce9-a25c-4475-9179-baeca1254848",
   "metadata": {},
   "source": [
    "### Probabilities"
   ]
  },
  {
   "cell_type": "markdown",
   "id": "f0714aa6-bea5-4b7a-99b6-5703120b5fb8",
   "metadata": {},
   "source": [
    "The probabilities are the squares of the absolute values of the complex amplitudes, in this case $[0, \\frac{1}{2},  \\frac{1}{2}, 0]$. We can print the probabilities directly using the probabilities() method. By default, entries with zero probabilities are not included but can be added using the 'include_zeros' option."
   ]
  },
  {
   "cell_type": "code",
   "execution_count": 7,
   "id": "f702b7e6-b662-4456-9846-0c15af35dc87",
   "metadata": {},
   "outputs": [
    {
     "name": "stdout",
     "output_type": "stream",
     "text": [
      "{'01': 0.5, '10': 0.5}\n"
     ]
    }
   ],
   "source": [
    "print(qc.probabilities())"
   ]
  },
  {
   "cell_type": "code",
   "execution_count": 8,
   "id": "2d02d8fc-02c3-464d-a55d-b8efdbf13a13",
   "metadata": {},
   "outputs": [
    {
     "name": "stdout",
     "output_type": "stream",
     "text": [
      "{'00': 0.0, '01': 0.5, '10': 0.5, '11': 0.0}\n"
     ]
    }
   ],
   "source": [
    "print(qc.probabilities(include_zeros=True))"
   ]
  },
  {
   "cell_type": "markdown",
   "id": "459445fd-340a-49fc-8711-56f25735b08e",
   "metadata": {},
   "source": [
    "Alternatively, the probabilities can be displayed as a histogram:"
   ]
  },
  {
   "cell_type": "code",
   "execution_count": 9,
   "id": "33ad9318-4d6b-4627-b0f2-e64b4648863f",
   "metadata": {},
   "outputs": [
    {
     "data": {
      "image/png": "[encoded data removed]",
      "text/plain": [
       "<Figure size 500x250 with 1 Axes>"
      ]
     },
     "metadata": {},
     "output_type": "display_data"
    }
   ],
   "source": [
    "qc.plot_probabilities()"
   ]
  },
  {
   "cell_type": "markdown",
   "id": "cc890eff-0d06-42ac-a94f-12c84f5f85b6",
   "metadata": {},
   "source": [
    "### Measurement"
   ]
  },
  {
   "cell_type": "markdown",
   "id": "36b024b6-ffb4-4f47-aedc-b6ccc5ea2d2e",
   "metadata": {},
   "source": [
    "When we measure the state of a real quantum system, the state collapses into one of the basis states, with the outcome weighted according to the probabilites. In TinyQsim, we can perform such a measurement using the 'measure' method. The qubits to be measured can be given as an argument list or, if left blank, all qubits will be measured.\n",
    "\n",
    "Let us measure qubit 0 of our entangled state:"
   ]
  },
  {
   "cell_type": "code",
   "execution_count": 10,
   "id": "1cf106b8-1f1b-4ac9-9776-9c17dc74d1d4",
   "metadata": {},
   "outputs": [
    {
     "name": "stdout",
     "output_type": "stream",
     "text": [
      "Measured qubits[0] -> [0]\n"
     ]
    }
   ],
   "source": [
    "qc.measure([0])"
   ]
  },
  {
   "cell_type": "markdown",
   "id": "9f967ca7-4030-4809-97e7-ae1ec9cc6713",
   "metadata": {},
   "source": [
    "If we now look at the state again, we see that the state has collapsed to either the basis state $\\ket{01}$ or $\\ket{10}$:"
   ]
  },
  {
   "cell_type": "code",
   "execution_count": 11,
   "id": "8b05d2b7-3252-435e-a130-b1e319b96b23",
   "metadata": {},
   "outputs": [
    {
     "name": "stdout",
     "output_type": "stream",
     "text": [
      "{'01': (1+0j)}\n"
     ]
    }
   ],
   "source": [
    "print(qc.components())"
   ]
  },
  {
   "cell_type": "markdown",
   "id": "293dbb8d-fd80-445c-b165-c971aa04ee16",
   "metadata": {},
   "source": [
    "Qubit 1 has collapsed to the opposite state to qubit 0 even though we only measured qubit 0. We can confirm this by measuring qubit 1:"
   ]
  },
  {
   "cell_type": "code",
   "execution_count": 12,
   "id": "bd29869b-dc9e-4bb0-89b9-8db596b99414",
   "metadata": {},
   "outputs": [
    {
     "name": "stdout",
     "output_type": "stream",
     "text": [
      "Measured qubits[1] -> [1]\n"
     ]
    }
   ],
   "source": [
    "qc.measure([1])"
   ]
  },
  {
   "cell_type": "markdown",
   "id": "f7964847-d892-49b0-beb1-45ba57bed8f7",
   "metadata": {},
   "source": [
    "The measurements are shown as meters in the circuit schematic:"
   ]
  },
  {
   "cell_type": "code",
   "execution_count": 13,
   "id": "4a028019-6d7f-4be2-809f-8a608f5735da",
   "metadata": {},
   "outputs": [
    {
     "data": {
      "image/png": "[encoded data removed]",
      "text/plain": [
       "<Figure size 236.22x129.921 with 1 Axes>"
      ]
     },
     "metadata": {},
     "output_type": "display_data"
    }
   ],
   "source": [
    "qc.draw()"
   ]
  },
  {
   "cell_type": "markdown",
   "id": "2869917a-dfe8-4eaa-8d72-614fad72591e",
   "metadata": {},
   "source": [
    "### Counts"
   ]
  },
  {
   "cell_type": "markdown",
   "id": "4d1deb75-6bab-46a1-b121-e3c19c8c4fe1",
   "metadata": {},
   "source": [
    "We can't measure the probabilities directly with a real quantum computer, but we can run the quantum program (experiment) many times and count the frequency with which each state occurs. As the number of runs increases, this approaches the true probabilities. In a real system we have to reinitialize the initial state and re-run the whole experiment each time. We can't just repeat the measurement because the first measurement collapses the state and so all subsequent measurements will return the same result.\n",
    "\n",
    "TinyQsim provides a 'counts' method that allows us to simulate such as experiment for a specified number of runs. However, we first need to recreate our quantum circuit as we have just collapsed the state by calling 'measure':"
   ]
  },
  {
   "cell_type": "code",
   "execution_count": 14,
   "id": "444b337e-20bd-46f4-868e-2fa8e08412d6",
   "metadata": {},
   "outputs": [],
   "source": [
    "qc = QCircuit(2)\n",
    "qc.x(1)\n",
    "qc.h(0)\n",
    "qc.cx(0, 1)"
   ]
  },
  {
   "cell_type": "markdown",
   "id": "063d42ef-6f96-4fd7-8baa-7268abc18dd5",
   "metadata": {},
   "source": [
    "We can now use 'counts' to perform a repeated experiment. By default, the experiment runs 1000 times. Note that the frequencies are different each time we run 'counts':"
   ]
  },
  {
   "cell_type": "code",
   "execution_count": 15,
   "id": "8cd9bfdc-ee9c-4370-8188-766763f96145",
   "metadata": {},
   "outputs": [
    {
     "name": "stdout",
     "output_type": "stream",
     "text": [
      "{'01': 499, '10': 501}\n",
      "{'01': 493, '10': 507}\n",
      "{'01': 520, '10': 480}\n"
     ]
    }
   ],
   "source": [
    "print(qc.counts())\n",
    "print(qc.counts())\n",
    "print(qc.counts())"
   ]
  },
  {
   "cell_type": "markdown",
   "id": "84e9fd3a-3273-4e9d-8bb0-85211cdd7e34",
   "metadata": {},
   "source": [
    "The 'counts' method performs a 'what-if' measurement that does not collapse the state.\n",
    "\n",
    "Alternatively, counts can be displayed as a histogram:"
   ]
  },
  {
   "cell_type": "code",
   "execution_count": 16,
   "id": "5a29d5d5-1677-4163-a0bf-5b739341c04e",
   "metadata": {},
   "outputs": [
    {
     "data": {
      "image/png": "[encoded data removed]",
      "text/plain": [
       "<Figure size 500x250 with 1 Axes>"
      ]
     },
     "metadata": {},
     "output_type": "display_data"
    }
   ],
   "source": [
    "qc.plot_counts()"
   ]
  },
  {
   "cell_type": "markdown",
   "id": "56449eb1-7a4d-4eb1-8d18-9b92d6a993d1",
   "metadata": {},
   "source": [
    "This is similar to the probability histogram except that it reflects the random nature of quantum measurements.\n",
    "\n",
    "Although making quantum measurements is the only way to get a result on a real quantum computer, the probabilities are often all we need when using a simulator. They tell us the expected outcome if we were to run the program many times."
   ]
  }
 ],
 "metadata": {
  "kernelspec": {
   "display_name": "Python 3 (ipykernel)",
   "language": "python",
   "name": "python3"
  },
  "language_info": {
   "codemirror_mode": {
    "name": "ipython",
    "version": 3
   },
   "file_extension": ".py",
   "mimetype": "text/x-python",
   "name": "python",
   "nbconvert_exporter": "python",
   "pygments_lexer": "ipython3",
   "version": "3.12.3"
  }
 },
 "nbformat": 4,
 "nbformat_minor": 5
}
