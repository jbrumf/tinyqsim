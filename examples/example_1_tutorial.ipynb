{
 "cells": [
  {
   "cell_type": "code",
   "execution_count": 1,
   "id": "bd2b1c24-9759-43e6-82b4-595c3c5c2c2c",
   "metadata": {},
   "outputs": [],
   "source": [
    "# This cell is needed if running from source directory without installing TinyQsim\n",
    "import sys, os\n",
    "sys.path.append(os.path.abspath('..'))"
   ]
  },
  {
   "cell_type": "markdown",
   "id": "9dee3c75-6e56-4456-9d06-e4005fe1098d",
   "metadata": {},
   "source": [
    "## Example 1: Tutorial Introduction to TinyQsim"
   ]
  },
  {
   "cell_type": "markdown",
   "id": "1af613bc-9314-4297-ae12-53bbf6adf4ef",
   "metadata": {},
   "source": [
    "### Purpose\n",
    "\n",
    "This tutorial uses the simple example of a 2-qubit entangled state to demostrate some of the basic features of TinyQsim, including:\n",
    "- Creating a quantum circuit\n",
    "- Adding gates to the circuit\n",
    "- Examining the quantum state\n",
    "- Measuring one or more qubits\n",
    "- Printing probabilities of measurement outcomes\n",
    "- Printing counts of each state for a number of runs\n",
    "- Plotting probabilities and counts as histograms"
   ]
  },
  {
   "cell_type": "markdown",
   "id": "e914498b-8c98-475b-8f11-aa5096a4b77e",
   "metadata": {},
   "source": [
    "### Creating a Quantum Circuit"
   ]
  },
  {
   "cell_type": "markdown",
   "id": "2f60430c-02d3-4899-83b8-4dca947114d1",
   "metadata": {},
   "source": [
    "The first step is to import the TinyQsim components that we will need. For simple examples, the following is sufficient:"
   ]
  },
  {
   "cell_type": "code",
   "execution_count": 2,
   "id": "4b908def-a5c4-4372-ac65-cf676cb9aac2",
   "metadata": {},
   "outputs": [],
   "source": [
    "from tinyqsim.qcircuit import QCircuit"
   ]
  },
  {
   "cell_type": "markdown",
   "id": "5cda1d4a-5273-453b-a3ee-0ef0cc3c49a3",
   "metadata": {},
   "source": [
    "A quantum circuit with 2 qubits can then be created as follows. By default, the circuit is initialized with all qubits equal to $\\ket{0}$."
   ]
  },
  {
   "cell_type": "code",
   "execution_count": 3,
   "id": "23cea502-f0f8-478b-bcb5-a503e4a88bb3",
   "metadata": {},
   "outputs": [],
   "source": [
    "qc = QCircuit(2)  # State = |00>"
   ]
  },
  {
   "cell_type": "markdown",
   "id": "67b048a2-9001-4c99-9677-ab5f33af95c4",
   "metadata": {},
   "source": [
    "The 'qc.state_vector' property can be used to peek at the quantum state. The state is not something that is observable in a real quantum system but we can see it in a simulation, which is very useful for understanding what is happening."
   ]
  },
  {
   "cell_type": "code",
   "execution_count": 4,
   "id": "db8983ca-246a-4b3e-bbbf-d2903f9d97e9",
   "metadata": {},
   "outputs": [
    {
     "name": "stdout",
     "output_type": "stream",
     "text": [
      "[1 0 0 0]\n"
     ]
    }
   ],
   "source": [
    "print(qc.state_vector)"
   ]
  },
  {
   "cell_type": "markdown",
   "id": "e6fc5576-a5c7-45f7-ac07-178130923060",
   "metadata": {},
   "source": [
    "The 4 elements of the state correspond to the projections onto the 4 orthogonal basis vectors $\\ket{00}, \\ket{01}, \\ket{10}, \\ket{11}$, so the state in this case is $\\ket{00}$. \n",
    "\n",
    "It is easier to see that this vector corresponds to the state $\\ket{00}$ if we use the 'components' method. This just prints values that are non-zero and it returns them as a dictionary of key-value pairs with the key corresponding to the label of the ket notation:"
   ]
  },
  {
   "cell_type": "code",
   "execution_count": 5,
   "id": "c04b3c4c-69ee-41c9-83f6-e2135fdc4551",
   "metadata": {},
   "outputs": [
    {
     "data": {
      "text/plain": [
       "{'00': 1}"
      ]
     },
     "execution_count": 5,
     "metadata": {},
     "output_type": "execute_result"
    }
   ],
   "source": [
    "qc.components()"
   ]
  },
  {
   "cell_type": "markdown",
   "id": "3d5ad8bf-3708-437d-87a1-c924cbe4d570",
   "metadata": {},
   "source": [
    "### Entangling the Qubits"
   ]
  },
  {
   "cell_type": "markdown",
   "id": "6c971b0d-c5f6-43b4-b352-0da382e9ca0e",
   "metadata": {},
   "source": [
    "The two qubits can be entangled using a Hadamard (H) gate and a controlled-NOT (CX) gate.\n",
    "\n",
    "We will first add an X gate to configure the initial state by flipping qubit 1."
   ]
  },
  {
   "cell_type": "code",
   "execution_count": 6,
   "id": "bb47b4b0-9381-43be-9abd-7ce095123587",
   "metadata": {},
   "outputs": [
    {
     "data": {
      "image/png": "[encoded data removed]",
      "text/plain": [
       "<Figure size 148.047x129.921 with 1 Axes>"
      ]
     },
     "metadata": {},
     "output_type": "display_data"
    }
   ],
   "source": [
    "qc.x(1)      # Configure initial state\n",
    "qc.h(0)      # Hadamard gate on qubit 0\n",
    "qc.cx(0, 1)  # CX (controlled-NOT) gate\n",
    "qc.draw()    # Draw the circuit"
   ]
  },
  {
   "cell_type": "markdown",
   "id": "386dae92-e153-4a82-ac76-91648fb437d2",
   "metadata": {},
   "source": [
    "The Hadamard gate creates an equal superposition of $\\ket{0}$ and $\\ket{1}$:\n",
    "\n",
    "$\\qquad H \\ket{0} = \\frac{1}{\\sqrt{2}}\\ket{0} + \\frac{1}{\\sqrt{2}}\\ket{1}$"
   ]
  },
  {
   "cell_type": "markdown",
   "id": "180f9573-58c5-445d-9e91-ea90af3c1e4c",
   "metadata": {},
   "source": [
    "The CX gate applies an X operation to the second input if the first input is $\\ket{1}$. However, the first input of the CX gate is in a superposition, so the output is also in a superposition: \n",
    "\n",
    "$\\begin{align*}\n",
    "\\qquad\\ket{\\psi}&={\\scriptsize\\frac{1}{\\sqrt{2}}}\\ket{0}(X\\ket{0}) + {\\scriptsize\\frac{1}{\\sqrt{2}}}\\ket{1} (X (X\\ket{0}))\\\\\n",
    "&= {\\scriptsize\\frac{1}{\\sqrt{2}}}\\ket{01} + {\\scriptsize\\frac{1}{\\sqrt{2}}}\\ket{10} )\n",
    "\\end{align*}\n",
    "$"
   ]
  },
  {
   "cell_type": "markdown",
   "id": "229219e4-e1a5-41a8-8298-cf7db1845d4c",
   "metadata": {},
   "source": [
    "If we print the new state, we can see that it agrees:"
   ]
  },
  {
   "cell_type": "code",
   "execution_count": 7,
   "id": "cae2f4c9-2dce-4554-8bc7-bbc45a640052",
   "metadata": {},
   "outputs": [
    {
     "data": {
      "text/plain": [
       "{'01': 0.70711, '10': 0.70711}"
      ]
     },
     "execution_count": 7,
     "metadata": {},
     "output_type": "execute_result"
    }
   ],
   "source": [
    "qc.components()"
   ]
  },
  {
   "cell_type": "markdown",
   "id": "37a401b0-c1fb-40d0-9098-397427a5c5bb",
   "metadata": {},
   "source": [
    "This state can be written as $\\frac{1}{\\sqrt{2}}\\ket{01} + \\frac{1}{\\sqrt{2}}\\ket{10}$."
   ]
  },
  {
   "cell_type": "markdown",
   "id": "b2483b3f-5773-4379-ae99-b0278f68b4ba",
   "metadata": {},
   "source": [
    "The state is entangled because the two qubits no longer have independent states. If we measure one of the two qubits, the result will have a 50% probability of being a 0 or 1, but the other qubit with then necessarily have the opposite value, even if we haven't measured it.\n",
    "\n",
    "If we had omitted the X gate on qubit 1, we would have obtained a different entanglement where the two qubits had the same state instead of opposite states:\n",
    "\n",
    "$\\qquad\\ket{\\psi}= \\frac{1}{\\sqrt{2}}\\ket{00} + \\frac{1}{\\sqrt{2}}\\ket{11} )$"
   ]
  },
  {
   "cell_type": "markdown",
   "id": "0d8c6ce9-a25c-4475-9179-baeca1254848",
   "metadata": {},
   "source": [
    "### Probabilities"
   ]
  },
  {
   "cell_type": "markdown",
   "id": "f0714aa6-bea5-4b7a-99b6-5703120b5fb8",
   "metadata": {},
   "source": [
    "The probabilities of different measurement outcomes are the squares of the absolute values of the complex amplitudes, which in this case are $[0, \\frac{1}{2},  \\frac{1}{2}, 0]$. We can print the probabilities directly using the probabilities() method. By default, entries with zero probabilities are not included but can be added using the 'include_zeros' option."
   ]
  },
  {
   "cell_type": "code",
   "execution_count": 8,
   "id": "f702b7e6-b662-4456-9846-0c15af35dc87",
   "metadata": {},
   "outputs": [
    {
     "data": {
      "text/plain": [
       "{'01': 0.5, '10': 0.5}"
      ]
     },
     "execution_count": 8,
     "metadata": {},
     "output_type": "execute_result"
    }
   ],
   "source": [
    "qc.probabilities()"
   ]
  },
  {
   "cell_type": "code",
   "execution_count": 9,
   "id": "2d02d8fc-02c3-464d-a55d-b8efdbf13a13",
   "metadata": {},
   "outputs": [
    {
     "data": {
      "text/plain": [
       "{'00': 0.0, '01': 0.5, '10': 0.5, '11': 0.0}"
      ]
     },
     "execution_count": 9,
     "metadata": {},
     "output_type": "execute_result"
    }
   ],
   "source": [
    "qc.probabilities(include_zeros=True)"
   ]
  },
  {
   "cell_type": "markdown",
   "id": "459445fd-340a-49fc-8711-56f25735b08e",
   "metadata": {},
   "source": [
    "Alternatively, the probabilities can be displayed as a histogram:"
   ]
  },
  {
   "cell_type": "code",
   "execution_count": 10,
   "id": "33ad9318-4d6b-4627-b0f2-e64b4648863f",
   "metadata": {},
   "outputs": [
    {
     "data": {
      "image/png": "[encoded data removed]",
      "text/plain": [
       "<Figure size 500x120 with 1 Axes>"
      ]
     },
     "metadata": {},
     "output_type": "display_data"
    }
   ],
   "source": [
    "qc.plot_probabilities(height=0.6)"
   ]
  },
  {
   "cell_type": "markdown",
   "id": "be6a35c1-dad9-4d37-9fc8-13843dcfc673",
   "metadata": {},
   "source": [
    "The 'height' option scales the vertical height of the plot relative to its default size.\n",
    "\n",
    "The 'probabilities' and 'plot_probabilities' methods can be given a list of arguments specifying the qubits to be considered. The default is to use all qubits."
   ]
  },
  {
   "cell_type": "markdown",
   "id": "2869917a-dfe8-4eaa-8d72-614fad72591e",
   "metadata": {},
   "source": [
    "### Counts"
   ]
  },
  {
   "cell_type": "markdown",
   "id": "4d1deb75-6bab-46a1-b121-e3c19c8c4fe1",
   "metadata": {},
   "source": [
    "With a real quantum computer, the only way to get a result is to perform a quantum measurement that collapses the state to one of the basis states. Consequently, the quantum circuits typically include measurements on the final state of each qubit. Probabilities are estimated by running the program many times and looking at the frequencies of the various measurement outcomes.\n",
    "\n",
    "However, with a simulator we can calculate the probabilities directly without needing to run the circuit many times. This gives a big performance improvement, which  can be important when the circuit contains more than a few qubits.\n",
    "\n",
    "TinyQsim provides a 'counts' method that allows us to simulate multiple runs by performing a single run and then sampling the resulting probability distibution many times."
   ]
  },
  {
   "cell_type": "code",
   "execution_count": 11,
   "id": "444b337e-20bd-46f4-868e-2fa8e08412d6",
   "metadata": {},
   "outputs": [],
   "source": [
    "qc = QCircuit(2)\n",
    "qc.x(1)\n",
    "qc.h(0)\n",
    "qc.cx(0, 1)"
   ]
  },
  {
   "cell_type": "markdown",
   "id": "063d42ef-6f96-4fd7-8baa-7268abc18dd5",
   "metadata": {},
   "source": [
    "We can now use 'counts' to perform a repeated experiment. By default, the experiment runs 1000 times."
   ]
  },
  {
   "cell_type": "code",
   "execution_count": 12,
   "id": "8cd9bfdc-ee9c-4370-8188-766763f96145",
   "metadata": {},
   "outputs": [
    {
     "data": {
      "text/plain": [
       "{'01': 498, '10': 502}"
      ]
     },
     "execution_count": 12,
     "metadata": {},
     "output_type": "execute_result"
    }
   ],
   "source": [
    "qc.counts()"
   ]
  },
  {
   "cell_type": "markdown",
   "id": "84e9fd3a-3273-4e9d-8bb0-85211cdd7e34",
   "metadata": {},
   "source": [
    "Alternatively, the counts can be displayed as a histogram:"
   ]
  },
  {
   "cell_type": "code",
   "execution_count": 13,
   "id": "5a29d5d5-1677-4163-a0bf-5b739341c04e",
   "metadata": {},
   "outputs": [
    {
     "data": {
      "image/png": "[encoded data removed]",
      "text/plain": [
       "<Figure size 500x120 with 1 Axes>"
      ]
     },
     "metadata": {},
     "output_type": "display_data"
    }
   ],
   "source": [
    "qc.plot_counts(height=0.6)"
   ]
  },
  {
   "cell_type": "markdown",
   "id": "56449eb1-7a4d-4eb1-8d18-9b92d6a993d1",
   "metadata": {},
   "source": [
    "This is similar to the probability histogram except that it reflects the random nature of quantum measurements.\n",
    "\n",
    "By default, the 'counts' method does not collapse the state.\n",
    "\n",
    "Although making quantum measurements is the only way to get a result on a real quantum computer, the probabilities are often all we need when using a simulator. They tell us the expected outcome if we were to run the program many times.\n",
    "\n",
    "Note that, when using 'counts' in the default resampling mode, the circuit should not contain any measurement operations."
   ]
  },
  {
   "cell_type": "markdown",
   "id": "e0c33d06-8bdf-40f1-90d2-2b4f16092472",
   "metadata": {},
   "source": [
    "### Measurement"
   ]
  },
  {
   "cell_type": "markdown",
   "id": "31a6d411-22d0-4b8c-a2ff-aae6245a9599",
   "metadata": {},
   "source": [
    "When we measure the state of a real quantum system, the state collapses into one of the basis states, with the outcome weighted according to the probabilites. In TinyQsim, we can perform such a measurement using the 'measure' method. The qubits to be measured can be given as an argument list or, if left blank, all qubits are measured.\n",
    "\n",
    "Let us measure qubit 0 of our entangled state:"
   ]
  },
  {
   "cell_type": "code",
   "execution_count": 14,
   "id": "b28e7987-01ff-46da-8d09-fa0317224f2a",
   "metadata": {},
   "outputs": [
    {
     "name": "stdout",
     "output_type": "stream",
     "text": [
      "[1]\n"
     ]
    }
   ],
   "source": [
    "qc = QCircuit(2)\n",
    "qc.x(1)\n",
    "qc.h(0)\n",
    "qc.cx(0, 1)\n",
    "\n",
    "print(qc.measure(0))"
   ]
  },
  {
   "cell_type": "markdown",
   "id": "d7e8dafa-20c8-4db8-83ab-e59352b65583",
   "metadata": {},
   "source": [
    "If we now look at the state again, we see that the state has collapsed to either the basis state $\\ket{01}$ or $\\ket{10}$:"
   ]
  },
  {
   "cell_type": "code",
   "execution_count": 15,
   "id": "0164afae-2932-4057-b6fb-a08abca656aa",
   "metadata": {},
   "outputs": [
    {
     "data": {
      "text/plain": [
       "{'10': 1.0}"
      ]
     },
     "execution_count": 15,
     "metadata": {},
     "output_type": "execute_result"
    }
   ],
   "source": [
    "qc.components()"
   ]
  },
  {
   "cell_type": "markdown",
   "id": "8004e0ce-be60-47cb-81a6-6244091e17a7",
   "metadata": {},
   "source": [
    "Qubit 1 has collapsed to the opposite state to qubit 0 even though we only measured qubit 0. "
   ]
  },
  {
   "cell_type": "code",
   "execution_count": 16,
   "id": "ca3c96c5-0f37-4ea8-8573-93ff17eaa54e",
   "metadata": {},
   "outputs": [
    {
     "name": "stdout",
     "output_type": "stream",
     "text": [
      "[0]\n"
     ]
    }
   ],
   "source": [
    "print(qc.measure(1))"
   ]
  },
  {
   "cell_type": "markdown",
   "id": "5c21a482-e615-4083-85d5-abbcf643979a",
   "metadata": {},
   "source": [
    "The measurement operations are shown as meters in the circuit schematic:"
   ]
  },
  {
   "cell_type": "code",
   "execution_count": 17,
   "id": "6973fc41-ae55-45be-83fd-5f0240d653cb",
   "metadata": {},
   "outputs": [
    {
     "data": {
      "image/png": "[encoded data removed]",
      "text/plain": [
       "<Figure size 206.823x129.921 with 1 Axes>"
      ]
     },
     "metadata": {},
     "output_type": "display_data"
    }
   ],
   "source": [
    "qc.draw()"
   ]
  },
  {
   "cell_type": "markdown",
   "id": "350fa611-8e65-4fc9-bdaf-93a1a2be7137",
   "metadata": {},
   "source": [
    "The measurement results can also be obtained after the measurement by calling the 'results' method:"
   ]
  },
  {
   "cell_type": "code",
   "execution_count": 18,
   "id": "962d10a1-fdba-475f-be02-a15946c67a18",
   "metadata": {},
   "outputs": [
    {
     "data": {
      "text/plain": [
       "{0: 1, 1: 0}"
      ]
     },
     "execution_count": 18,
     "metadata": {},
     "output_type": "execute_result"
    }
   ],
   "source": [
    "qc.results()"
   ]
  },
  {
   "cell_type": "markdown",
   "id": "c780c76f-f93b-4505-84d2-70799abfdb39",
   "metadata": {},
   "source": [
    "This method returns the results as dictionary mapping the qubit number onto the measure value for all qubits that have been measured. If a qubit is measured more than once, the latest value is returned."
   ]
  },
  {
   "cell_type": "markdown",
   "id": "8b1d9f3a-f719-46ec-8ebc-a66402a2f376",
   "metadata": {},
   "source": [
    "### Obtaining Counts with Measurements"
   ]
  },
  {
   "cell_type": "code",
   "execution_count": 19,
   "id": "55590e9e-b45f-42c6-890b-78b9cec58b69",
   "metadata": {},
   "outputs": [
    {
     "data": {
      "image/png": "[encoded data removed]",
      "text/plain": [
       "<Figure size 206.823x129.921 with 1 Axes>"
      ]
     },
     "metadata": {},
     "output_type": "display_data"
    }
   ],
   "source": [
    "qc.draw()"
   ]
  },
  {
   "cell_type": "markdown",
   "id": "00f372ff-03b4-4322-a021-b079680dbfdd",
   "metadata": {},
   "source": [
    "If we just called 'counts' on the output of this circuit, we would only get one of the two possible outcomes, because the measurements have already collapsed the state. For example:"
   ]
  },
  {
   "cell_type": "code",
   "execution_count": 20,
   "id": "28ed6d31-d0e0-498d-beba-1175dd2b58f6",
   "metadata": {},
   "outputs": [
    {
     "data": {
      "image/png": "[encoded data removed]",
      "text/plain": [
       "<Figure size 500x120 with 1 Axes>"
      ]
     },
     "metadata": {},
     "output_type": "display_data"
    }
   ],
   "source": [
    "qc.plot_counts(runs=1000, height=0.6)"
   ]
  },
  {
   "cell_type": "markdown",
   "id": "aa535c36-aa91-4567-aaeb-d85905bc92f4",
   "metadata": {},
   "source": [
    "The best way to simulate measurement counts for this circuit is to omit the measurements from the outputs and call 'counts', as in the earlier example.\n",
    "\n",
    "Measurements at the end of a circuit can simply be removed. Mid-circuit measurements are more tricky, but the circuit can in principle always be rearranged into an equivalent circuit with all measurements at the end, using the *Principle of deferred measurement*. These measurements can then be removed.\n",
    "\n",
    "However, if we need to obtain counts from a circuit containing measurements, it is possible to call 'counts' with the option mode='repeat'. This re-\n",
    "runs the whole circuit many times, rather than running it once and resampling the output:"
   ]
  },
  {
   "cell_type": "code",
   "execution_count": 21,
   "id": "32b6afd2-87a6-4091-af57-74fbfcc216ba",
   "metadata": {},
   "outputs": [
    {
     "data": {
      "image/png": "[encoded data removed]",
      "text/plain": [
       "<Figure size 500x120 with 1 Axes>"
      ]
     },
     "metadata": {},
     "output_type": "display_data"
    }
   ],
   "source": [
    "qc = QCircuit(2)\n",
    "qc.x(1)\n",
    "qc.h(0)\n",
    "qc.cx(0, 1)\n",
    "qc.measure(0, 1)\n",
    "\n",
    "qc.plot_counts(mode='repeat', runs=1000, height=0.6)"
   ]
  },
  {
   "cell_type": "markdown",
   "id": "ca52014b-8cb8-455e-af97-dd39f1868a30",
   "metadata": {},
   "source": [
    "Performing 1000 runs on a circuit with only two qubits is not a problem, but the simulation may be around 1000 times slower than just using 'counts' without the measurement operations.\n",
    "\n",
    "There is also another way to perform multiple runs on circuits containing measurements, using the  option mode='measure':"
   ]
  },
  {
   "cell_type": "code",
   "execution_count": 22,
   "id": "f82b37bb-e8f9-496c-b577-9871210e97d1",
   "metadata": {},
   "outputs": [
    {
     "data": {
      "image/png": "[encoded data removed]",
      "text/plain": [
       "<Figure size 500x120 with 1 Axes>"
      ]
     },
     "metadata": {},
     "output_type": "display_data"
    }
   ],
   "source": [
    "qc = QCircuit(2)\n",
    "qc.x(1)\n",
    "qc.h(0)\n",
    "qc.cx(0, 1)\n",
    "qc.measure(0, 1)\n",
    "\n",
    "qc.plot_counts(mode='measure', runs=1000, height=0.6)"
   ]
  },
  {
   "cell_type": "markdown",
   "id": "44822319-9b62-45ea-baa2-cd35c785296e",
   "metadata": {},
   "source": [
    "For this simple example, it does not matter whether we use the mode 'repeat' or the mode 'measure'. The difference is as follows:\n",
    "\n",
    "#### mode='repeat'\n",
    "\n",
    "Perform multiple executions of the circuit, measuring the outputs once on each run. The circuit may contain measurement operations, including mid-circuit measurements. The results are samples of the output distribution rather than the measurement outcomes.\n",
    "\n",
    "#### mode='measure'\n",
    "\n",
    "Perform multiple executions of a circuit containing measurement operations. The results are counts of the measurement outcomes which are not necessarily on the circuit outputs. If there is no measurement \"gate\" on any of the requested qubits, the corresponding bit position in the output will be zero. If there are measurement operations on any qubits that are not requested, then their outcomes are not included in the output.\n",
    "\n",
    "The deafault mode is 'resample', which is used when the circuit does not contain any measurement operations:\n",
    "\n",
    "#### mode='resample'\n",
    "\n",
    "Perform a single execution of the circuit and sample the resulting probability distribution multiple times. The circuit should not contain any measurement operations. This mode is much faster than the 'repeat' and 'measure' modes."
   ]
  }
 ],
 "metadata": {
  "kernelspec": {
   "display_name": "Python 3 (ipykernel)",
   "language": "python",
   "name": "python3"
  },
  "language_info": {
   "codemirror_mode": {
    "name": "ipython",
    "version": 3
   },
   "file_extension": ".py",
   "mimetype": "text/x-python",
   "name": "python",
   "nbconvert_exporter": "python",
   "pygments_lexer": "ipython3",
   "version": "3.12.3"
  }
 },
 "nbformat": 4,
 "nbformat_minor": 5
}
